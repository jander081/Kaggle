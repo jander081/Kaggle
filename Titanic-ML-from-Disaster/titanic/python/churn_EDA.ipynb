{
 "cells": [
  {
   "cell_type": "markdown",
   "metadata": {},
   "source": [
    "## EDA"
   ]
  },
  {
   "cell_type": "code",
   "execution_count": 401,
   "metadata": {
    "collapsed": true
   },
   "outputs": [],
   "source": [
    "import numpy as np\n",
    "import pandas as pd\n",
    "\n",
    "from keras.models import Sequential\n",
    "from keras.models import Model\n",
    "\n",
    "from keras.layers import Input\n",
    "from keras.layers import Dense\n",
    "from keras.layers import Activation\n",
    "from keras.layers import BatchNormalization\n",
    "from keras.layers import Dropout\n",
    "from keras.layers import initializers\n",
    "from keras.layers import regularizers\n",
    "from keras.callbacks import EarlyStopping\n",
    "\n",
    "from keras.preprocessing.text import Tokenizer\n",
    "from keras.preprocessing import sequence\n",
    "from keras.models import Sequential\n",
    "from keras.layers.core import Dense, Activation, Flatten\n",
    "from keras.layers.wrappers import TimeDistributed\n",
    "from keras.layers.embeddings import Embedding\n",
    "from keras.layers.recurrent import LSTM\n",
    " \n",
    "\n",
    "from keras.optimizers import Adam, Adagrad, Adadelta\n",
    "\n",
    "import keras.backend as K\n",
    "from keras.utils.np_utils import to_categorical\n",
    "\n",
    "from sklearn.metrics import accuracy_score, confusion_matrix, classification_report\n",
    "from sklearn.model_selection import train_test_split, cross_val_score, StratifiedKFold\n",
    "from sklearn.preprocessing import StandardScaler, MinMaxScaler\n",
    "from sklearn.feature_selection import chi2, SelectKBest\n",
    "\n",
    "import statsmodels.formula.api as smf\n",
    "import statsmodels.api as sm\n",
    "import matplotlib as mpl\n",
    "import matplotlib.pyplot as plt\n",
    "import matplotlib.pylab as pylab\n",
    "import seaborn as sns\n",
    "%matplotlib inline\n"
   ]
  },
  {
   "cell_type": "code",
   "execution_count": 2,
   "metadata": {
    "collapsed": true
   },
   "outputs": [],
   "source": [
    "from numpy.random import seed\n",
    "seed(123)\n",
    "from tensorflow import set_random_seed\n",
    "set_random_seed(234)"
   ]
  },
  {
   "cell_type": "markdown",
   "metadata": {},
   "source": [
    "pandas has pivot tables - R probably does too\n"
   ]
  },
  {
   "cell_type": "code",
   "execution_count": 40,
   "metadata": {
    "collapsed": true
   },
   "outputs": [],
   "source": [
    "df = pd.read_csv(\"../Processed data/6_4.csv\")"
   ]
  },
  {
   "cell_type": "code",
   "execution_count": 41,
   "metadata": {},
   "outputs": [
    {
     "data": {
      "text/html": [
       "<div>\n",
       "<style scoped>\n",
       "    .dataframe tbody tr th:only-of-type {\n",
       "        vertical-align: middle;\n",
       "    }\n",
       "\n",
       "    .dataframe tbody tr th {\n",
       "        vertical-align: top;\n",
       "    }\n",
       "\n",
       "    .dataframe thead th {\n",
       "        text-align: right;\n",
       "    }\n",
       "</style>\n",
       "<table border=\"1\" class=\"dataframe\">\n",
       "  <thead>\n",
       "    <tr style=\"text-align: right;\">\n",
       "      <th></th>\n",
       "      <th>Unnamed: 0</th>\n",
       "      <th>Segment.Pd</th>\n",
       "      <th>Account.Manager.Pd</th>\n",
       "      <th>Underwriter.Pd</th>\n",
       "      <th>Master.Agent.Cd.Pd</th>\n",
       "      <th>Prime.Agent.Pd</th>\n",
       "      <th>Prime.Agent.Cd.Pd</th>\n",
       "      <th>Sales.Director.Pd</th>\n",
       "      <th>Underwriting.Director.Pd</th>\n",
       "      <th>Brick...Mortar.Location.Pd</th>\n",
       "      <th>...</th>\n",
       "      <th>Developed.Exposure</th>\n",
       "      <th>Developed.New.Business</th>\n",
       "      <th>Developed.Other</th>\n",
       "      <th>Developed.Rate</th>\n",
       "      <th>Developed.Retention</th>\n",
       "      <th>Developed.RPC</th>\n",
       "      <th>Developed.Written.Premium</th>\n",
       "      <th>Rate.Change</th>\n",
       "      <th>Total.Insured.Value</th>\n",
       "      <th>retention_percent</th>\n",
       "    </tr>\n",
       "  </thead>\n",
       "  <tbody>\n",
       "    <tr>\n",
       "      <th>0</th>\n",
       "      <td>1</td>\n",
       "      <td>Store</td>\n",
       "      <td>Croghan,Luz</td>\n",
       "      <td>Denney,Melanie</td>\n",
       "      <td>0NP553</td>\n",
       "      <td>MITCHELL REED &amp;SCHMITTEN</td>\n",
       "      <td>0NP553</td>\n",
       "      <td>Quayle,Mel</td>\n",
       "      <td>Vinge,Alan</td>\n",
       "      <td>MITCHELL REED &amp; SCHMITTEN INSURANCE INC</td>\n",
       "      <td>...</td>\n",
       "      <td>0.0</td>\n",
       "      <td>0</td>\n",
       "      <td>0.0</td>\n",
       "      <td>0.0</td>\n",
       "      <td>0.0</td>\n",
       "      <td>0.0</td>\n",
       "      <td>0.0</td>\n",
       "      <td>192.28</td>\n",
       "      <td>low</td>\n",
       "      <td>0.0</td>\n",
       "    </tr>\n",
       "  </tbody>\n",
       "</table>\n",
       "<p>1 rows × 38 columns</p>\n",
       "</div>"
      ],
      "text/plain": [
       "   Unnamed: 0 Segment.Pd Account.Manager.Pd  Underwriter.Pd  \\\n",
       "0           1      Store        Croghan,Luz  Denney,Melanie   \n",
       "\n",
       "  Master.Agent.Cd.Pd            Prime.Agent.Pd Prime.Agent.Cd.Pd  \\\n",
       "0             0NP553  MITCHELL REED &SCHMITTEN            0NP553   \n",
       "\n",
       "  Sales.Director.Pd Underwriting.Director.Pd  \\\n",
       "0        Quayle,Mel               Vinge,Alan   \n",
       "\n",
       "                Brick...Mortar.Location.Pd        ...         \\\n",
       "0  MITCHELL REED & SCHMITTEN INSURANCE INC        ...          \n",
       "\n",
       "  Developed.Exposure Developed.New.Business  Developed.Other Developed.Rate  \\\n",
       "0                0.0                      0              0.0            0.0   \n",
       "\n",
       "   Developed.Retention Developed.RPC Developed.Written.Premium Rate.Change  \\\n",
       "0                  0.0           0.0                       0.0      192.28   \n",
       "\n",
       "  Total.Insured.Value retention_percent  \n",
       "0                 low               0.0  \n",
       "\n",
       "[1 rows x 38 columns]"
      ]
     },
     "execution_count": 41,
     "metadata": {},
     "output_type": "execute_result"
    }
   ],
   "source": [
    "df.head(1)\n",
    "#df.columns"
   ]
  },
  {
   "cell_type": "code",
   "execution_count": 42,
   "metadata": {
    "collapsed": true
   },
   "outputs": [],
   "source": [
    "#df = df.drop(['Unnamed: 0'], axis = 1)"
   ]
  },
  {
   "cell_type": "code",
   "execution_count": 8,
   "metadata": {},
   "outputs": [
    {
     "data": {
      "text/plain": [
       "Index(['Segment.Pd', 'Account.Manager.Pd', 'Underwriter.Pd',\n",
       "       'Master.Agent.Cd.Pd', 'Prime.Agent.Pd', 'Prime.Agent.Cd.Pd',\n",
       "       'Sales.Director.Pd', 'Underwriting.Director.Pd',\n",
       "       'Brick...Mortar.Location.Pd', 'Sales.Executive.Pd', 'Pd.State.Cd',\n",
       "       'Hybrid.Territory', 'Hybrid.County', 'Hybrid.Zip',\n",
       "       'Construction.Type.Pd', 'Program.Pd', 'Program.Cd.Pd',\n",
       "       'Plan.Location.Pd', 'Master.Agent.Pd', 'Line', 'MonoMulti1',\n",
       "       'New.Renew.Ind', 'Quintile', 'Growth.Category', 'Industry.Grouping',\n",
       "       'Line.Tenure', 'Developed.Base', 'Developed.Exposure',\n",
       "       'Developed.New.Business', 'Developed.Other', 'Developed.Rate',\n",
       "       'Developed.Retention', 'Developed.RPC', 'Developed.Written.Premium',\n",
       "       'Rate.Change', 'Total.Insured.Value', 'retention_percent'],\n",
       "      dtype='object')"
      ]
     },
     "execution_count": 8,
     "metadata": {},
     "output_type": "execute_result"
    }
   ],
   "source": [
    "df.columns"
   ]
  },
  {
   "cell_type": "code",
   "execution_count": 81,
   "metadata": {
    "collapsed": true
   },
   "outputs": [],
   "source": [
    "junk = df[['Segment.Pd', 'Account.Manager.Pd', 'Underwriter.Pd', 'Master.Agent.Cd.Pd', 'Prime.Agent.Cd.Pd',\n",
    "          'Sales.Director.Pd', 'Underwriting.Director.Pd', 'Brick...Mortar.Location.Pd', 'Pd.State.Cd',\n",
    "          'Hybrid.Territory', 'Hybrid.Zip']]"
   ]
  },
  {
   "cell_type": "markdown",
   "metadata": {},
   "source": [
    "### Some manual cleaning"
   ]
  },
  {
   "cell_type": "code",
   "execution_count": 85,
   "metadata": {},
   "outputs": [
    {
     "data": {
      "text/plain": [
       "(200, 11)"
      ]
     },
     "execution_count": 85,
     "metadata": {},
     "output_type": "execute_result"
    }
   ],
   "source": [
    "junk.shape"
   ]
  },
  {
   "cell_type": "code",
   "execution_count": 83,
   "metadata": {},
   "outputs": [
    {
     "data": {
      "text/html": [
       "<div>\n",
       "<style scoped>\n",
       "    .dataframe tbody tr th:only-of-type {\n",
       "        vertical-align: middle;\n",
       "    }\n",
       "\n",
       "    .dataframe tbody tr th {\n",
       "        vertical-align: top;\n",
       "    }\n",
       "\n",
       "    .dataframe thead th {\n",
       "        text-align: right;\n",
       "    }\n",
       "</style>\n",
       "<table border=\"1\" class=\"dataframe\">\n",
       "  <thead>\n",
       "    <tr style=\"text-align: right;\">\n",
       "      <th></th>\n",
       "      <th>Segment.Pd</th>\n",
       "      <th>Account.Manager.Pd</th>\n",
       "      <th>Underwriter.Pd</th>\n",
       "      <th>Master.Agent.Cd.Pd</th>\n",
       "      <th>Prime.Agent.Cd.Pd</th>\n",
       "      <th>Sales.Director.Pd</th>\n",
       "      <th>Underwriting.Director.Pd</th>\n",
       "      <th>Brick...Mortar.Location.Pd</th>\n",
       "      <th>Pd.State.Cd</th>\n",
       "      <th>Hybrid.Territory</th>\n",
       "      <th>Hybrid.Zip</th>\n",
       "    </tr>\n",
       "  </thead>\n",
       "  <tbody>\n",
       "    <tr>\n",
       "      <th>0</th>\n",
       "      <td>Store</td>\n",
       "      <td>Croghan,Luz</td>\n",
       "      <td>Denney,Melanie</td>\n",
       "      <td>0NP553</td>\n",
       "      <td>0NP553</td>\n",
       "      <td>Quayle,Mel</td>\n",
       "      <td>Vinge,Alan</td>\n",
       "      <td>MITCHELL REED &amp; SCHMITTEN INSURANCE INC</td>\n",
       "      <td>western</td>\n",
       "      <td>3</td>\n",
       "      <td>98826</td>\n",
       "    </tr>\n",
       "    <tr>\n",
       "      <th>1</th>\n",
       "      <td>Office</td>\n",
       "      <td>Rossi,Judy</td>\n",
       "      <td>Rybeck,Chris</td>\n",
       "      <td>0CCJ01</td>\n",
       "      <td>0CCJ01</td>\n",
       "      <td>Quayle,Mel</td>\n",
       "      <td>Vinge,Alan</td>\n",
       "      <td>DML INSURANCE SERVICES</td>\n",
       "      <td>western</td>\n",
       "      <td>6</td>\n",
       "      <td>98021</td>\n",
       "    </tr>\n",
       "  </tbody>\n",
       "</table>\n",
       "</div>"
      ],
      "text/plain": [
       "  Segment.Pd Account.Manager.Pd  Underwriter.Pd Master.Agent.Cd.Pd  \\\n",
       "0      Store        Croghan,Luz  Denney,Melanie             0NP553   \n",
       "1     Office         Rossi,Judy    Rybeck,Chris             0CCJ01   \n",
       "\n",
       "  Prime.Agent.Cd.Pd Sales.Director.Pd Underwriting.Director.Pd  \\\n",
       "0            0NP553        Quayle,Mel               Vinge,Alan   \n",
       "1            0CCJ01        Quayle,Mel               Vinge,Alan   \n",
       "\n",
       "                Brick...Mortar.Location.Pd Pd.State.Cd  Hybrid.Territory  \\\n",
       "0  MITCHELL REED & SCHMITTEN INSURANCE INC     western                 3   \n",
       "1                   DML INSURANCE SERVICES     western                 6   \n",
       "\n",
       "   Hybrid.Zip  \n",
       "0       98826  \n",
       "1       98021  "
      ]
     },
     "execution_count": 83,
     "metadata": {},
     "output_type": "execute_result"
    }
   ],
   "source": [
    "junk.head(2) #master and agent are not always equal"
   ]
  },
  {
   "cell_type": "code",
   "execution_count": 84,
   "metadata": {
    "collapsed": true
   },
   "outputs": [],
   "source": [
    "junk = junk[0:200]\n",
    "\n",
    "y = df['New.Renew.Ind']\n",
    "\n",
    "y = y[0:200, ]\n",
    "\n",
    "y = pd.get_dummies(y, drop_first = True)\n",
    "\n",
    "y.head(2)"
   ]
  },
  {
   "cell_type": "code",
   "execution_count": 91,
   "metadata": {
    "collapsed": true
   },
   "outputs": [],
   "source": [
    "#test['combo'] = test['Account.Manager.Pd'] + \" \" + test['Segment.Pd']"
   ]
  },
  {
   "cell_type": "code",
   "execution_count": 92,
   "metadata": {},
   "outputs": [
    {
     "data": {
      "text/html": [
       "<div>\n",
       "<style scoped>\n",
       "    .dataframe tbody tr th:only-of-type {\n",
       "        vertical-align: middle;\n",
       "    }\n",
       "\n",
       "    .dataframe tbody tr th {\n",
       "        vertical-align: top;\n",
       "    }\n",
       "\n",
       "    .dataframe thead th {\n",
       "        text-align: right;\n",
       "    }\n",
       "</style>\n",
       "<table border=\"1\" class=\"dataframe\">\n",
       "  <thead>\n",
       "    <tr style=\"text-align: right;\">\n",
       "      <th></th>\n",
       "      <th>Segment.Pd</th>\n",
       "      <th>Account.Manager.Pd</th>\n",
       "      <th>Underwriter.Pd</th>\n",
       "      <th>Master.Agent.Cd.Pd</th>\n",
       "    </tr>\n",
       "  </thead>\n",
       "  <tbody>\n",
       "    <tr>\n",
       "      <th>0</th>\n",
       "      <td>Store</td>\n",
       "      <td>Croghan,Luz</td>\n",
       "      <td>Denney,Melanie</td>\n",
       "      <td>0NP553</td>\n",
       "    </tr>\n",
       "    <tr>\n",
       "      <th>1</th>\n",
       "      <td>Office</td>\n",
       "      <td>Rossi,Judy</td>\n",
       "      <td>Rybeck,Chris</td>\n",
       "      <td>0CCJ01</td>\n",
       "    </tr>\n",
       "  </tbody>\n",
       "</table>\n",
       "</div>"
      ],
      "text/plain": [
       "  Segment.Pd Account.Manager.Pd  Underwriter.Pd Master.Agent.Cd.Pd\n",
       "0      Store        Croghan,Luz  Denney,Melanie             0NP553\n",
       "1     Office         Rossi,Judy    Rybeck,Chris             0CCJ01"
      ]
     },
     "execution_count": 92,
     "metadata": {},
     "output_type": "execute_result"
    }
   ],
   "source": [
    "junk.iloc[:2, :4]"
   ]
  },
  {
   "cell_type": "code",
   "execution_count": 93,
   "metadata": {
    "collapsed": true
   },
   "outputs": [],
   "source": [
    "junk = junk.astype(str)"
   ]
  },
  {
   "cell_type": "code",
   "execution_count": 95,
   "metadata": {
    "collapsed": true
   },
   "outputs": [],
   "source": [
    "#junk = test.iloc[:,0:4].apply(lambda x: ' '.join(x), axis=1)"
   ]
  },
  {
   "cell_type": "code",
   "execution_count": 96,
   "metadata": {
    "collapsed": true
   },
   "outputs": [],
   "source": [
    "junk = junk.apply(lambda x: ' '.join(x), axis=1) "
   ]
  },
  {
   "cell_type": "code",
   "execution_count": 97,
   "metadata": {},
   "outputs": [
    {
     "name": "stdout",
     "output_type": "stream",
     "text": [
      "0    Store Croghan,Luz Denney,Melanie 0NP553 0NP553...\n",
      "dtype: object\n"
     ]
    },
    {
     "data": {
      "text/plain": [
       "(200,)"
      ]
     },
     "execution_count": 97,
     "metadata": {},
     "output_type": "execute_result"
    }
   ],
   "source": [
    "print(junk.head(1))\n",
    "junk.shape #should be a column vec"
   ]
  },
  {
   "cell_type": "code",
   "execution_count": 98,
   "metadata": {
    "collapsed": true
   },
   "outputs": [],
   "source": [
    "f = lambda name: name.replace(\",\", \" \").lower()\n"
   ]
  },
  {
   "cell_type": "code",
   "execution_count": 99,
   "metadata": {
    "collapsed": true
   },
   "outputs": [],
   "source": [
    "junk = junk.map(f)"
   ]
  },
  {
   "cell_type": "code",
   "execution_count": 128,
   "metadata": {},
   "outputs": [
    {
     "data": {
      "text/plain": [
       "0    store croghan luz denney melanie 0np553 0np553...\n",
       "1    office rossi judy rybeck chris 0ccj01 0ccj01 q...\n",
       "2    office mccomb jill fuss amanda 0g0355 0g3400 b...\n",
       "dtype: object"
      ]
     },
     "execution_count": 128,
     "metadata": {},
     "output_type": "execute_result"
    }
   ],
   "source": [
    "junk[0:3]"
   ]
  },
  {
   "cell_type": "code",
   "execution_count": 129,
   "metadata": {},
   "outputs": [
    {
     "data": {
      "text/plain": [
       "21"
      ]
     },
     "execution_count": 129,
     "metadata": {},
     "output_type": "execute_result"
    }
   ],
   "source": [
    "# find the max line length\n",
    "count = []\n",
    "for sent in range(len(junk)):\n",
    "    sent = len(junk[sent].split())\n",
    "    count.append(sent)\n",
    "      \n",
    "max(count)    \n",
    "    "
   ]
  },
  {
   "cell_type": "code",
   "execution_count": 130,
   "metadata": {
    "collapsed": true
   },
   "outputs": [],
   "source": [
    "token = Tokenizer(num_words = 21)"
   ]
  },
  {
   "cell_type": "code",
   "execution_count": 131,
   "metadata": {
    "collapsed": true
   },
   "outputs": [],
   "source": [
    "#token.fit_on_texts(['Store Croghan Luz Denney Melanie 0NP553', 'Office Rossi Judy Rybeck Chris 0CCJ01' ])\n",
    "#print(token.word_index)"
   ]
  },
  {
   "cell_type": "code",
   "execution_count": 132,
   "metadata": {
    "collapsed": true
   },
   "outputs": [],
   "source": [
    "token.fit_on_texts(junk)"
   ]
  },
  {
   "cell_type": "code",
   "execution_count": 133,
   "metadata": {},
   "outputs": [
    {
     "data": {
      "text/plain": [
       "dict"
      ]
     },
     "execution_count": 133,
     "metadata": {},
     "output_type": "execute_result"
    }
   ],
   "source": [
    "type(token.word_index)"
   ]
  },
  {
   "cell_type": "code",
   "execution_count": 136,
   "metadata": {},
   "outputs": [
    {
     "data": {
      "text/plain": [
       "785"
      ]
     },
     "execution_count": 136,
     "metadata": {},
     "output_type": "execute_result"
    }
   ],
   "source": [
    "dict = token.word_index\n",
    "max(dict.values())"
   ]
  },
  {
   "cell_type": "code",
   "execution_count": null,
   "metadata": {
    "collapsed": true
   },
   "outputs": [],
   "source": [
    "rev_dict = {}"
   ]
  },
  {
   "cell_type": "code",
   "execution_count": 71,
   "metadata": {
    "collapsed": true
   },
   "outputs": [],
   "source": [
    "#print(token.word_counts)"
   ]
  },
  {
   "cell_type": "code",
   "execution_count": 117,
   "metadata": {
    "collapsed": true
   },
   "outputs": [],
   "source": [
    "#X = token.texts_to_matrix(junk) #pay dirt"
   ]
  },
  {
   "cell_type": "code",
   "execution_count": 374,
   "metadata": {},
   "outputs": [
    {
     "data": {
      "text/plain": [
       "Index(['Segment.Pd', 'Account.Manager.Pd', 'Underwriter.Pd',\n",
       "       'Master.Agent.Cd.Pd', 'Prime.Agent.Pd', 'Prime.Agent.Cd.Pd',\n",
       "       'Sales.Director.Pd', 'Underwriting.Director.Pd',\n",
       "       'Brick...Mortar.Location.Pd', 'Sales.Executive.Pd', 'Pd.State.Cd',\n",
       "       'Hybrid.Territory', 'Hybrid.County', 'Hybrid.Zip',\n",
       "       'Construction.Type.Pd', 'Program.Pd', 'Program.Cd.Pd',\n",
       "       'Plan.Location.Pd', 'Master.Agent.Pd', 'Line', 'MonoMulti1',\n",
       "       'New.Renew.Ind', 'Quintile', 'Growth.Category', 'Industry.Grouping',\n",
       "       'Line.Tenure', 'Developed.Base', 'Developed.Exposure',\n",
       "       'Developed.New.Business', 'Developed.Other', 'Developed.Rate',\n",
       "       'Developed.Retention', 'Developed.RPC', 'Developed.Written.Premium',\n",
       "       'Rate.Change', 'Total.Insured.Value', 'retention_percent'],\n",
       "      dtype='object')"
      ]
     },
     "execution_count": 374,
     "metadata": {},
     "output_type": "execute_result"
    }
   ],
   "source": [
    "df.columns"
   ]
  },
  {
   "cell_type": "markdown",
   "metadata": {},
   "source": [
    "### Keras cleaning"
   ]
  },
  {
   "cell_type": "code",
   "execution_count": 209,
   "metadata": {
    "collapsed": true
   },
   "outputs": [],
   "source": [
    "from keras.preprocessing.sequence import pad_sequences\n",
    "from keras.layers import LSTM"
   ]
  },
  {
   "cell_type": "code",
   "execution_count": 375,
   "metadata": {
    "collapsed": true
   },
   "outputs": [],
   "source": [
    "junk = df[['Segment.Pd', 'Account.Manager.Pd', 'Underwriter.Pd', 'Master.Agent.Cd.Pd', 'Prime.Agent.Cd.Pd',\n",
    "          'Sales.Director.Pd', 'Underwriting.Director.Pd', 'Brick...Mortar.Location.Pd', 'Pd.State.Cd',\n",
    "          'Hybrid.Territory', 'Hybrid.Zip', 'Construction.Type.Pd', 'Program.Pd', 'Plan.Location.Pd',\n",
    "          'Line', 'MonoMulti1','New.Renew.Ind', 'Quintile', 'Growth.Category', 'Industry.Grouping']]"
   ]
  },
  {
   "cell_type": "code",
   "execution_count": 376,
   "metadata": {},
   "outputs": [
    {
     "data": {
      "text/plain": [
       "numpy.ndarray"
      ]
     },
     "execution_count": 376,
     "metadata": {},
     "output_type": "execute_result"
    }
   ],
   "source": [
    "y = df['New.Renew.Ind']\n",
    "\n",
    "#y = y[0:200, ]\n",
    "\n",
    "y = pd.get_dummies(y, drop_first = True)\n",
    "\n",
    "labels = np.asarray(y)\n",
    "\n",
    "type(labels)"
   ]
  },
  {
   "cell_type": "code",
   "execution_count": 377,
   "metadata": {},
   "outputs": [
    {
     "data": {
      "text/plain": [
       "(array([0, 1], dtype=uint8), array([ 554, 4959], dtype=int64))"
      ]
     },
     "execution_count": 377,
     "metadata": {},
     "output_type": "execute_result"
    }
   ],
   "source": [
    "np.unique(y, return_counts = True)"
   ]
  },
  {
   "cell_type": "code",
   "execution_count": 378,
   "metadata": {
    "collapsed": true
   },
   "outputs": [],
   "source": [
    "junk = junk.astype(str)\n",
    "junk = junk.apply(lambda x: ' '.join(x), axis=1) \n",
    "\n",
    "#junk = junk[0:200]"
   ]
  },
  {
   "cell_type": "code",
   "execution_count": 379,
   "metadata": {},
   "outputs": [
    {
     "data": {
      "text/plain": [
       "(5513,)"
      ]
     },
     "execution_count": 379,
     "metadata": {},
     "output_type": "execute_result"
    }
   ],
   "source": [
    "junk.shape"
   ]
  },
  {
   "cell_type": "code",
   "execution_count": 380,
   "metadata": {
    "collapsed": true
   },
   "outputs": [],
   "source": [
    "tokenizer = Tokenizer(num_words = None, filters='!\"#$%&()*+,-./:;<=>?@[\\]^_`{|}~', \n",
    "                      lower=True, split=' ') #this is default btw"
   ]
  },
  {
   "cell_type": "code",
   "execution_count": 381,
   "metadata": {
    "collapsed": true
   },
   "outputs": [],
   "source": [
    "tokenizer.fit_on_texts(junk)"
   ]
  },
  {
   "cell_type": "code",
   "execution_count": 382,
   "metadata": {},
   "outputs": [
    {
     "data": {
      "text/plain": [
       "<keras.preprocessing.text.Tokenizer at 0x21bf6a20>"
      ]
     },
     "execution_count": 382,
     "metadata": {},
     "output_type": "execute_result"
    }
   ],
   "source": [
    "tokenizer"
   ]
  },
  {
   "cell_type": "code",
   "execution_count": 383,
   "metadata": {
    "collapsed": true
   },
   "outputs": [],
   "source": [
    "sequences = tokenizer.texts_to_sequences(junk) # list"
   ]
  },
  {
   "cell_type": "code",
   "execution_count": 384,
   "metadata": {},
   "outputs": [
    {
     "name": "stdout",
     "output_type": "stream",
     "text": [
      "[[44, 74, 75, 115, 116, 680, 680, 23, 24, 18, 19, 1115, 1116, 1244, 10, 21, 2, 25, 1995, 34, 44, 7, 470, 17, 8, 3, 9, 3, 54, 1, 13, 4, 35, 70]]\n",
      "0    Store Croghan,Luz Denney,Melanie 0NP553 0NP553...\n",
      "dtype: object\n"
     ]
    }
   ],
   "source": [
    "# compare, just note that the cleaned data is now a keras object, Junk is not cleaned\n",
    "print(sequences[0:1])\n",
    "print(junk[0:1])"
   ]
  },
  {
   "cell_type": "code",
   "execution_count": 385,
   "metadata": {
    "collapsed": true
   },
   "outputs": [],
   "source": [
    "word_index = tokenizer.word_index # type = dict"
   ]
  },
  {
   "cell_type": "code",
   "execution_count": 266,
   "metadata": {
    "collapsed": true
   },
   "outputs": [],
   "source": [
    "#word_index"
   ]
  },
  {
   "cell_type": "code",
   "execution_count": 386,
   "metadata": {},
   "outputs": [
    {
     "name": "stdout",
     "output_type": "stream",
     "text": [
      "Found 4560 unique tokens.\n"
     ]
    }
   ],
   "source": [
    "print('Found {} unique tokens.'.format(len(word_index)))"
   ]
  },
  {
   "cell_type": "code",
   "execution_count": 387,
   "metadata": {
    "collapsed": true
   },
   "outputs": [],
   "source": [
    "data = pad_sequences(sequences, maxlen = None) #numpyarray of dim (samples, maxlen)"
   ]
  },
  {
   "cell_type": "code",
   "execution_count": 388,
   "metadata": {},
   "outputs": [
    {
     "data": {
      "text/plain": [
       "41"
      ]
     },
     "execution_count": 388,
     "metadata": {},
     "output_type": "execute_result"
    }
   ],
   "source": [
    "len(data[0])\n",
    "len(data[1]) #all elements are padded to the max length"
   ]
  },
  {
   "cell_type": "code",
   "execution_count": 389,
   "metadata": {},
   "outputs": [
    {
     "name": "stdout",
     "output_type": "stream",
     "text": [
      "Shape of data tensor: (5513, 41)\n",
      "Shape of label tensor: (5513, 1)\n"
     ]
    }
   ],
   "source": [
    "print('Shape of data tensor:', data.shape)\n",
    "print('Shape of label tensor:', labels.shape)"
   ]
  },
  {
   "cell_type": "code",
   "execution_count": 390,
   "metadata": {
    "collapsed": true
   },
   "outputs": [],
   "source": [
    "rev_word_index = {v+3:k for k,v in word_index.items()}"
   ]
  },
  {
   "cell_type": "code",
   "execution_count": 391,
   "metadata": {
    "collapsed": true
   },
   "outputs": [],
   "source": [
    "#rev_word_index"
   ]
  },
  {
   "cell_type": "code",
   "execution_count": 392,
   "metadata": {
    "collapsed": true
   },
   "outputs": [],
   "source": [
    "rev_word_index[0] = 'padding_char'\n",
    "rev_word_index[1] = 'start_char'\n",
    "rev_word_index[2] = 'oov_char'\n",
    "rev_word_index[3] = 'unk_char'"
   ]
  },
  {
   "cell_type": "code",
   "execution_count": 393,
   "metadata": {},
   "outputs": [
    {
     "data": {
      "text/plain": [
       "array([[   0,    0,    0,    0,    0,    0,    0,   44,   74,   75,  115,\n",
       "         116,  680,  680,   23,   24,   18,   19, 1115, 1116, 1244,   10,\n",
       "          21,    2,   25, 1995,   34,   44,    7,  470,   17,    8,    3,\n",
       "           9,    3,   54,    1,   13,    4,   35,   70],\n",
       "       [   0,    0,    0,    0,    0,    0,    0,    0,    0,    0,   27,\n",
       "         162,  166,  169,  170,  766,  766,   23,   24,   18,   19, 1393,\n",
       "          10,   20,    2,   68, 2819,   34,  163,  183,   17,    8,    3,\n",
       "           9,    5,    1,   25,    4,   15,   69,   20]])"
      ]
     },
     "execution_count": 393,
     "metadata": {},
     "output_type": "execute_result"
    }
   ],
   "source": [
    "data[0:2, ]"
   ]
  },
  {
   "cell_type": "code",
   "execution_count": 394,
   "metadata": {},
   "outputs": [
    {
     "data": {
      "text/plain": [
       "'padding_char padding_char padding_char padding_char padding_char padding_char padding_char padding_char padding_char mccomb service contractors debbie bogdanski 0xy762 0xy762 services inc superior denver pac oov_char insurance 0cdn99 masonry amanda 0 80632 091773 0csp77 property mono unk_char nan unk_char start_char 2 renew kyle sarah mccomb'"
      ]
     },
     "execution_count": 394,
     "metadata": {},
     "output_type": "execute_result"
    }
   ],
   "source": [
    "example_feat = ' '.join([rev_word_index[word] for word in data[3]])\n",
    "example_feat #notice the zeros -> this is the padding. All lowercase, etc -> cleaned\n"
   ]
  },
  {
   "cell_type": "code",
   "execution_count": 395,
   "metadata": {
    "collapsed": true
   },
   "outputs": [],
   "source": [
    "X_train, X_test, y_train, y_test = train_test_split(data, labels,\n",
    "                                                    test_size=0.3)\n"
   ]
  },
  {
   "cell_type": "code",
   "execution_count": 396,
   "metadata": {},
   "outputs": [
    {
     "name": "stdout",
     "output_type": "stream",
     "text": [
      "(3859, 41)\n",
      "(1654, 41)\n",
      "(1654, 1)\n",
      "(3859, 1)\n"
     ]
    }
   ],
   "source": [
    "print(X_train.shape)\n",
    "print(X_test.shape)\n",
    "print(y_test.shape)\n",
    "print(y_train.shape)\n",
    "# I don't see an issue with splitting after preprocessing, but I could be wrong"
   ]
  },
  {
   "cell_type": "code",
   "execution_count": 397,
   "metadata": {},
   "outputs": [
    {
     "data": {
      "text/plain": [
       "4561"
      ]
     },
     "execution_count": 397,
     "metadata": {},
     "output_type": "execute_result"
    }
   ],
   "source": [
    "max_features = max([max(x) for x in X_train] + \n",
    "                   [max(x) for x in X_test]) + 1\n",
    "max_features # number of features we have in the dictionary\n"
   ]
  },
  {
   "cell_type": "code",
   "execution_count": 407,
   "metadata": {
    "collapsed": true
   },
   "outputs": [],
   "source": [
    "K.clear_session()\n",
    "\n",
    "model = Sequential()\n",
    "model.add(Embedding(max_features, 128))\n",
    "model.add(LSTM(64, dropout=0.2, recurrent_dropout=0.2))\n",
    "model.add(Dense(1, activation='sigmoid'))\n",
    "\n",
    "model.compile(loss='binary_crossentropy',\n",
    "              optimizer='adam',\n",
    "              metrics=['accuracy'])\n",
    "\n"
   ]
  },
  {
   "cell_type": "code",
   "execution_count": 409,
   "metadata": {},
   "outputs": [
    {
     "name": "stdout",
     "output_type": "stream",
     "text": [
      "Train on 2701 samples, validate on 1158 samples\n",
      "Epoch 1/10\n",
      "2701/2701 [==============================] - 7s 3ms/step - loss: 0.3582 - acc: 0.8934 - val_loss: 0.2015 - val_acc: 0.9111\n",
      "Epoch 2/10\n",
      "2701/2701 [==============================] - 6s 2ms/step - loss: 0.0638 - acc: 0.9759 - val_loss: 0.0073 - val_acc: 1.0000\n",
      "Epoch 3/10\n",
      "2701/2701 [==============================] - 6s 2ms/step - loss: 0.0068 - acc: 0.9996 - val_loss: 0.0023 - val_acc: 1.0000\n",
      "Epoch 4/10\n",
      "2701/2701 [==============================] - 6s 2ms/step - loss: 0.0019 - acc: 1.0000 - val_loss: 9.1633e-04 - val_acc: 1.0000\n",
      "Epoch 5/10\n",
      "2701/2701 [==============================] - 6s 2ms/step - loss: 9.1434e-04 - acc: 1.0000 - val_loss: 4.8797e-04 - val_acc: 1.0000\n"
     ]
    },
    {
     "data": {
      "text/plain": [
       "<keras.callbacks.History at 0x22b8db00>"
      ]
     },
     "execution_count": 409,
     "metadata": {},
     "output_type": "execute_result"
    }
   ],
   "source": [
    "model.fit(X_train, y_train,\n",
    "          batch_size=32,\n",
    "          epochs=10,\n",
    "          callbacks=[EarlyStopping(monitor='acc', patience=1)],\n",
    "          validation_split=0.3)\n"
   ]
  },
  {
   "cell_type": "code",
   "execution_count": 410,
   "metadata": {},
   "outputs": [
    {
     "name": "stdout",
     "output_type": "stream",
     "text": [
      "1654/1654 [==============================] - 1s 431us/step\n",
      "Test score: 0.00382604211435\n",
      "Test accuracy: 0.998790810157\n"
     ]
    }
   ],
   "source": [
    "score, acc = model.evaluate(X_test, y_test)\n",
    "print('Test score:', score)\n",
    "print('Test accuracy:', acc)\n"
   ]
  },
  {
   "cell_type": "code",
   "execution_count": 411,
   "metadata": {
    "collapsed": true
   },
   "outputs": [],
   "source": [
    "y_pred = model.predict(X_test)\n"
   ]
  },
  {
   "cell_type": "code",
   "execution_count": 412,
   "metadata": {
    "collapsed": true
   },
   "outputs": [],
   "source": [
    "y_pred_class = [ ]\n",
    "for i in y_pred:\n",
    "    if i >= 0.5:\n",
    "        y_pred_class.append(1)\n",
    "    else:\n",
    "        y_pred_class.append(0)\n"
   ]
  },
  {
   "cell_type": "code",
   "execution_count": 413,
   "metadata": {},
   "outputs": [
    {
     "data": {
      "text/plain": [
       "array([[ 174,    0],\n",
       "       [   2, 1478]], dtype=int64)"
      ]
     },
     "execution_count": 413,
     "metadata": {},
     "output_type": "execute_result"
    }
   ],
   "source": [
    "confusion_matrix(y_test, y_pred_class) # so this predicted every value as a renewal.."
   ]
  },
  {
   "cell_type": "code",
   "execution_count": 414,
   "metadata": {},
   "outputs": [
    {
     "name": "stdout",
     "output_type": "stream",
     "text": [
      "             precision    recall  f1-score   support\n",
      "\n",
      "          0       0.99      1.00      0.99       174\n",
      "          1       1.00      1.00      1.00      1480\n",
      "\n",
      "avg / total       1.00      1.00      1.00      1654\n",
      "\n"
     ]
    }
   ],
   "source": [
    "print(classification_report(y_test, y_pred_class))\n",
    "#very misleading -> try balancing the data"
   ]
  },
  {
   "cell_type": "markdown",
   "metadata": {},
   "source": [
    "Notes: hmmm. This is super accurate. However, I can't say that it is overfitting. The confusion matrix is pretty clear.  \n",
    "\n",
    "test with titance - maybe you can improve your score  \n",
    "Send code to Bagui and Bo  \n",
    "Consider taking another shot at the hit ratio  \n",
    "Consider combining with CNN"
   ]
  },
  {
   "cell_type": "code",
   "execution_count": null,
   "metadata": {
    "collapsed": true
   },
   "outputs": [],
   "source": []
  }
 ],
 "metadata": {
  "kernelspec": {
   "display_name": "Python 3",
   "language": "python",
   "name": "python3"
  },
  "language_info": {
   "codemirror_mode": {
    "name": "ipython",
    "version": 3
   },
   "file_extension": ".py",
   "mimetype": "text/x-python",
   "name": "python",
   "nbconvert_exporter": "python",
   "pygments_lexer": "ipython3",
   "version": "3.5.4"
  }
 },
 "nbformat": 4,
 "nbformat_minor": 2
}
