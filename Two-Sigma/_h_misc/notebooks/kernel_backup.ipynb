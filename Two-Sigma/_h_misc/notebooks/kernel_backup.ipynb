{
 "cells": [
  {
   "cell_type": "code",
   "execution_count": null,
   "metadata": {
    "_cell_guid": "b1076dfc-b9ad-4769-8c92-a6c4dae69d19",
    "_uuid": "8f2839f25d086af736a60e9eeb907d3b93b6e0e5"
   },
   "outputs": [],
   "source": [
    "from shutil import copyfile\n",
    "\n",
    "# copy our file into the working directory (make sure it has .py suffix)\n",
    "copyfile(src = \"../input/supporting-files-sigma/sigma_libs.py\", dst = \"../working/sigma_libs.py\")\n",
    "copyfile(src = \"../input/supporting-files-sigma/sigma_1.py\", dst = \"../working/sigma_1.py\")\n",
    "copyfile(src = \"../input/supporting-files-sigma/preproc2.py\", dst = \"../working/preproc2.py\")\n",
    "# import all our functions\n",
    "from sigma_libs import *\n",
    "from sigma_1 import *\n",
    "from preproc2 import *\n",
    "tqdm.pandas() "
   ]
  },
  {
   "cell_type": "code",
   "execution_count": null,
   "metadata": {
    "_uuid": "249b4b7740a3ae182adec9b465ab8316e9a634d6"
   },
   "outputs": [],
   "source": [
    "df_market_full, df_news_full = env.get_training_data()\n"
   ]
  },
  {
   "cell_type": "code",
   "execution_count": null,
   "metadata": {
    "_uuid": "26d5b67eeb3a764801b538e267d4e45f9bef992b"
   },
   "outputs": [],
   "source": [
    "import resource\n",
    "print(\"Checkpoint 1\")\n",
    "print('Memory usage: %s (kb)' \n",
    "%resource.getrusage(resource.RUSAGE_SELF).ru_maxrss)"
   ]
  },
  {
   "cell_type": "code",
   "execution_count": null,
   "metadata": {
    "_uuid": "c723468e4fd368da834055ba6c2727a6b351c537"
   },
   "outputs": [],
   "source": [
    "# REDUCED\n",
    "start = datetime(2016, 12, 15, 0, 0, 0).date()\n",
    "df_market = df_market_full.loc[df_market_full['time'].dt.date >= start].reset_index(drop=True)\n",
    "df_news = df_news_full.loc[df_news_full['time'].dt.date >= start].reset_index(drop=True)\n",
    "print(df_market.shape); print(df_news.shape)\n",
    "del df_market_full, df_news_full\n",
    "gc.collect()"
   ]
  },
  {
   "cell_type": "code",
   "execution_count": null,
   "metadata": {
    "_uuid": "3f47d418c4e93a1345cf9611b9579e58aab310f8"
   },
   "outputs": [],
   "source": [
    "# # FULL\n",
    "# df_market = df_market_full\n",
    "# df_news = df_news_full\n",
    "# del df_market_full, df_news_full\n",
    "# gc.collect()"
   ]
  },
  {
   "cell_type": "code",
   "execution_count": null,
   "metadata": {
    "_uuid": "2098d8b358a0195bee745135e53405e3163402d7"
   },
   "outputs": [],
   "source": [
    "# df_news.head()\n",
    "# immediate reduction\n",
    "# ONLY CONCERNED WITH ASSETS IN BOTH DFRAMES AND UNIVERSE\n",
    "df_m = df_market[df_market.universe == 1.0]\n",
    "df_m.drop(['universe'], axis=1, inplace=True)\n",
    "asset_list = set(df_m.assetName)\n",
    "df_n = df_news[df_news.assetName.isin(asset_list)]\n",
    "del df_market, df_news\n",
    "gc.collect()"
   ]
  },
  {
   "cell_type": "markdown",
   "metadata": {
    "_uuid": "0f980e986639416730597b70d61770a329635ab8"
   },
   "source": [
    "# Market data wrangling"
   ]
  },
  {
   "cell_type": "code",
   "execution_count": null,
   "metadata": {
    "_uuid": "595785a5cebdf71059990e4eb6c38bce847386ee"
   },
   "outputs": [],
   "source": [
    "dframe = df_m\n",
    "for col in dframe.columns:\n",
    "    if dframe[col].isnull().sum() != 0:\n",
    "        percent = (dframe[col].isnull().sum() / dframe[col].size) *100\n",
    "        percent = round(percent, 4)\n",
    "        print('percent null for {} = {}%'.format(col, percent))"
   ]
  },
  {
   "cell_type": "code",
   "execution_count": null,
   "metadata": {
    "_uuid": "8398fb25d470b405dd7c641662c3cf733fa78251"
   },
   "outputs": [],
   "source": [
    "df_m.tail()"
   ]
  },
  {
   "cell_type": "code",
   "execution_count": null,
   "metadata": {
    "_uuid": "ada3b8127acdc234f645781c261a09e6974534db"
   },
   "outputs": [],
   "source": [
    "df_m[df_m.assetCode == 'ZAYO.N']"
   ]
  },
  {
   "cell_type": "code",
   "execution_count": null,
   "metadata": {
    "_uuid": "2e483ba1b7e61e1ae34bc767712389ddda10e3d0"
   },
   "outputs": [],
   "source": [
    "print(list(set(df_m.assetCode)))"
   ]
  },
  {
   "cell_type": "code",
   "execution_count": null,
   "metadata": {
    "_uuid": "76a56e99fe0760cab3fda1edea03782eaaa6be86"
   },
   "outputs": [],
   "source": []
  },
  {
   "cell_type": "markdown",
   "metadata": {
    "_uuid": "a1360cd5f91fc10700d32dcd184a6dc5190d8e4c"
   },
   "source": [
    "# News data wrangling**"
   ]
  },
  {
   "cell_type": "code",
   "execution_count": null,
   "metadata": {
    "_uuid": "42fbf76fa8ed056485696889e08f69ef5ad331ed"
   },
   "outputs": [],
   "source": [
    "df_m.shape\n",
    "df_n.shape\n",
    "del df_m\n",
    "\n",
    "gc.collect()"
   ]
  },
  {
   "cell_type": "code",
   "execution_count": null,
   "metadata": {
    "_uuid": "91af470b25aeba694342bb14a098792e33a48b0f"
   },
   "outputs": [],
   "source": [
    "# d_type_usage(df_n)\n",
    "\n",
    "import os, psutil  \n",
    "\n",
    "def cpu_stats():\n",
    "    pid = os.getpid()\n",
    "    py = psutil.Process(pid)\n",
    "    memory_use = py.memory_info()[0] / 2. ** 30\n",
    "    return 'memory GB:' + str(np.round(memory_use, 2))"
   ]
  },
  {
   "cell_type": "code",
   "execution_count": null,
   "metadata": {
    "_uuid": "ce75d0d5a07bf5da07ca617c6400da186aa1bb10"
   },
   "outputs": [],
   "source": [
    "cpu_stats()"
   ]
  },
  {
   "cell_type": "code",
   "execution_count": null,
   "metadata": {
    "_uuid": "5d98c46e5b7e5a27ba3d090cce70c8ef91e985b5"
   },
   "outputs": [],
   "source": [
    "# for col in ['headlineTag', 'sourceId']:\n",
    "#             df_n[col] = df_n[col].astype('category')\n",
    "\n",
    "# drop_list = [\n",
    "        \n",
    "#         'firstCreated', 'sourceTimestamp',\n",
    "#     ]\n",
    "# df_n.drop(drop_list, axis=1, inplace=True)"
   ]
  },
  {
   "cell_type": "code",
   "execution_count": null,
   "metadata": {
    "_uuid": "2cca830044cebd285fcdac0c6746777076a619cd"
   },
   "outputs": [],
   "source": []
  },
  {
   "cell_type": "code",
   "execution_count": null,
   "metadata": {
    "_uuid": "0f9b66cc7f2e85ff294a3b2cf8c7a8133b6c8c75"
   },
   "outputs": [],
   "source": []
  },
  {
   "cell_type": "code",
   "execution_count": null,
   "metadata": {
    "_uuid": "76510748ef09756a494f389d94e9a15de4179350"
   },
   "outputs": [],
   "source": [
    "# df_sub = df_n[['subjects']]\n",
    "# del df_n\n",
    "# gc.collect()"
   ]
  },
  {
   "cell_type": "code",
   "execution_count": null,
   "metadata": {
    "_uuid": "03167520730edc454eae53bac230d16600933f16"
   },
   "outputs": [],
   "source": [
    "# df_sub.subjects = df_sub.subjects.progress_apply(lambda x: re.sub(r'[n{}\\']', '', x)).replace(\" \", \"\")\n"
   ]
  },
  {
   "cell_type": "code",
   "execution_count": null,
   "metadata": {
    "_uuid": "fa87e412ef5742d34627f288e074d709a2fdacb2"
   },
   "outputs": [],
   "source": [
    "print(\"Checkpoint 1\")\n",
    "print('Memory usage: %s (kb)' \n",
    "%resource.getrusage(resource.RUSAGE_SELF).ru_maxrss)"
   ]
  },
  {
   "cell_type": "code",
   "execution_count": null,
   "metadata": {
    "_uuid": "0931128147fda5308bb9dabc027083662668ea02"
   },
   "outputs": [],
   "source": [
    "# x = df_sub.subjects.str.split(r',', expand=True)\n",
    "# x = x.progress_applymap(lambda x: x.strip() if type(x) == str else x)\n",
    "# # x = x.stack()\n"
   ]
  },
  {
   "cell_type": "code",
   "execution_count": null,
   "metadata": {
    "_uuid": "3e2008929548b3ff9c7eccce5f50c8da02e22463"
   },
   "outputs": [],
   "source": [
    "x.head()"
   ]
  },
  {
   "cell_type": "code",
   "execution_count": null,
   "metadata": {
    "_uuid": "32b4de73703e1423357ace8b41b6d4e1dc3342fd"
   },
   "outputs": [],
   "source": [
    "del df_sub\n",
    "gc.collect()"
   ]
  },
  {
   "cell_type": "code",
   "execution_count": null,
   "metadata": {
    "_uuid": "db204a7ab50c5385a658cbdd08c93ce8c2a3fcd7"
   },
   "outputs": [],
   "source": [
    "print(\"Checkpoint 1\")\n",
    "print('Memory usage: %s (kb)' \n",
    "%resource.getrusage(resource.RUSAGE_SELF).ru_maxrss)"
   ]
  },
  {
   "cell_type": "code",
   "execution_count": null,
   "metadata": {
    "_uuid": "c8fa007a3867c2acdca206cb2ceed70332286fcf"
   },
   "outputs": [],
   "source": [
    "# counts = pd.DataFrame(x.values.flatten(), columns=['subs']).subs.value_counts()"
   ]
  },
  {
   "cell_type": "code",
   "execution_count": null,
   "metadata": {
    "_uuid": "af407307090d52bef5cf3fc51ef92f4fd50a5070"
   },
   "outputs": [],
   "source": [
    "# list(counts.index[:50])"
   ]
  },
  {
   "cell_type": "code",
   "execution_count": null,
   "metadata": {
    "_uuid": "1bc49afe01b68ffdcfe590028896a7082302ab61"
   },
   "outputs": [],
   "source": [
    "# x.head()"
   ]
  },
  {
   "cell_type": "code",
   "execution_count": null,
   "metadata": {
    "_uuid": "95007e957d62f1322ad191f510412387e275641c"
   },
   "outputs": [],
   "source": [
    "# df_sub = pd.get_dummies(x, prefix='aud_').groupby(level=0).sum()"
   ]
  },
  {
   "cell_type": "code",
   "execution_count": null,
   "metadata": {
    "_uuid": "d3bc8075d7fc75a7a8135109d6cf285d02bce8c7"
   },
   "outputs": [],
   "source": [
    "df_sub.head()"
   ]
  },
  {
   "cell_type": "code",
   "execution_count": null,
   "metadata": {
    "_uuid": "13fc3a3915d16218e44d0fddeea59b12ed5a28f4"
   },
   "outputs": [],
   "source": [
    "# df_n.head()"
   ]
  },
  {
   "cell_type": "code",
   "execution_count": null,
   "metadata": {
    "_uuid": "8d58c04a2223ab011fe2d14d32e2289a2b4bd6c5"
   },
   "outputs": [],
   "source": [
    "# THIS WILL ALMOST KILL THE KERNAL\n",
    "df_ = preprocess2(df_n)"
   ]
  },
  {
   "cell_type": "code",
   "execution_count": null,
   "metadata": {
    "_uuid": "75dc80bec329fc2b101de52ef91058afec3782b0"
   },
   "outputs": [],
   "source": [
    "df_m['date'] = pd.to_datetime(df_m.time).dt.date  # Add date column\n",
    "# DROP TIME FEATURES FOR BOTH DFRAMES"
   ]
  },
  {
   "cell_type": "code",
   "execution_count": null,
   "metadata": {
    "_uuid": "496ad11bae03bdc374e532bf94d764aa29ca6e58"
   },
   "outputs": [],
   "source": [
    "df = df_m.merge(df_, how='left', on=['assetCode', 'date', 'assetName'])"
   ]
  },
  {
   "cell_type": "code",
   "execution_count": null,
   "metadata": {
    "_uuid": "09130da1e9abae1482b28ea1da752ae05bdf18a2"
   },
   "outputs": [],
   "source": [
    "del df_m\n",
    "del df_\n",
    "gc.collect()"
   ]
  },
  {
   "cell_type": "code",
   "execution_count": null,
   "metadata": {
    "_uuid": "db8f942cf16189821b29c701770eb6b49fea17b2"
   },
   "outputs": [],
   "source": [
    "df = df[df.marketCommentary.notnull()]"
   ]
  },
  {
   "cell_type": "code",
   "execution_count": null,
   "metadata": {
    "_uuid": "904e1f1d225e67e9c8b16d8d328362b03e94fc04"
   },
   "outputs": [],
   "source": [
    "df.shape"
   ]
  },
  {
   "cell_type": "code",
   "execution_count": null,
   "metadata": {
    "_uuid": "fbe86279b8be747a263f5751d17e4363b25a8395"
   },
   "outputs": [],
   "source": [
    "df.drop_duplicates(inplace=True)"
   ]
  },
  {
   "cell_type": "code",
   "execution_count": null,
   "metadata": {
    "_uuid": "4a27670570702f41da7f29eb516f6bf1b4ec9a4a"
   },
   "outputs": [],
   "source": [
    "df.shape"
   ]
  },
  {
   "cell_type": "code",
   "execution_count": null,
   "metadata": {
    "_uuid": "301a525a6d8f4a25e259976406b7da956f074bc8"
   },
   "outputs": [],
   "source": [
    "# date = df.date\n",
    "# num_target = df.returnsOpenNextMktres10.astype('float32')\n",
    "# bin_target = (df.returnsOpenNextMktres10 >= 0).astype('int8')\n",
    "# universe = df.universe.astype('int8')\n",
    "# # Drop columns that are not features\n",
    "# df.drop(['returnsOpenNextMktres10', 'date', 'universe', 'assetCode'], \n",
    "#         axis=1, inplace=True)\n",
    "# df = df.astype('float32')  # Set all remaining columns to float32 datatype\n",
    "# gc.collect()\n",
    "# # 'returnsOpenNextMktres10', 'date', 'universe', 'assetCode', 'assetName', 'time'"
   ]
  },
  {
   "cell_type": "markdown",
   "metadata": {
    "_uuid": "5e1152201dce107c25ff3b9a63f0482bb4fc1966"
   },
   "source": [
    "Residual Return:  \n",
    "Return independent of the benchmark. The residual return is the return relative to beta times the benchmark return. To be exact, an asset's residual return equals its excess return minus beta times the benchmark excess return."
   ]
  },
  {
   "cell_type": "code",
   "execution_count": null,
   "metadata": {
    "_uuid": "1f04e26b717ef32e52402ad4b69bd32d8c5114db"
   },
   "outputs": [],
   "source": [
    "# train_index, test_index = train_test_split(df.index.values, test_size=0.1, \n",
    "#                                            shuffle=False)"
   ]
  },
  {
   "cell_type": "code",
   "execution_count": null,
   "metadata": {
    "_uuid": "591fe1708e5a7637611aa560b46598677ccbff5a"
   },
   "outputs": [],
   "source": []
  },
  {
   "cell_type": "code",
   "execution_count": null,
   "metadata": {
    "_uuid": "dc0c8da867ca24234546afe8a59473f7e07a094e"
   },
   "outputs": [],
   "source": [
    "# def evaluate_model(df, target, train_index, test_index, params):\n",
    "#     params['n_jobs'] = 2  # Use 2 cores/threads\n",
    "#     #model = XGBClassifier(**params)\n",
    "#     model = LGBMClassifier(**params)\n",
    "#     model.fit(df.iloc[train_index], target.iloc[train_index])\n",
    "#     return log_loss(target.iloc[test_index], model.predict_proba(df.iloc[test_index]))"
   ]
  },
  {
   "cell_type": "code",
   "execution_count": null,
   "metadata": {
    "_uuid": "3c511d9370c473913e1b6b5047f6a3c84006d697"
   },
   "outputs": [],
   "source": [
    "# param_grid = {\n",
    "#     'learning_rate': [0.15, 0.1, 0.05, 0.02, 0.01],\n",
    "#     'num_leaves': [i for i in range(12, 90, 6)],\n",
    "#     'n_estimators': [50, 200, 400, 600, 800],\n",
    "#     'min_child_samples': [i for i in range(10, 100, 10)],\n",
    "#     'colsample_bytree': [0.8, 0.9, 0.95, 1],\n",
    "#     'subsample': [0.8, 0.9, 0.95, 1],\n",
    "#     'reg_alpha': [0.1, 0.2, 0.4, 0.6, 0.8],\n",
    "#     'reg_lambda': [0.1, 0.2, 0.4, 0.6, 0.8],\n",
    "# }\n",
    "\n",
    "# best_eval_score = 0\n",
    "# for i in tqdm(range(5)):  # Hundred runs\n",
    "#     params = {k: np.random.choice(v) for k, v in param_grid.items()}\n",
    "#     score = evaluate_model(df, bin_target, train_index, test_index, params)\n",
    "#     if score < best_eval_score or best_eval_score == 0:\n",
    "#         best_eval_score = score\n",
    "#         best_params = params\n",
    "# print(\"Best evaluation logloss\", best_eval_score)"
   ]
  },
  {
   "cell_type": "code",
   "execution_count": null,
   "metadata": {
    "_uuid": "3f990e4a0f0847d47dd12eb3426e0123d7876133"
   },
   "outputs": [],
   "source": [
    "# # Train model with full data\n",
    "# clf = LGBMClassifier(**best_params)\n",
    "# clf.fit(df, bin_target)"
   ]
  },
  {
   "cell_type": "code",
   "execution_count": null,
   "metadata": {
    "_uuid": "a79e52c46838bdeee02a3b28cf6cf2a62c334971"
   },
   "outputs": [],
   "source": [
    "# def write_submission(model, env):\n",
    "# days = env.get_prediction_days()\n",
    "# Generator providing test features for each prediction day.\n",
    "# train dataset ends 12-31-2016"
   ]
  },
  {
   "cell_type": "code",
   "execution_count": null,
   "metadata": {
    "_uuid": "2835228cda46c6a2f735ffc361bf59e181b1ed02"
   },
   "outputs": [],
   "source": []
  },
  {
   "cell_type": "code",
   "execution_count": null,
   "metadata": {
    "_uuid": "80d0d4e2212c549bb9b65e614006e0c88aca12ff"
   },
   "outputs": [],
   "source": [
    "#  Definitely a candidate for pipelines\n",
    "# Careful - can only run once? Restart the kernal I guess..\n",
    "# for (market_obs_df, news_obs_df, predictions_template_df) in days:\n",
    "#     news_obs_df = preprocess_news(news_obs_df)\n",
    "#     # Unstack news\n",
    "#     index_df = unstack_asset_codes(news_obs_df)\n",
    "#     news_unstack = merge_news_on_index(news_obs_df, index_df)\n",
    "#     # Group and and get aggregations (mean)\n",
    "#     news_obs_agg = group_news(news_unstack)\n",
    "\n",
    "#     # Join market and news frames\n",
    "#     market_obs_df['date'] = market_obs_df.time.dt.date\n",
    "#     obs_df = market_obs_df.merge(news_obs_agg, how='left', on=['assetCode', 'date'])\n",
    "#     del market_obs_df, news_obs_agg, news_obs_df, news_unstack, index_df\n",
    "#     gc.collect()\n",
    "#     obs_df = obs_df[obs_df.assetCode.isin(predictions_template_df.assetCode)]\n",
    "\n",
    "#     # Drop cols that are not features\n",
    "#     feats = [c for c in obs_df.columns if c not in ['date', 'assetCode', 'assetName', 'time']]\n",
    "\n",
    "#     preds = model.predict_proba(obs_df[feats])[:, 1] * 2 - 1\n",
    "#     sub = pd.DataFrame({'assetCode': obs_df['assetCode'], 'confidence': preds})\n",
    "#     predictions_template_df = predictions_template_df.merge(sub, how='left').drop(\n",
    "#         'confidenceValue', axis=1).fillna(0).rename(columns={'confidence':'confidenceValue'})\n",
    "\n",
    "#     env.predict(predictions_template_df)\n",
    "# #     del obs_df, predictions_template_df, preds, sub\n",
    "#     gc.collect()\n",
    "\n",
    "#     env.write_submission_file()\n",
    "       \n",
    "# write_submission(clf, env)"
   ]
  },
  {
   "cell_type": "code",
   "execution_count": null,
   "metadata": {
    "_uuid": "b3cd373530b157e8a3293fcd53d5bc07071595d5"
   },
   "outputs": [],
   "source": []
  }
 ],
 "metadata": {
  "kernelspec": {
   "display_name": "Python 2",
   "language": "python",
   "name": "python2"
  },
  "language_info": {
   "codemirror_mode": {
    "name": "ipython",
    "version": 2
   },
   "file_extension": ".py",
   "mimetype": "text/x-python",
   "name": "python",
   "nbconvert_exporter": "python",
   "pygments_lexer": "ipython2",
   "version": "2.7.15"
  }
 },
 "nbformat": 4,
 "nbformat_minor": 1
}
