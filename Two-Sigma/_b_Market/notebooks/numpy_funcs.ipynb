{
 "cells": [
  {
   "cell_type": "code",
   "execution_count": 1,
   "metadata": {},
   "outputs": [],
   "source": [
    "import sys\n",
    "paths = ['/Users/jacob/Desktop/docs/kaggle/two_sigma/_b_Market/scripts',\n",
    "        '/Users/jacob/Desktop/docs/ML/_a_python/_1_code/notebooks/quickpipeline',\n",
    "        '/Users/jacob/Desktop/docs/ML/_a_python/_1_code/notebooks/pd_feature_union']\n",
    "\n",
    "for path in paths:\n",
    "    sys.path.append(path)\n",
    "\n",
    "from market_imports import *\n",
    "from market_code import *\n",
    "from market_trans import *\n",
    "from quickpipe_mod import * \n",
    "from pandas_feature_union import *\n",
    "\n",
    "data_path = '/Users/jacob/Desktop/docs/kaggle/two_sigma/_g_data/data'\n",
    "df_market = pd.read_csv(data_path + '/marketdata_sample.csv') \n",
    "df_news = pd.read_csv(data_path + '/news_sample.csv')\n",
    "\n",
    "\n",
    "import warnings\n",
    "warnings.filterwarnings(action='ignore')\n",
    "\n",
    "import datetime as dt"
   ]
  },
  {
   "cell_type": "code",
   "execution_count": 26,
   "metadata": {},
   "outputs": [
    {
     "name": "stdout",
     "output_type": "stream",
     "text": [
      "(2121121, 10)\n"
     ]
    },
    {
     "data": {
      "text/html": [
       "<div>\n",
       "<style scoped>\n",
       "    .dataframe tbody tr th:only-of-type {\n",
       "        vertical-align: middle;\n",
       "    }\n",
       "\n",
       "    .dataframe tbody tr th {\n",
       "        vertical-align: top;\n",
       "    }\n",
       "\n",
       "    .dataframe thead th {\n",
       "        text-align: right;\n",
       "    }\n",
       "</style>\n",
       "<table border=\"1\" class=\"dataframe\">\n",
       "  <thead>\n",
       "    <tr style=\"text-align: right;\">\n",
       "      <th></th>\n",
       "      <th>time</th>\n",
       "      <th>assetCode</th>\n",
       "      <th>Open</th>\n",
       "      <th>close</th>\n",
       "      <th>volume</th>\n",
       "      <th>returns_close_raw</th>\n",
       "      <th>returns_open_raw</th>\n",
       "      <th>returns_close_raw10</th>\n",
       "      <th>returns_open_raw10</th>\n",
       "      <th>returnsOpenNextMktres10</th>\n",
       "    </tr>\n",
       "  </thead>\n",
       "  <tbody>\n",
       "    <tr>\n",
       "      <th>0</th>\n",
       "      <td>2013-01-16</td>\n",
       "      <td>EQC</td>\n",
       "      <td>16.00</td>\n",
       "      <td>16.049999</td>\n",
       "      <td>537700.0</td>\n",
       "      <td>0.004371</td>\n",
       "      <td>0.008158</td>\n",
       "      <td>-0.000623</td>\n",
       "      <td>-0.000625</td>\n",
       "      <td>-0.020582</td>\n",
       "    </tr>\n",
       "    <tr>\n",
       "      <th>1</th>\n",
       "      <td>2013-01-16</td>\n",
       "      <td>BDN</td>\n",
       "      <td>12.50</td>\n",
       "      <td>12.820000</td>\n",
       "      <td>2712500.0</td>\n",
       "      <td>0.004691</td>\n",
       "      <td>-0.003992</td>\n",
       "      <td>0.051211</td>\n",
       "      <td>0.020203</td>\n",
       "      <td>0.004975</td>\n",
       "    </tr>\n",
       "    <tr>\n",
       "      <th>2</th>\n",
       "      <td>2013-01-16</td>\n",
       "      <td>FBHS</td>\n",
       "      <td>31.00</td>\n",
       "      <td>30.870001</td>\n",
       "      <td>730700.0</td>\n",
       "      <td>-0.004202</td>\n",
       "      <td>-0.000967</td>\n",
       "      <td>0.004546</td>\n",
       "      <td>0.035794</td>\n",
       "      <td>-0.008944</td>\n",
       "    </tr>\n",
       "    <tr>\n",
       "      <th>3</th>\n",
       "      <td>2013-01-16</td>\n",
       "      <td>NMFC</td>\n",
       "      <td>14.65</td>\n",
       "      <td>14.740000</td>\n",
       "      <td>105100.0</td>\n",
       "      <td>0.003398</td>\n",
       "      <td>-0.009511</td>\n",
       "      <td>-0.016151</td>\n",
       "      <td>-0.023610</td>\n",
       "      <td>0.014740</td>\n",
       "    </tr>\n",
       "    <tr>\n",
       "      <th>4</th>\n",
       "      <td>2013-01-16</td>\n",
       "      <td>SMLP</td>\n",
       "      <td>19.67</td>\n",
       "      <td>19.660000</td>\n",
       "      <td>59000.0</td>\n",
       "      <td>0.001527</td>\n",
       "      <td>0.003565</td>\n",
       "      <td>-0.026106</td>\n",
       "      <td>-0.018137</td>\n",
       "      <td>-0.079554</td>\n",
       "    </tr>\n",
       "  </tbody>\n",
       "</table>\n",
       "</div>"
      ],
      "text/plain": [
       "        time assetCode   Open      close     volume  returns_close_raw  \\\n",
       "0 2013-01-16       EQC  16.00  16.049999   537700.0           0.004371   \n",
       "1 2013-01-16       BDN  12.50  12.820000  2712500.0           0.004691   \n",
       "2 2013-01-16      FBHS  31.00  30.870001   730700.0          -0.004202   \n",
       "3 2013-01-16      NMFC  14.65  14.740000   105100.0           0.003398   \n",
       "4 2013-01-16      SMLP  19.67  19.660000    59000.0           0.001527   \n",
       "\n",
       "   returns_open_raw  returns_close_raw10  returns_open_raw10  \\\n",
       "0          0.008158            -0.000623           -0.000625   \n",
       "1         -0.003992             0.051211            0.020203   \n",
       "2         -0.000967             0.004546            0.035794   \n",
       "3         -0.009511            -0.016151           -0.023610   \n",
       "4          0.003565            -0.026106           -0.018137   \n",
       "\n",
       "   returnsOpenNextMktres10  \n",
       "0                -0.020582  \n",
       "1                 0.004975  \n",
       "2                -0.008944  \n",
       "3                 0.014740  \n",
       "4                -0.079554  "
      ]
     },
     "execution_count": 26,
     "metadata": {},
     "output_type": "execute_result"
    }
   ],
   "source": [
    "# csv = pd.read_csv(data_path + '/sigma_data.csv', index_col='Date', parse_dates=True, \n",
    "#                  infer_datetime_format=True)\n",
    "\n",
    "csv = pd.read_csv(data_path + '/big.csv', index_col='Date', parse_dates=True, \n",
    "                 infer_datetime_format=True)\n",
    "\n",
    "# COMPUTE RESIDUAL FOR RESPONSE\n",
    "import statsmodels.tsa.api as tsa\n",
    "from statsmodels.tsa.seasonal import seasonal_decompose \n",
    "\n",
    "x = csv[['returns_open_raw10_next']]\n",
    "# Freq will depend on asset number - this needs to be researched\n",
    "result = seasonal_decompose(x, model='additive', freq=50)\n",
    "\n",
    "csv['returnsOpenNextMktres10'] = result.resid\n",
    "# Lose the first and last day\n",
    "csv = csv[-csv['returnsOpenNextMktres10'].isnull()]\n",
    "csv.drop(['returns_open_raw10_next'], axis=1, inplace=True)\n",
    "\n",
    "check = csv.columns[:4].tolist()\n",
    "csv.drop_duplicates(check, inplace=True)\n",
    "\n",
    "# ELC is insanely high. The next highest price is around 300\n",
    "csv[csv.Close ==csv.Close.max()]\n",
    "csv[csv.Close > 1000]\n",
    "csv = csv[csv.asset != 'ELC']\n",
    "\n",
    "# Matching the kernel data some more\n",
    "csv.index.name = 'time'\n",
    "csv.reset_index(inplace=True)\n",
    "csv.rename(columns={'asset': 'assetCode', 'Volume': 'volume',\n",
    "                  'Close': 'close'}, inplace=True)\n",
    "\n",
    "print(csv.shape)\n",
    "csv.head()"
   ]
  },
  {
   "cell_type": "markdown",
   "metadata": {},
   "source": [
    "__Notes:__  Assuming that we have grouped by assets - multi-index"
   ]
  },
  {
   "cell_type": "code",
   "execution_count": 146,
   "metadata": {},
   "outputs": [
    {
     "data": {
      "text/plain": [
       "(988,)"
      ]
     },
     "execution_count": 146,
     "metadata": {},
     "output_type": "execute_result"
    }
   ],
   "source": [
    "qcom = csv.query(\"assetCode == 'QCOM'\")['close']\n",
    "qcom.shape"
   ]
  },
  {
   "cell_type": "code",
   "execution_count": null,
   "metadata": {},
   "outputs": [],
   "source": []
  },
  {
   "cell_type": "markdown",
   "metadata": {},
   "source": [
    "## Test 1"
   ]
  },
  {
   "cell_type": "code",
   "execution_count": 33,
   "metadata": {},
   "outputs": [
    {
     "name": "stdout",
     "output_type": "stream",
     "text": [
      "[67.14549866 67.22499886 67.39549866 67.4349987  67.52149849]\n",
      "CPU times: user 4 µs, sys: 1e+03 ns, total: 5 µs\n",
      "Wall time: 8.11 µs\n"
     ]
    }
   ],
   "source": [
    "# Proposed method\n",
    "X = qcom.values\n",
    "x = np.arange(qcom.shape[0])\n",
    "# this is an index array\n",
    "def sma(i, n=20):\n",
    "    return np.nansum(X[i-20+1:i+1]) / n\n",
    "\n",
    "vf = np.vectorize(sma)\n",
    "print(vf(x)[-5:])\n",
    "\n",
    "%time"
   ]
  },
  {
   "cell_type": "code",
   "execution_count": 37,
   "metadata": {},
   "outputs": [
    {
     "name": "stdout",
     "output_type": "stream",
     "text": [
      "CPU times: user 3 µs, sys: 0 ns, total: 3 µs\n",
      "Wall time: 6.91 µs\n"
     ]
    }
   ],
   "source": [
    "# Pandas method\n",
    "\n",
    "sma = qcom.rolling(20, min_periods=20).mean()\n",
    " # match up but seems to be an extra value, corrected with the i+1\n",
    "%time"
   ]
  },
  {
   "cell_type": "code",
   "execution_count": 38,
   "metadata": {},
   "outputs": [
    {
     "name": "stdout",
     "output_type": "stream",
     "text": [
      "2110829    67.145499\n",
      "2113510    67.224999\n",
      "2116513    67.395499\n",
      "2118676    67.434999\n",
      "2119720    67.521498\n",
      "Name: close, dtype: float64\n"
     ]
    }
   ],
   "source": [
    "print(sma.tail())"
   ]
  },
  {
   "cell_type": "markdown",
   "metadata": {},
   "source": [
    "## Test 2 -> we have a winner. Lambdas to the graveyard"
   ]
  },
  {
   "cell_type": "code",
   "execution_count": 36,
   "metadata": {},
   "outputs": [
    {
     "name": "stdout",
     "output_type": "stream",
     "text": [
      "CPU times: user 2 µs, sys: 1 µs, total: 3 µs\n",
      "Wall time: 5.01 µs\n"
     ]
    }
   ],
   "source": [
    "# Proposed method\n",
    "X = qcom.values\n",
    "x = np.arange(qcom.shape[0])\n",
    "# this is an index array\n",
    "\n",
    "\n",
    "def bollingerBands(i, n=20):\n",
    "    sma = np.nansum(X[i-n+1:i+1]) / n\n",
    "    std = np.std(X[i-n+1:i+1])\n",
    "    return sma, sma + 2 * std, sma - 2 * std\n",
    "\n",
    "vf = np.vectorize(bollingerBands)\n",
    "sma, U, L = vf(x)\n",
    "\n",
    "%time"
   ]
  },
  {
   "cell_type": "code",
   "execution_count": 39,
   "metadata": {},
   "outputs": [
    {
     "name": "stdout",
     "output_type": "stream",
     "text": [
      "CPU times: user 3 µs, sys: 0 ns, total: 3 µs\n",
      "Wall time: 5.96 µs\n"
     ]
    }
   ],
   "source": [
    "# Proposed method\n",
    "X = qcom.values\n",
    "x = np.arange(qcom.shape[0])\n",
    "# this is an index array\n",
    "\n",
    "\n",
    "def bollingerSqueeze(i, n=20):\n",
    "    sma = np.nansum(X[i-n+1:i+1]) / n\n",
    "    std = np.std(X[i-n+1:i+1])\n",
    "    U = sma + (std*2)    \n",
    "    L = sma - (std*2) \n",
    "    squeeze = (U - L)/ sma\n",
    "    \n",
    "    return squeeze, U, L\n",
    "\n",
    "vf = np.vectorize(bollingerBands)\n",
    "sq, U, L = vf(x)\n",
    "\n",
    "%time"
   ]
  },
  {
   "cell_type": "code",
   "execution_count": 45,
   "metadata": {},
   "outputs": [
    {
     "name": "stdout",
     "output_type": "stream",
     "text": [
      "CPU times: user 4 µs, sys: 1 µs, total: 5 µs\n",
      "Wall time: 8.82 µs\n"
     ]
    }
   ],
   "source": [
    "\n",
    "sd_20 = (qcom.\n",
    "        rolling(window=20, min_periods=20).\n",
    "        std().\n",
    "        values  \n",
    "        )\n",
    "\n",
    "\n",
    "sma_20 = (\n",
    "        qcom.\n",
    "        rolling(window=20, min_periods=20).\n",
    "        mean().\n",
    "        values\n",
    "        )\n",
    "\n",
    "\n",
    "# convert everything to arrays   \n",
    "\n",
    "U = sma_20 + (sd_20*2)    \n",
    "L = sma_20 - (sd_20*2) \n",
    "squeeze = (U - L)/ sma_20\n",
    "\n",
    "%time"
   ]
  },
  {
   "cell_type": "markdown",
   "metadata": {},
   "source": [
    "## Multi-index vs grouping"
   ]
  },
  {
   "cell_type": "code",
   "execution_count": 190,
   "metadata": {},
   "outputs": [],
   "source": [
    "X = csv.copy()"
   ]
  },
  {
   "cell_type": "code",
   "execution_count": 180,
   "metadata": {},
   "outputs": [],
   "source": [
    "def bBands(x, n=20):\n",
    "    \"\"\"This works. The transform method is taking this function and \n",
    "    interating it over every row within each group. Which is bizzare. Since\n",
    "    this index should only work for windows\"\"\"\n",
    "    return np.nansum(x[-n:]) / n\n",
    "    "
   ]
  },
  {
   "cell_type": "code",
   "execution_count": 185,
   "metadata": {},
   "outputs": [],
   "source": [
    "def bbSqueeze(X):\n",
    "    \n",
    "    '''price moves toward upper indicate bullish. This\n",
    "    returns the distance from stock price to upper or lower \n",
    "    BB. If the distance turns negative, the price is above/below. \n",
    "    See indicator lambdas.\n",
    "    \n",
    "    Squeeze is calculate per asset. However, comparing it to the 6 month min is a bit\n",
    "    more involved. For now, leave it external. It can be integrated into the func/class\n",
    "    later if it is useful. Notice the shift on the rolling min(). The present squeeze value\n",
    "    should not be included in the window we are comparing it with.\n",
    "    '''\n",
    "    \n",
    "    asset_close = X.groupby('assetCode')['close']\n",
    "    \n",
    "    sma = asset_close.transform(lambda x: np.nansum(x[-20:]) / 20)\n",
    "    std = asset_close.transform(lambda x: np.std(x[-20:]) / 20)\n",
    "       \n",
    "    U = sma + (std*2)    \n",
    "    L = sma - (std*2) \n",
    "    \n",
    "    del asset_close\n",
    "    \n",
    "    return (U - L)/ sma, U, L\n",
    "    "
   ]
  },
  {
   "cell_type": "code",
   "execution_count": 186,
   "metadata": {},
   "outputs": [],
   "source": [
    "df_ = bbSqueeze(X)"
   ]
  },
  {
   "cell_type": "code",
   "execution_count": 188,
   "metadata": {},
   "outputs": [],
   "source": [
    "sq, u, l = df_"
   ]
  },
  {
   "cell_type": "code",
   "execution_count": 189,
   "metadata": {},
   "outputs": [
    {
     "data": {
      "text/plain": [
       "2121116    0.007921\n",
       "2121117    0.009022\n",
       "2121118    0.003359\n",
       "2121119    0.009012\n",
       "2121120    0.006576\n",
       "Name: close, dtype: float64"
      ]
     },
     "execution_count": 189,
     "metadata": {},
     "output_type": "execute_result"
    }
   ],
   "source": [
    "sq[-5:]"
   ]
  },
  {
   "cell_type": "code",
   "execution_count": 192,
   "metadata": {},
   "outputs": [
    {
     "data": {
      "text/plain": [
       "array([0.16254558, 0.18512325, 0.06891636, 0.18493176, 0.13492956])"
      ]
     },
     "execution_count": 192,
     "metadata": {},
     "output_type": "execute_result"
    }
   ],
   "source": [
    "squeeze[-5:]"
   ]
  },
  {
   "cell_type": "code",
   "execution_count": 182,
   "metadata": {},
   "outputs": [],
   "source": [
    "asset_close = X.groupby('assetCode')['close']\n",
    "    \n",
    "sma = asset_close.transform(lambda x: np.nansum(x[-20:]) / 20)"
   ]
  },
  {
   "cell_type": "code",
   "execution_count": null,
   "metadata": {},
   "outputs": [],
   "source": []
  },
  {
   "cell_type": "code",
   "execution_count": 191,
   "metadata": {},
   "outputs": [],
   "source": [
    "def BB_distance(dframe):\n",
    "    \n",
    "    '''price moves toward upper indicate bullish. This\n",
    "    returns the distance from stock price to upper or lower \n",
    "    BB. If the distance turns negative, the price is above/below. \n",
    "    See indicator lambdas.\n",
    "    \n",
    "     Squeeze is calculate per asset. However, comparing it to the 6 month min is a bit\n",
    "    more involved. For now, leave it external. It can be integrated into the func/class\n",
    "    later if it is useful. Notice the shift on the rolling min(). The present squeeze value\n",
    "    should not be included in the window we are comparing it with.\n",
    "    '''\n",
    "    \n",
    "    asset_close = dframe.groupby('assetCode')['close']\n",
    "    \n",
    "    sd_20 = (\n",
    "            asset_close.\n",
    "            transform(lambda x: x.rolling(window=20).\n",
    "            std()).\n",
    "            values        \n",
    "            )\n",
    "    \n",
    "    sma_20 = (\n",
    "            asset_close.\n",
    "            transform(lambda x: x.rolling(window=20).\n",
    "            mean()).\n",
    "            values\n",
    "            )\n",
    "    \n",
    "    # convert everything to arrays\n",
    "    \n",
    "    close = dframe['close'].values   \n",
    "    U = sma_20 + (sd_20*2)    \n",
    "    L = sma_20 - (sd_20*2) \n",
    "    squeeze = (U - L)/ sma_20\n",
    "\n",
    "    \n",
    "#     return (U - close, close - L, squeeze)\n",
    "    return (U, L, squeeze)\n",
    "\n",
    "U, L,  squeeze = BB_distance(X)\n",
    "    \n",
    "    \n",
    "# data['BB_upper_dis'], data['BB_lower_dis'],  data['squeeze']= BB_distance(data)\n",
    "    \n",
    "    \n"
   ]
  },
  {
   "cell_type": "code",
   "execution_count": 172,
   "metadata": {},
   "outputs": [
    {
     "name": "stdout",
     "output_type": "stream",
     "text": [
      "CPU times: user 3 µs, sys: 1 µs, total: 4 µs\n",
      "Wall time: 6.91 µs\n"
     ]
    }
   ],
   "source": [
    "\n",
    "\n",
    "\n"
   ]
  },
  {
   "cell_type": "code",
   "execution_count": 170,
   "metadata": {},
   "outputs": [
    {
     "name": "stdout",
     "output_type": "stream",
     "text": [
      "CPU times: user 3 µs, sys: 1e+03 ns, total: 4 µs\n",
      "Wall time: 5.96 µs\n"
     ]
    }
   ],
   "source": [
    "X = csv.copy()\n",
    "# X.reset_index(inplace=True)\n",
    "groups = X.groupby('assetCode')['close']\n",
    "\n",
    "sma = groups.transform(bBands)\n",
    "\n",
    "%time"
   ]
  },
  {
   "cell_type": "code",
   "execution_count": 173,
   "metadata": {},
   "outputs": [
    {
     "data": {
      "text/plain": [
       "array([12.80499997, 19.26400003, 98.04650116, 60.30749989, 40.13950005])"
      ]
     },
     "execution_count": 173,
     "metadata": {},
     "output_type": "execute_result"
    }
   ],
   "source": [
    "sma_20[-5:]"
   ]
  },
  {
   "cell_type": "code",
   "execution_count": 171,
   "metadata": {},
   "outputs": [
    {
     "data": {
      "text/plain": [
       "2121116    12.805000\n",
       "2121117    19.264000\n",
       "2121118    98.046501\n",
       "2121119    60.307500\n",
       "2121120    40.139500\n",
       "Name: close, dtype: float64"
      ]
     },
     "execution_count": 171,
     "metadata": {},
     "output_type": "execute_result"
    }
   ],
   "source": [
    "sma[-5:]"
   ]
  },
  {
   "cell_type": "code",
   "execution_count": null,
   "metadata": {},
   "outputs": [],
   "source": [
    "# Proposed method\n",
    "\n",
    "\n",
    "\n",
    "\n",
    "\n",
    "\n",
    "x = np.arange(df.shape[0])\n",
    "# this is an index array\n",
    "def sma(i, n=20):\n",
    "    \n",
    "    X = mult['close'].loc[assets[i]].values\n",
    "    return np.nansum(X[i-n+1:i+1]) / n\n",
    "\n",
    "vf = np.vectorize(sma)\n",
    "# print(vf(x)[-5:])\n",
    "\n",
    "sma = vf(x)\n",
    "\n",
    "%time"
   ]
  },
  {
   "cell_type": "code",
   "execution_count": 90,
   "metadata": {},
   "outputs": [
    {
     "data": {
      "text/plain": [
       "(2121121,)"
      ]
     },
     "execution_count": 90,
     "metadata": {},
     "output_type": "execute_result"
    }
   ],
   "source": [
    "x.shape"
   ]
  },
  {
   "cell_type": "code",
   "execution_count": null,
   "metadata": {},
   "outputs": [],
   "source": []
  },
  {
   "cell_type": "code",
   "execution_count": null,
   "metadata": {},
   "outputs": [],
   "source": []
  },
  {
   "cell_type": "code",
   "execution_count": null,
   "metadata": {},
   "outputs": [],
   "source": []
  },
  {
   "cell_type": "code",
   "execution_count": null,
   "metadata": {},
   "outputs": [],
   "source": []
  },
  {
   "cell_type": "code",
   "execution_count": null,
   "metadata": {},
   "outputs": [],
   "source": [
    "X = csv.copy()\n",
    "\n",
    "asset_close = X.groupby('assetCode')['close']\n",
    "    \n",
    "    \n",
    "    sma_20 = (\n",
    "            asset_close.\n",
    "            transform(lambda x: x.rolling(window=20).\n",
    "            mean()).\n",
    "            values\n",
    "            )"
   ]
  },
  {
   "cell_type": "code",
   "execution_count": null,
   "metadata": {},
   "outputs": [],
   "source": []
  },
  {
   "cell_type": "code",
   "execution_count": null,
   "metadata": {},
   "outputs": [],
   "source": []
  },
  {
   "cell_type": "code",
   "execution_count": null,
   "metadata": {},
   "outputs": [],
   "source": []
  },
  {
   "cell_type": "code",
   "execution_count": null,
   "metadata": {},
   "outputs": [],
   "source": []
  },
  {
   "cell_type": "code",
   "execution_count": null,
   "metadata": {},
   "outputs": [],
   "source": []
  },
  {
   "cell_type": "code",
   "execution_count": null,
   "metadata": {},
   "outputs": [],
   "source": []
  },
  {
   "cell_type": "code",
   "execution_count": null,
   "metadata": {},
   "outputs": [],
   "source": []
  },
  {
   "cell_type": "code",
   "execution_count": null,
   "metadata": {},
   "outputs": [],
   "source": []
  }
 ],
 "metadata": {
  "kernelspec": {
   "display_name": "quant",
   "language": "python",
   "name": "quant"
  },
  "language_info": {
   "codemirror_mode": {
    "name": "ipython",
    "version": 3
   },
   "file_extension": ".py",
   "mimetype": "text/x-python",
   "name": "python",
   "nbconvert_exporter": "python",
   "pygments_lexer": "ipython3",
   "version": "3.6.8"
  }
 },
 "nbformat": 4,
 "nbformat_minor": 2
}
