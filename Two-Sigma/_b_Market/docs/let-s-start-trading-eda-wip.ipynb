{
 "cells": [
  {
   "cell_type": "markdown",
   "metadata": {
    "_uuid": "0f0f2ea9d3e739d3655f83cf49462a4fa1375d2d"
   },
   "source": [
    "# TOC\n",
    "-  [Imports](#imports)\n",
    "- [Export the train data files](#export-train-data-file)\n",
    "- [Exploring data](#exploring-data)\n",
    "  - [Market data train exploration](#data-train-exploration)\n",
    "- [Prices](#prices)\n",
    "- [Feature engineering](#feature-engineering)\n",
    "   - [Daily percent Change](#daily-percent-change)\n",
    "   - [SMA 5 days](#sma-5days)\n",
    "   - [EMA 10 days](#ema-10-days)\n",
    "   - [EMA 10 days](#ema-20-days)\n",
    "   - [EMA 10 days](#ema-30-days)\n",
    "   - [EMA 10 days](#ema-50-days)\n",
    "   - [EMA 10 days](#ema-100-days)\n",
    "   - [EMA 10 days](#ema-200-days)\n",
    "-  [MACD](#macd)\n",
    " \n",
    "  - [26-Days EMA](#26-days-ema)\n",
    "  - [12-Days EMA](#12-days-ema)\n",
    "  - [MACD calc](#MACD-calc)\n",
    "  - [Signal Line](#signal-line)\n",
    "  - [Playing with equal](#playing-with-signal)\n",
    "\n",
    "- [RSI](#RSI)\n",
    "\n",
    "- [Using Time](#using-time)\n",
    "\n",
    "  - [Trading on different months](#trading-on-different-months)\n",
    "  - [Trading on different days](trading-on-different-days)\n",
    "  \n",
    "- [assetCode](#assetCode)"
   ]
  },
  {
   "cell_type": "markdown",
   "metadata": {
    "_uuid": "352760b21624a01f39b4b8bf7dcfd583bb3116cb"
   },
   "source": [
    "\n",
    "# Imports <a name=\"imports\"></a>\n",
    "Let's import the modules that we will use"
   ]
  },
  {
   "cell_type": "code",
   "execution_count": null,
   "metadata": {
    "_cell_guid": "b1076dfc-b9ad-4769-8c92-a6c4dae69d19",
    "_uuid": "8f2839f25d086af736a60e9eeb907d3b93b6e0e5"
   },
   "outputs": [],
   "source": [
    "# This Python 3 environment comes with many helpful analytics libraries installed\n",
    "# It is defined by the kaggle/python docker image: https://github.com/kaggle/docker-python\n",
    "# For example, here's several helpful packages to load in \n",
    "\n",
    "import numpy as np # linear algebra\n",
    "import pandas as pd # data processing, CSV file I/O (e.g. pd.read_csv)\n",
    "import matplotlib.pyplot as plt\n",
    "import seaborn  as sns\n",
    "import gc\n",
    "# Input data files are available in the \"../input/\" directory.\n",
    "# For example, running this (by clicking run or pressing Shift+Enter) will list the files in the input directory\n",
    "\n",
    "import os\n",
    "print(os.listdir(\"../input\"))\n",
    "\n",
    "# Any results you write to the current directory are saved as output."
   ]
  },
  {
   "cell_type": "markdown",
   "metadata": {
    "_uuid": "9af7a360b7fe37be4d9a3c1633dde20b901b1f03"
   },
   "source": [
    "# Export the train data files <a name=\"export-train-data-file\"></a>\n",
    "We have to do same special to access to the train data."
   ]
  },
  {
   "cell_type": "code",
   "execution_count": null,
   "metadata": {
    "_uuid": "ce40b4670e66fd2f898ae34a56f281f20f662524"
   },
   "outputs": [],
   "source": [
    "from kaggle.competitions import twosigmanews\n",
    "env = twosigmanews.make_env()"
   ]
  },
  {
   "cell_type": "code",
   "execution_count": null,
   "metadata": {
    "_uuid": "5e2fef1700639f9228866aab4538dd549d45133e"
   },
   "outputs": [],
   "source": [
    "(market_train_df, news_train_df) = env.get_training_data()"
   ]
  },
  {
   "cell_type": "code",
   "execution_count": null,
   "metadata": {
    "_uuid": "febf73c6a24970ae5e7a5e21ffbcbe13706534df"
   },
   "outputs": [],
   "source": [
    "# Let's do a copy because the above methods could be call once\n",
    "market_train = market_train_df\n",
    "news_train = news_train_df"
   ]
  },
  {
   "cell_type": "markdown",
   "metadata": {
    "_cell_guid": "79c7e3d0-c299-4dcb-8224-4455121ee9b0",
    "_uuid": "d629ff2d2480ee46fbb7e2d37f6b5fab8052498a",
    "collapsed": true
   },
   "source": [
    "# Exploring data <a name=\"exploring-data\"></a>\n",
    "Now,  I will explore the datas. I will start with market data\n",
    "## Market data train exploration <a name=\"data-train-exploration\"></a>"
   ]
  },
  {
   "cell_type": "code",
   "execution_count": null,
   "metadata": {
    "_uuid": "8f5000ab1d92485a7aca8e24125314f43cae1cf5"
   },
   "outputs": [],
   "source": [
    "print(\"shape market_train \", market_train.shape)\n",
    "market_train.head(5)"
   ]
  },
  {
   "cell_type": "code",
   "execution_count": null,
   "metadata": {
    "_uuid": "f1f66ede132beeb033ddbfa6a68cd21a11512f81"
   },
   "outputs": [],
   "source": [
    "print(market_train.info())"
   ]
  },
  {
   "cell_type": "code",
   "execution_count": null,
   "metadata": {
    "_uuid": "7ae44037b36b49ba67f91cbce05d62bc9be4e775"
   },
   "outputs": [],
   "source": [
    "# Let's see the the NaN values. \n",
    "print(market_train.isnull().sum())"
   ]
  },
  {
   "cell_type": "code",
   "execution_count": null,
   "metadata": {
    "_uuid": "adf22f97d58d2d3e54a41e75016b1cbc3fc84016"
   },
   "outputs": [],
   "source": [
    "print(\"The NaN values on returnsClosePrevMktres1 represent the: %f\" % (15980/4072956))\n",
    "print(\"The NaN values on returnsClosePrevMktres10 represent the: %f\" % (93010/4072956))"
   ]
  },
  {
   "cell_type": "markdown",
   "metadata": {
    "_uuid": "2d8bcc96d15d34bcbda45c5faa8398e9cf6f499a"
   },
   "source": [
    "There is a small proportion of NaN values.\n",
    "\n",
    "EDIT: This NaN values are correct. This can appear when there are prev values to calculate returns"
   ]
  },
  {
   "cell_type": "markdown",
   "metadata": {
    "_uuid": "345ac548376e86b9dfdd0930d2d5b55a6c5f522e"
   },
   "source": [
    "### Dtypes columns"
   ]
  },
  {
   "cell_type": "code",
   "execution_count": null,
   "metadata": {
    "_uuid": "db6111e76ca33241086816d5744340c2762c9c24"
   },
   "outputs": [],
   "source": [
    "market_train.dtypes"
   ]
  },
  {
   "cell_type": "markdown",
   "metadata": {
    "_uuid": "1931e0543884a735ae0d9ad2ab42ab288d097995"
   },
   "source": [
    "### Uniques Number\n"
   ]
  },
  {
   "cell_type": "code",
   "execution_count": null,
   "metadata": {
    "_uuid": "282c9a016d3b4cf6387388b4f60ef5701ac75843"
   },
   "outputs": [],
   "source": [
    "market_train.nunique()"
   ]
  },
  {
   "cell_type": "markdown",
   "metadata": {
    "_uuid": "c6f517907b68bcdea3c8d03a84ab0eb347ddb5aa"
   },
   "source": [
    "### Describe dataframe"
   ]
  },
  {
   "cell_type": "code",
   "execution_count": null,
   "metadata": {
    "_uuid": "2f9069fec4d6ae261571b5d92fb6045557692f59"
   },
   "outputs": [],
   "source": [
    "market_train.describe(include='all')"
   ]
  },
  {
   "cell_type": "markdown",
   "metadata": {
    "_uuid": "efad8fc9034f937cdbba8a4dfc7a82357971e95f"
   },
   "source": [
    "# Prices <a name=\"#prices\"></a>"
   ]
  },
  {
   "cell_type": "code",
   "execution_count": null,
   "metadata": {
    "_uuid": "ce0e0c02d3567f057df8679b8edc2fffdba519ff"
   },
   "outputs": [],
   "source": [
    "aapl_jan = market_train.query(\"time.dt.year == 2010 and assetCode == 'AAPL.O'\")\n",
    "aapl_jan"
   ]
  },
  {
   "cell_type": "code",
   "execution_count": null,
   "metadata": {
    "_uuid": "a09d219226093b34ae37ac3564a1447915ad02b0"
   },
   "outputs": [],
   "source": [
    "plt.figure(figsize=(10,6))\n",
    "# plt.plot(range(len(aapl_jan.time)), aapl_jan.close, label='Close price')\n",
    "# plt.plot(range(len(aapl_jan.time)), aapl_jan.open, label='Open price')\n",
    "plt.title(\"Opening and closing price\")\n",
    "plt.plot(aapl_jan.time, aapl_jan.open, label='Open price')\n",
    "plt.plot(aapl_jan.time, aapl_jan.close, label='Close price')\n",
    "plt.legend()\n",
    "plt.show()"
   ]
  },
  {
   "cell_type": "code",
   "execution_count": null,
   "metadata": {
    "_uuid": "fe1caeee037ae042046138e373d2ada5d486db62"
   },
   "outputs": [],
   "source": [
    "plt.figure(figsize=(10,6))\n",
    "plt.title(\"Opening and closing return mtres 1\")\n",
    "plt.bar(range(len(aapl_jan.time)), aapl_jan.returnsOpenPrevMktres1, label='Return Open price')\n",
    "plt.bar(range(len(aapl_jan.time)), aapl_jan.returnsClosePrevMktres1, label='Return Close price')\n",
    "plt.legend()\n",
    "plt.show()"
   ]
  },
  {
   "cell_type": "markdown",
   "metadata": {
    "_uuid": "ad853f9614ddfe659ccf188c8a6340df0ce632e4"
   },
   "source": [
    "# Feature engineering  <a name=\"feature-engineering\"></a>\n",
    "## Daily percent change <a name=\"daily-percent-change\"></a>\n",
    "This is the percentage change applied to a security.  This cold be calculate from this way:\n",
    "\n",
    "If the price increased, use the formula [(New Price - Old Price)/Old Price] and then multiply that number by 100.  If the price decreased, use the formula [(Old Price - New Price)/Old Price] and multiply that number by 100.  \n",
    "\n",
    "This way you could track the price of a asset, as well as compare the values of different currencies. \n",
    "\n",
    "Source: https://www.investopedia.com/terms/p/percentage-change.asp"
   ]
  },
  {
   "cell_type": "code",
   "execution_count": null,
   "metadata": {
    "_uuid": "ae94514f30a3ba197c907f59743f6e4351c8f29d"
   },
   "outputs": [],
   "source": [
    "aapl_daily_pct_change = aapl_jan.close / aapl_jan.close.shift(1) - 1\n",
    "aapl_daily_pct_change.hist(bins=50)"
   ]
  },
  {
   "cell_type": "code",
   "execution_count": null,
   "metadata": {
    "_uuid": "db8b22abaa4b7a327677290ef908f7bc1ee6fb51",
    "scrolled": true
   },
   "outputs": [],
   "source": [
    "market_train = market_train.assign(\n",
    "    daily_percent_price=market_train.groupby('assetCode',\n",
    "                                            as_index=False).apply(lambda x: x.close / x.close.shift(1) - 1)\n",
    "    .reset_index(0, drop=True)\n",
    ")"
   ]
  },
  {
   "cell_type": "markdown",
   "metadata": {
    "_uuid": "5f6b7e1331cdbf13876a348ee87b50668d783b96"
   },
   "source": [
    "Let's see some daily_percent_price stock"
   ]
  },
  {
   "cell_type": "code",
   "execution_count": null,
   "metadata": {
    "_uuid": "b429eed0474954c27c648a6595fa6a43578f18c3"
   },
   "outputs": [],
   "source": [
    "plt.figure(figsize=(12,8))\n",
    "ax1 = plt.subplot(221)\n",
    "market_train.query(\"time.dt.year == 2016 and assetCode == 'AAPL.O'\")['daily_percent_price'].hist(bins=50)\n",
    "ax2 = plt.subplot(222)\n",
    "market_train.query(\"time.dt.year == 2016 and assetCode == 'YPF.N'\")['daily_percent_price'].hist(bins=50)\n",
    "ax3 = plt.subplot(223)\n",
    "market_train.query(\"time.dt.year == 2016 and assetCode == 'A.N'\")['daily_percent_price'].hist(bins=50)\n",
    "ax4 = plt.subplot(224)\n",
    "market_train.query(\"time.dt.year == 2016 and assetCode == 'CMC.N'\")['daily_percent_price'].hist(bins=50)\n",
    "plt.show()"
   ]
  },
  {
   "cell_type": "raw",
   "metadata": {
    "_uuid": "7bdd3d03fc12a1f755f3a5668dad59fb0ce6df59"
   },
   "source": [
    "We can see that the four stock studied, they are normal distribution"
   ]
  },
  {
   "cell_type": "markdown",
   "metadata": {
    "_uuid": "1d04d19bc9b1f4b62ccc5165b57927afc37ecdb8"
   },
   "source": [
    "## Moving average <a name=\"moving-average\"></a>\n",
    "This is a technical analysis tool that help us to know what is the price trend, in the short, middle and long term.  The average is take over a specific period of time (e.g 10, 20, 30, 100, 200). This period of time could be seconds, minutes, days, weeks, etc.  A moving average helps cut down the amount of \"noise\" on a price chart. \n",
    "\n",
    "Sometime the moving average can be a support or resistance\n",
    "\n",
    "There are different kind of moving average:\n",
    "\n",
    "- SMA (simple moving area): this adds up the N most recent daily closing price and divide by N. This create the average  for each days.\n",
    "- EMA (exponencial moving area): it applies more weighting to the most recent prices. \n",
    "\n",
    "Commontly is used the 5 (using sma), 10, 20,  50 100 and 200-days average (at least that I read) So, we will calculate this average. \n",
    "\n",
    "Source: https://www.investopedia.com/articles/active-trading/052014/how-use-moving-average-buy-stocks.asp\n",
    "\n"
   ]
  },
  {
   "cell_type": "markdown",
   "metadata": {
    "_uuid": "a7ee395edc2a131c727f9f20afe747354cdd4eac"
   },
   "source": [
    "### SMA 5 days <a name=\"sma-5days\"></a>"
   ]
  },
  {
   "cell_type": "code",
   "execution_count": null,
   "metadata": {
    "_uuid": "8ae44c5d89d94135500c021fdbb24d9b34ca431e"
   },
   "outputs": [],
   "source": [
    "market_train = market_train.assign(\n",
    "    sma_5=market_train.groupby(['assetCode'], \n",
    "                     as_index=False)[['close']]\n",
    "    .rolling(window=5).mean().reset_index(0, drop=True))"
   ]
  },
  {
   "cell_type": "markdown",
   "metadata": {
    "_uuid": "262889e4661c18b24c70307ad01f9262499fccb1"
   },
   "source": [
    "### EMA 10 days <a name=\"ema-10-days\"></a>"
   ]
  },
  {
   "cell_type": "code",
   "execution_count": null,
   "metadata": {
    "_uuid": "266855712654dcea2edd673ba56d4d490d3f57fb"
   },
   "outputs": [],
   "source": [
    "market_train = market_train.assign(\n",
    "    ema_10=market_train.groupby(['assetCode'], as_index=False)\n",
    "    .apply(lambda g: g.close.ewm(10).mean()).reset_index(0, drop=True)\n",
    ")"
   ]
  },
  {
   "cell_type": "markdown",
   "metadata": {
    "_uuid": "b3dd035912adb0abbc4cf4d219ce7eb037b99997"
   },
   "source": [
    "### EMA 20 days <a name=\"ema-20-days\"></a>"
   ]
  },
  {
   "cell_type": "code",
   "execution_count": null,
   "metadata": {
    "_uuid": "b6f55d711a6894bf849864184e047549730c928b"
   },
   "outputs": [],
   "source": [
    "market_train = market_train.assign(\n",
    "    ema_20=market_train.groupby(['assetCode'], as_index=False)\n",
    "    .apply(lambda g: g.close.ewm(20).mean()).reset_index(0, drop=True)\n",
    ")"
   ]
  },
  {
   "cell_type": "markdown",
   "metadata": {
    "_uuid": "58e9015dc089ed0f4e63611aae74b57af105b99f"
   },
   "source": [
    "### EMA 30 days <a name=\"ema-30-days\"></a>"
   ]
  },
  {
   "cell_type": "code",
   "execution_count": null,
   "metadata": {
    "_uuid": "8dbf6b920769e6794c202c55836f741ad620feb1"
   },
   "outputs": [],
   "source": [
    "market_train = market_train.assign(\n",
    "    ema_30=market_train.groupby(['assetCode'], as_index=False)\n",
    "    .apply(lambda g: g.close.ewm(30).mean()).reset_index(0, drop=True)\n",
    ")"
   ]
  },
  {
   "cell_type": "markdown",
   "metadata": {
    "_uuid": "a9c4929ef81d4619c62664b90955482ad19873a2"
   },
   "source": [
    "### EMA 50 days <a name=\"ema-50-days\"></a>"
   ]
  },
  {
   "cell_type": "code",
   "execution_count": null,
   "metadata": {
    "_uuid": "35739e7d4ac249e733c625d4fa22ea21eb5ada9a"
   },
   "outputs": [],
   "source": [
    "market_train = market_train.assign(\n",
    "    ema_50=market_train.groupby(['assetCode'], as_index=False)\n",
    "    .apply(lambda g: g.close.ewm(50).mean()).reset_index(0, drop=True)\n",
    ")"
   ]
  },
  {
   "cell_type": "markdown",
   "metadata": {
    "_uuid": "16686e338adb28dd29ff7e55bb2cc064f71c19b0"
   },
   "source": [
    "### EMA 100 days <a name=\"ema-100-days\"></a>"
   ]
  },
  {
   "cell_type": "code",
   "execution_count": null,
   "metadata": {
    "_uuid": "dbde3fb5b51720e50f5f13185d3c23c7a2f9fe32"
   },
   "outputs": [],
   "source": [
    "market_train = market_train.assign(\n",
    "    ema_100=market_train.groupby(['assetCode'], as_index=False)\n",
    "    .apply(lambda g: g.close.ewm(100).mean()).reset_index(0, drop=True)\n",
    ")"
   ]
  },
  {
   "cell_type": "markdown",
   "metadata": {
    "_uuid": "86eb72cf1f825d1d5f3ef164cb487146cb0f62bb"
   },
   "source": [
    "### EMA 200 days <a name=\"ema-200-days\"></a>"
   ]
  },
  {
   "cell_type": "code",
   "execution_count": null,
   "metadata": {
    "_uuid": "0acc7d0f6094cdec06f8b21f4a3277d8c331f21c"
   },
   "outputs": [],
   "source": [
    "market_train = market_train.assign(\n",
    "    ema_200=market_train.groupby(['assetCode'], as_index=False)\n",
    "    .apply(lambda g: g.close.ewm(200).mean()).reset_index(0, drop=True)\n",
    ")"
   ]
  },
  {
   "cell_type": "code",
   "execution_count": null,
   "metadata": {
    "_uuid": "c9b3222a028830cb55824f951c1f16af68e61955"
   },
   "outputs": [],
   "source": [
    "plt.figure(figsize=(10, 8))\n",
    "plt.title(\"Moving average for AAPL. 2016\")\n",
    "market_train.query(\"time.dt.year == 2016 and assetCode == 'AAPL.O'\").close.plot(legend=True)\n",
    "market_train.query(\"time.dt.year == 2016 and assetCode == 'AAPL.O'\").sma_5.plot(legend=True)\n",
    "market_train.query(\"time.dt.year == 2016 and assetCode == 'AAPL.O'\").ema_10.plot(legend=True)\n",
    "market_train.query(\"time.dt.year == 2016 and assetCode == 'AAPL.O'\").ema_20.plot(legend=True)\n",
    "market_train.query(\"time.dt.year == 2016 and assetCode == 'AAPL.O'\").ema_30.plot(legend=True)\n",
    "market_train.query(\"time.dt.year == 2016 and assetCode == 'AAPL.O'\").ema_50.plot(legend=True)\n",
    "market_train.query(\"time.dt.year == 2016 and assetCode == 'AAPL.O'\").ema_100.plot(legend=True)\n",
    "market_train.query(\"time.dt.year == 2016 and assetCode == 'AAPL.O'\").ema_200.plot(legend=True)\n",
    "plt.show()"
   ]
  },
  {
   "cell_type": "markdown",
   "metadata": {
    "_uuid": "d239204da6ee599d9648d844e6c66a7e83e5519b"
   },
   "source": [
    "Here, we can see that for AAPL, in the long term, its trent is bearish (seeing the EMA 100 days). Also,  we can see that this down slowly. For EMA 100 days, we can see that this is drawing a U, maybe this represent a change of trent. \n",
    "\n",
    "In the short term, the trent is bullish."
   ]
  },
  {
   "cell_type": "markdown",
   "metadata": {
    "_uuid": "f3dc002021bf4dcb454ced0a4e00b96bb5ca29e1"
   },
   "source": [
    "# MACD <a name=macd></a>\n",
    "Moving average convergence divergence (MACD) is a trend-following momentum indicator that shows the relationship between two moving averages of prices. The MACD is calculated by subtracting the 26-day exponential moving average (EMA) from the 12-day EMA. A nine-day EMA of the MACD, called the \"signal line\", is then plotted on top of the MACD, functioning as a trigger for buy and sell signals.\n",
    "\n",
    "MACD can be interpreted using 3 different methods:\n",
    "*  Crossover: When the MACD falls bellow the signal line (9-day EMA) this is a bearish signal. When the MACD rise above the signal line, this is a bulish signal.\n",
    "\n",
    "* Divergence: Whent the price diverges from MACD, it signal the end of the current trend\n",
    "\n",
    "* Dramatic Rise: When MACD rises dramatically, that is, the shorter moving average pulls away from the longer-term moving average, this is a signal that the stock is overboutgh\n",
    "\n",
    "Source: https://www.investopedia.com/terms/m/macd.asp\n",
    "\n",
    "Let's calculate 26-day EMA, 12-day EMA and 9-day EMA"
   ]
  },
  {
   "cell_type": "markdown",
   "metadata": {
    "_uuid": "fd9213dd5ea26b995a2bb6e86c506e0ca8098537"
   },
   "source": [
    "## 26-days EMA <a name=\"26-days-ema\"></a>"
   ]
  },
  {
   "cell_type": "code",
   "execution_count": null,
   "metadata": {
    "_uuid": "577bc119710c393d56b88239e137880c20a4d264"
   },
   "outputs": [],
   "source": [
    "market_train = market_train.assign(\n",
    "    ema_26=market_train.groupby(['assetCode'], as_index=False)\n",
    "    .apply(lambda g: g.close.ewm(26).mean()).reset_index(0, drop=True)\n",
    ")"
   ]
  },
  {
   "cell_type": "markdown",
   "metadata": {
    "_uuid": "8a94bf89c2a5b7065a33e5731af882a0861535ae"
   },
   "source": [
    "## 12-days EMA <a name=\"12-days-ema\"></a>"
   ]
  },
  {
   "cell_type": "code",
   "execution_count": null,
   "metadata": {
    "_uuid": "37356b30ebcf286173414f643d36196a04d86aa6"
   },
   "outputs": [],
   "source": [
    "market_train = market_train.assign(\n",
    "    ema_12=market_train.groupby(['assetCode'], as_index=False)\n",
    "    .apply(lambda g: g.close.ewm(12).mean()).reset_index(0, drop=True)\n",
    ")"
   ]
  },
  {
   "cell_type": "markdown",
   "metadata": {
    "_uuid": "bb0bcd72de375522126fb42deb54c39030b258af"
   },
   "source": [
    "## MACD calc <a name=\"macd-calc\"></a>"
   ]
  },
  {
   "cell_type": "code",
   "execution_count": null,
   "metadata": {
    "_uuid": "39ff9f60ebf9e4723515330d9d8b0a5c05595422"
   },
   "outputs": [],
   "source": [
    "market_train['MACD'] = market_train.ema_12 - market_train.ema_26"
   ]
  },
  {
   "cell_type": "code",
   "execution_count": null,
   "metadata": {
    "_uuid": "941613641f6730236e59b7fbb795072c795a56d5"
   },
   "outputs": [],
   "source": [
    "market_train.tail(1)"
   ]
  },
  {
   "cell_type": "markdown",
   "metadata": {
    "_uuid": "a330354f162d45465e143e23df8aa07347bbccef"
   },
   "source": [
    "## Signal line <a name=\"signal-line\"></a>"
   ]
  },
  {
   "cell_type": "code",
   "execution_count": null,
   "metadata": {
    "_uuid": "a428af369598db62c21334076c43963a8d7c6dab"
   },
   "outputs": [],
   "source": [
    "market_train = market_train.assign(\n",
    "    signal_line_macd=market_train.groupby(['assetCode'], as_index=False)\n",
    "    .apply(lambda g: g.MACD.ewm(9).mean()).reset_index(0, drop=True)\n",
    ")"
   ]
  },
  {
   "cell_type": "markdown",
   "metadata": {
    "_uuid": "324a4759915ef80a376f435f6c6eeb178056f5dd"
   },
   "source": [
    "Let's draw the MACD for AAPL in 2011"
   ]
  },
  {
   "cell_type": "code",
   "execution_count": null,
   "metadata": {
    "_uuid": "7f2385c07690306dff9416803705f0b0b4af768a"
   },
   "outputs": [],
   "source": [
    "query = market_train.query(\"time.dt.year == 2011 and assetCode == 'AAPL.O'\")\n",
    "f1, ax1 = plt.subplots(figsize=(8,4))\n",
    "ax1.plot(query.index, query.close, color='black', lw=2, label='Close Price')\n",
    "ax1.legend(loc='upper right')\n",
    "ax1.set(title=\"Close Price for AAPL. 2011\", ylabel='Price')\n",
    "\n",
    "f2, ax2 = plt.subplots(figsize=(8,4))\n",
    "ax2.plot(query.index, query.MACD, color='green', lw=1, label='MACD Line (26, 12)')\n",
    "ax2.plot(query.index, query.signal_line_macd, color='purple', lw=1, label='Signal')\n",
    "ax2.fill_between(query.index, query.MACD - query.signal_line_macd, color='gray', alpha=0.5, label='MACD Histogram')\n",
    "ax2.set(title='MACD for AAPL. 2011', ylabel='MACD')\n",
    "ax2.legend(loc='upper right')\n",
    "plt.show()"
   ]
  },
  {
   "cell_type": "markdown",
   "metadata": {
    "_uuid": "65f8cd8141e7ef2a6bafda46f627aace6e44315a"
   },
   "source": [
    "We can see that crossover method could be a good strategy. We can see if the the Signal fall bellow MACD it's a sign of price growth. \n",
    "\n",
    "Let's make this method in a variable:\n",
    "\n",
    "## Playing with signal <a name=\"playing-with-signal\"></a>\n",
    "According to the first method to interpret the MACD, we will try save the crossover signals.  To do this, we need to know when the macd and signal line cross. If we have a cross of MACD above SL, this is a bullish signal, in other way is a bearish signal. So, here we go. "
   ]
  },
  {
   "cell_type": "code",
   "execution_count": null,
   "metadata": {
    "_uuid": "1b6e9fb45e778b346616df521107f483b1689de9"
   },
   "outputs": [],
   "source": [
    "market_train['signal_crossover_macd'] = 0.0"
   ]
  },
  {
   "cell_type": "code",
   "execution_count": null,
   "metadata": {
    "_uuid": "5c3e5013d9ee5bd8ccb261922da7cb6e2c7a1022"
   },
   "outputs": [],
   "source": [
    "market_train.signal_crossover_macd = np.where(market_train.MACD > market_train.signal_line_macd, 1.0, 0.0)"
   ]
  },
  {
   "cell_type": "code",
   "execution_count": null,
   "metadata": {
    "_uuid": "540d3bd785b1440df3604a25225a3c38d28e625f"
   },
   "outputs": [],
   "source": [
    "market_train['signal_crossover_macd'] = market_train.groupby(['assetCode'], as_index=False)['signal_crossover_macd'].diff().reset_index(0, drop=True)"
   ]
  },
  {
   "cell_type": "markdown",
   "metadata": {
    "_uuid": "c3df05680f42360607d9df86fb0569c5a10ac143"
   },
   "source": [
    "So, now we can have a strategy using the crossover method. When MACD (signal_crossover_macd == -1.0)  we must go short, in the other hand (signal_crossover_macd == 1.0) we must go long. "
   ]
  },
  {
   "cell_type": "markdown",
   "metadata": {
    "_uuid": "5a004dd0d14510d79c2ccf42835f1da4b6267ce7"
   },
   "source": [
    "# Relative Strength Index (RSI)<a name=\"RSI\"></a>\n",
    "Is a momentum indicator that measures the magnitude of recent price changes to evaluate overbought or oversold conditions in the price of a stock or other asset. The RSI is displayed as an oscillator and can have a reading from 0 to 100.\n",
    "\n",
    "The average gain or loss used in the calculation is the average percentage gain or losses during a lookback period. The formula uses positive values for the average losses.\n",
    "\n"
   ]
  },
  {
   "cell_type": "code",
   "execution_count": null,
   "metadata": {
    "_uuid": "d6c1dc19bd8c149b1431df18008c99e79eaa3457"
   },
   "outputs": [],
   "source": [
    "def relative_strength_index(close, n):\n",
    "    \"\"\"Calculate Relative Strength Index(RSI) for given data.\n",
    "    \n",
    "    :param df: pandas.Series\n",
    "    :param n: \n",
    "    :return: pandas.DataFrame\n",
    "    \"\"\"\n",
    "    buf = pd.DataFrame()\n",
    "    buf['close'] = close\n",
    "    buf['diff'] = buf.close.diff()\n",
    "    mask = buf['diff'] < 0\n",
    "    buf['high'] = abs(buf['diff'].mask(mask))\n",
    "    buf['low'] = abs(buf['diff'].mask(~mask))\n",
    "    buf['high'] = buf['high'].fillna(0)\n",
    "    buf['low'] = buf['low'].fillna(0)\n",
    "    posrs = buf['high'].ewm(span=n, min_periods=n).mean()\n",
    "    negrs = buf['low'].ewm(span=n, min_periods=n).mean()\n",
    "    buf['rsi'] = posrs / (posrs + negrs)\n",
    "    return buf.rsi\n"
   ]
  },
  {
   "cell_type": "code",
   "execution_count": null,
   "metadata": {
    "_uuid": "eedeb12395e114da4d7be2b53a030bd781d98b60"
   },
   "outputs": [],
   "source": [
    "market_train = market_train.assign(\n",
    "    rsi=market_train.groupby(['assetCode'], as_index=False)\n",
    "    .apply(lambda g: relative_strength_index(g.close, 14)).reset_index(0, drop=True)\n",
    ")"
   ]
  },
  {
   "cell_type": "code",
   "execution_count": null,
   "metadata": {
    "_uuid": "385ec4a8b5075548e546d9b18229c7497e8964f8"
   },
   "outputs": [],
   "source": [
    "market_train.tail()"
   ]
  },
  {
   "cell_type": "markdown",
   "metadata": {
    "_uuid": "ee2e48466816036288e39e08cd595af2963f9f1d"
   },
   "source": [
    "# Using the time <a name='using-time'></a>\n",
    "## Trading on different months <a name='trading-on-different-months'></a>\n",
    "\n",
    "There will be certain months where it will operate more? Let's see!"
   ]
  },
  {
   "cell_type": "code",
   "execution_count": null,
   "metadata": {
    "_uuid": "9e2d856cdadf1e60d496f4ba9351a7d1a3e3eb5a"
   },
   "outputs": [],
   "source": [
    "market_train['month'] = market_train['time'].apply(lambda x: x.month)"
   ]
  },
  {
   "cell_type": "code",
   "execution_count": null,
   "metadata": {
    "_uuid": "c42e63c37f427cd6afef2020309c385c5beccdef"
   },
   "outputs": [],
   "source": [
    "market_train.groupby('month').sum()['volume'].plot(figsize=(10,8))"
   ]
  },
  {
   "cell_type": "markdown",
   "metadata": {
    "_uuid": "23668bdeee2a876d5d6968df0425662a68d418c5"
   },
   "source": [
    "We can see that there are more transactions on october.\n",
    "\n",
    "Now, I want to know in the all year of dataset when there are more volume (I wait in the last years)"
   ]
  },
  {
   "cell_type": "code",
   "execution_count": null,
   "metadata": {
    "_uuid": "01a6f519de8bfeb7ae4682d50eb66a290ee1e8ad"
   },
   "outputs": [],
   "source": [
    "market_train['year'] = market_train['time'].apply(lambda x: x.year)"
   ]
  },
  {
   "cell_type": "code",
   "execution_count": null,
   "metadata": {
    "_uuid": "babb93cb3593cc7f3a6b7eca62fadb85105b6d10"
   },
   "outputs": [],
   "source": [
    "# market_train.groupby(['year', 'month']).sum()['volume'].heatmap(figsize=(10,8))\n",
    "df = market_train.pivot_table(index='year', columns='month', values='volume', aggfunc=np.sum)\n",
    "plt.figure(figsize=(10, 8))\n",
    "sns.heatmap(df, annot=False, fmt=\".1f\")\n",
    "plt.show()"
   ]
  },
  {
   "cell_type": "markdown",
   "metadata": {
    "_uuid": "89ae00c6b085327f593a1db04087819f873dbae9"
   },
   "source": [
    "Ok, will see that on octuber 2008,  there are a lot of volume!!! what happend there? -> that happend https://en.wikipedia.org/wiki/Financial_crisis_of_2007%E2%80%932008\n",
    "\n",
    "On Is not the result that I wait, but I see that in the last year the volume grow. And was a lot of volume on 2009.\n",
    "\n",
    "## Trading on different days <a name='trading-on-different-days'></a>\n",
    "\n",
    "Now, I want to know what days there are more volume.\n"
   ]
  },
  {
   "cell_type": "code",
   "execution_count": null,
   "metadata": {
    "_uuid": "a112de9738bb94fbe79603b62e507eb0c2b4c1fb"
   },
   "outputs": [],
   "source": [
    "market_train['day'] = market_train['time'].apply(lambda x: x.dayofweek)"
   ]
  },
  {
   "cell_type": "code",
   "execution_count": null,
   "metadata": {
    "_uuid": "0fa3ee6a6d0b62c802531e3d9204dbf2dfe81a7e"
   },
   "outputs": [],
   "source": [
    "market_train.groupby('day').sum()['volume'].plot(figsize=(10,8))"
   ]
  },
  {
   "cell_type": "markdown",
   "metadata": {
    "_uuid": "c5d75bd31dbdf7ac0f1a23a8d2a96e5f7662b1f5"
   },
   "source": [
    "We can see that the hot day is Wednesday and Thursday"
   ]
  },
  {
   "cell_type": "markdown",
   "metadata": {
    "_uuid": "c2906a942466d81afb51d9de53b544581c96db21"
   },
   "source": [
    "# assetCode\n",
    "In the assetCode there is a .Symbol. maybe that represent a market. "
   ]
  },
  {
   "cell_type": "code",
   "execution_count": null,
   "metadata": {
    "_uuid": "3e39a7b4ab7ec6096eea5e007f9b736b67701702"
   },
   "outputs": [],
   "source": [
    "market_train['ticket'] = market_train.assetCode.str.split('.', expand=True).iloc[:, 0]\n",
    "market_train['market'] = market_train.assetCode.str.split('.', expand=True).iloc[:, 1]\n",
    "market_train.market.value_counts()"
   ]
  },
  {
   "cell_type": "markdown",
   "metadata": {
    "_uuid": "ab25e81ec5ad2faf3537ce5da8e38e3e3fa25467"
   },
   "source": [
    "Looking on wikipedia:  https://en.wikipedia.org/wiki/Ticker_symbol \n",
    "\n",
    "This is the name of each code:\n",
    "\n",
    "N: third class – preferred shares\n",
    "\n",
    "O: second class – preferred shares\n",
    "\n",
    "A: Class \"A\"\n",
    "\n",
    "Q: In bankruptcy\n",
    "\n",
    "B: Class \"B\"\n",
    "\n",
    "P: first class preferred shares \n",
    "\n",
    "There is a discussion here https://www.kaggle.com/c/two-sigma-financial-news/discussion/67010#410135 but for now I will ignore this. \n",
    "\n"
   ]
  },
  {
   "cell_type": "markdown",
   "metadata": {
    "_uuid": "0c7f767d12270e31adc22874a493b57d25b92b41"
   },
   "source": []
  },
  {
   "cell_type": "code",
   "execution_count": null,
   "metadata": {
    "_uuid": "1b284855ed337412e54a685b23563b8d3a93e419"
   },
   "outputs": [],
   "source": []
  },
  {
   "cell_type": "code",
   "execution_count": null,
   "metadata": {
    "_uuid": "4f7f383d1b6fb7b15d9d260eee3a0aab858d8f29"
   },
   "outputs": [],
   "source": []
  },
  {
   "cell_type": "code",
   "execution_count": null,
   "metadata": {
    "_uuid": "c3cc0c6c240a345c18c8665dce5989d43c309aa8"
   },
   "outputs": [],
   "source": []
  },
  {
   "cell_type": "code",
   "execution_count": null,
   "metadata": {
    "_uuid": "8b082def3276e1e0c2505a439e611a153757f47c"
   },
   "outputs": [],
   "source": []
  },
  {
   "cell_type": "code",
   "execution_count": null,
   "metadata": {
    "_uuid": "aef4674ee52917a2f2cb27bf9931d82c5ccaa74b"
   },
   "outputs": [],
   "source": []
  },
  {
   "cell_type": "code",
   "execution_count": null,
   "metadata": {
    "_uuid": "896d767968524c49e0f4e89e12c52876f67f7bfb"
   },
   "outputs": [],
   "source": []
  },
  {
   "cell_type": "code",
   "execution_count": null,
   "metadata": {
    "_uuid": "aaf6f13b5e8b315c1a43bcbf496f08b149cd2986"
   },
   "outputs": [],
   "source": []
  }
 ],
 "metadata": {
  "kernelspec": {
   "display_name": "Python (sigma)",
   "language": "python",
   "name": "sigma"
  },
  "language_info": {
   "codemirror_mode": {
    "name": "ipython",
    "version": 3
   },
   "file_extension": ".py",
   "mimetype": "text/x-python",
   "name": "python",
   "nbconvert_exporter": "python",
   "pygments_lexer": "ipython3",
   "version": "3.6.6"
  }
 },
 "nbformat": 4,
 "nbformat_minor": 1
}
