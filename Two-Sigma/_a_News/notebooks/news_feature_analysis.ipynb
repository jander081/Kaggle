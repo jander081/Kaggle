{
 "cells": [
  {
   "cell_type": "markdown",
   "metadata": {},
   "source": [
    "# Features analysis"
   ]
  },
  {
   "cell_type": "code",
   "execution_count": 1,
   "metadata": {},
   "outputs": [],
   "source": [
    "path = '/Users/jacob/Desktop/studies/misc/kaggle/two_sigma_news/scripts'\n",
    "import sys\n",
    "sys.path.append(path)\n",
    "import pandas_datareader as web\n",
    "from sigma_libs import *\n",
    "\n",
    "df_market = pd.read_csv('../data/marketdata_sample.csv') \n",
    "df_news = pd.read_csv('../data/news_sample.csv')"
   ]
  },
  {
   "cell_type": "markdown",
   "metadata": {},
   "source": [
    "## News features\n",
    "\n",
    "Summary: See DESC doc"
   ]
  },
  {
   "cell_type": "markdown",
   "metadata": {},
   "source": [
    "1. data types - see processing\n",
    "2. value_counts & nulls: identify imputations, reduction, poss freq, \n",
    "3. Possible transformations\n",
    "4. Correlations: make notebook and .py"
   ]
  },
  {
   "cell_type": "code",
   "execution_count": 3,
   "metadata": {},
   "outputs": [
    {
     "data": {
      "text/html": [
       "<div>\n",
       "<style scoped>\n",
       "    .dataframe tbody tr th:only-of-type {\n",
       "        vertical-align: middle;\n",
       "    }\n",
       "\n",
       "    .dataframe tbody tr th {\n",
       "        vertical-align: top;\n",
       "    }\n",
       "\n",
       "    .dataframe thead th {\n",
       "        text-align: right;\n",
       "    }\n",
       "</style>\n",
       "<table border=\"1\" class=\"dataframe\">\n",
       "  <thead>\n",
       "    <tr style=\"text-align: right;\">\n",
       "      <th></th>\n",
       "      <th>time</th>\n",
       "      <th>sourceTimestamp</th>\n",
       "      <th>firstCreated</th>\n",
       "      <th>sourceId</th>\n",
       "      <th>headline</th>\n",
       "      <th>urgency</th>\n",
       "      <th>takeSequence</th>\n",
       "      <th>provider</th>\n",
       "      <th>subjects</th>\n",
       "      <th>audiences</th>\n",
       "      <th>bodySize</th>\n",
       "      <th>companyCount</th>\n",
       "      <th>headlineTag</th>\n",
       "      <th>marketCommentary</th>\n",
       "      <th>sentenceCount</th>\n",
       "      <th>wordCount</th>\n",
       "      <th>assetCodes</th>\n",
       "      <th>assetName</th>\n",
       "      <th>firstMentionSentence</th>\n",
       "      <th>relevance</th>\n",
       "      <th>sentimentClass</th>\n",
       "      <th>sentimentNegative</th>\n",
       "      <th>sentimentNeutral</th>\n",
       "      <th>sentimentPositive</th>\n",
       "      <th>sentimentWordCount</th>\n",
       "      <th>noveltyCount12H</th>\n",
       "      <th>noveltyCount24H</th>\n",
       "      <th>noveltyCount3D</th>\n",
       "      <th>noveltyCount5D</th>\n",
       "      <th>noveltyCount7D</th>\n",
       "      <th>volumeCounts12H</th>\n",
       "      <th>volumeCounts24H</th>\n",
       "      <th>volumeCounts3D</th>\n",
       "      <th>volumeCounts5D</th>\n",
       "      <th>volumeCounts7D</th>\n",
       "    </tr>\n",
       "  </thead>\n",
       "  <tbody>\n",
       "    <tr>\n",
       "      <th>0</th>\n",
       "      <td>2007-01-01 04:29:32+00:00</td>\n",
       "      <td>2007-01-01 04:29:32+00:00</td>\n",
       "      <td>2007-01-01 04:29:32+00:00</td>\n",
       "      <td>e58c6279551b85cf</td>\n",
       "      <td>China's Daqing pumps 43.41 mln tonnes of oil i...</td>\n",
       "      <td>3</td>\n",
       "      <td>1</td>\n",
       "      <td>RTRS</td>\n",
       "      <td>{'CRU', 'CN', 'RTRS', 'ENR', 'LEN', 'EMRG', 'N...</td>\n",
       "      <td>{'O', 'Z', 'OIL'}</td>\n",
       "      <td>1438</td>\n",
       "      <td>1</td>\n",
       "      <td>NaN</td>\n",
       "      <td>False</td>\n",
       "      <td>11</td>\n",
       "      <td>275</td>\n",
       "      <td>{'PTR.N', '0857.F', '0857.DE', '0857.HK'}</td>\n",
       "      <td>PetroChina Co Ltd</td>\n",
       "      <td>6</td>\n",
       "      <td>0.235702</td>\n",
       "      <td>-1</td>\n",
       "      <td>0.500739</td>\n",
       "      <td>0.419327</td>\n",
       "      <td>0.079934</td>\n",
       "      <td>73</td>\n",
       "      <td>0</td>\n",
       "      <td>0</td>\n",
       "      <td>0</td>\n",
       "      <td>0</td>\n",
       "      <td>0</td>\n",
       "      <td>0</td>\n",
       "      <td>0</td>\n",
       "      <td>3</td>\n",
       "      <td>6</td>\n",
       "      <td>7</td>\n",
       "    </tr>\n",
       "    <tr>\n",
       "      <th>1</th>\n",
       "      <td>2007-01-01 07:03:35+00:00</td>\n",
       "      <td>2007-01-01 07:03:34+00:00</td>\n",
       "      <td>2007-01-01 07:03:34+00:00</td>\n",
       "      <td>5a31c4327427f63f</td>\n",
       "      <td>FEATURE-In kidnapping, finesse works best</td>\n",
       "      <td>3</td>\n",
       "      <td>1</td>\n",
       "      <td>RTRS</td>\n",
       "      <td>{'BD', 'INS', 'LATAM', 'CA', 'US', 'MX', 'IL',...</td>\n",
       "      <td>{'PGE', 'PCU', 'PCO', 'DNP', 'MD', 'E', 'G', '...</td>\n",
       "      <td>4413</td>\n",
       "      <td>1</td>\n",
       "      <td>FEATURE</td>\n",
       "      <td>False</td>\n",
       "      <td>55</td>\n",
       "      <td>907</td>\n",
       "      <td>{'STA.N'}</td>\n",
       "      <td>Travelers Companies Inc</td>\n",
       "      <td>8</td>\n",
       "      <td>0.447214</td>\n",
       "      <td>-1</td>\n",
       "      <td>0.600082</td>\n",
       "      <td>0.345853</td>\n",
       "      <td>0.054064</td>\n",
       "      <td>62</td>\n",
       "      <td>1</td>\n",
       "      <td>1</td>\n",
       "      <td>1</td>\n",
       "      <td>1</td>\n",
       "      <td>1</td>\n",
       "      <td>1</td>\n",
       "      <td>1</td>\n",
       "      <td>3</td>\n",
       "      <td>3</td>\n",
       "      <td>3</td>\n",
       "    </tr>\n",
       "  </tbody>\n",
       "</table>\n",
       "</div>"
      ],
      "text/plain": [
       "                        time            sourceTimestamp  \\\n",
       "0  2007-01-01 04:29:32+00:00  2007-01-01 04:29:32+00:00   \n",
       "1  2007-01-01 07:03:35+00:00  2007-01-01 07:03:34+00:00   \n",
       "\n",
       "                firstCreated          sourceId  \\\n",
       "0  2007-01-01 04:29:32+00:00  e58c6279551b85cf   \n",
       "1  2007-01-01 07:03:34+00:00  5a31c4327427f63f   \n",
       "\n",
       "                                            headline  urgency  takeSequence  \\\n",
       "0  China's Daqing pumps 43.41 mln tonnes of oil i...        3             1   \n",
       "1          FEATURE-In kidnapping, finesse works best        3             1   \n",
       "\n",
       "  provider                                           subjects  \\\n",
       "0     RTRS  {'CRU', 'CN', 'RTRS', 'ENR', 'LEN', 'EMRG', 'N...   \n",
       "1     RTRS  {'BD', 'INS', 'LATAM', 'CA', 'US', 'MX', 'IL',...   \n",
       "\n",
       "                                           audiences  bodySize  companyCount  \\\n",
       "0                                  {'O', 'Z', 'OIL'}      1438             1   \n",
       "1  {'PGE', 'PCU', 'PCO', 'DNP', 'MD', 'E', 'G', '...      4413             1   \n",
       "\n",
       "  headlineTag  marketCommentary  sentenceCount  wordCount  \\\n",
       "0         NaN             False             11        275   \n",
       "1     FEATURE             False             55        907   \n",
       "\n",
       "                                  assetCodes                assetName  \\\n",
       "0  {'PTR.N', '0857.F', '0857.DE', '0857.HK'}        PetroChina Co Ltd   \n",
       "1                                  {'STA.N'}  Travelers Companies Inc   \n",
       "\n",
       "   firstMentionSentence  relevance  sentimentClass  sentimentNegative  \\\n",
       "0                     6   0.235702              -1           0.500739   \n",
       "1                     8   0.447214              -1           0.600082   \n",
       "\n",
       "   sentimentNeutral  sentimentPositive  sentimentWordCount  noveltyCount12H  \\\n",
       "0          0.419327           0.079934                  73                0   \n",
       "1          0.345853           0.054064                  62                1   \n",
       "\n",
       "   noveltyCount24H  noveltyCount3D  noveltyCount5D  noveltyCount7D  \\\n",
       "0                0               0               0               0   \n",
       "1                1               1               1               1   \n",
       "\n",
       "   volumeCounts12H  volumeCounts24H  volumeCounts3D  volumeCounts5D  \\\n",
       "0                0                0               3               6   \n",
       "1                1                1               3               3   \n",
       "\n",
       "   volumeCounts7D  \n",
       "0               7  \n",
       "1               3  "
      ]
     },
     "execution_count": 3,
     "metadata": {},
     "output_type": "execute_result"
    }
   ],
   "source": [
    "df_news.head(2)"
   ]
  },
  {
   "cell_type": "code",
   "execution_count": 10,
   "metadata": {},
   "outputs": [
    {
     "data": {
      "text/plain": [
       "0.67"
      ]
     },
     "execution_count": 10,
     "metadata": {},
     "output_type": "execute_result"
    }
   ],
   "source": [
    "df_news.sourceId.nunique() / df_news.sourceId.size # FULL = .715\n",
    "# CONSIDER FREQUENCY AND AGGREGATATION?\n",
    "# NO NULLS"
   ]
  },
  {
   "cell_type": "code",
   "execution_count": 11,
   "metadata": {},
   "outputs": [
    {
     "data": {
      "text/plain": [
       "\"China's Daqing pumps 43.41 mln tonnes of oil in 06\""
      ]
     },
     "execution_count": 11,
     "metadata": {},
     "output_type": "execute_result"
    }
   ],
   "source": [
    "# HEADLINE\n",
    "df_news['headline'][0]\n",
    "# I FEEL THERE IS A LOT THAT CAN BE DONE WITH THIS. E.G. KEYS WORDS, ETC\n",
    "# IF WE KNOW THE SENTIMENT, THEN WE CAN CREATE FEATURES TO REPRESENT \n",
    "# CERTAIN KEY WORDS GIVEN CERTAIN SENTIMENT. EX, CHINA IS MENTIONED WITH\n",
    "# A NEGATIVE SENTIMENT SCORE"
   ]
  },
  {
   "cell_type": "code",
   "execution_count": 16,
   "metadata": {},
   "outputs": [
    {
     "data": {
      "text/plain": [
       "2"
      ]
     },
     "execution_count": 16,
     "metadata": {},
     "output_type": "execute_result"
    }
   ],
   "source": [
    "# URGENCY\n",
    "# differentiates story types (1: alert, 3: article)\n",
    "# THERE ARE 2 X 25?\n",
    "# NO NULLS\n",
    "df_news.urgency.value_counts().shape[0]"
   ]
  },
  {
   "cell_type": "code",
   "execution_count": null,
   "metadata": {},
   "outputs": [],
   "source": [
    "# TAKE SEQUENCE\n",
    "# the take sequence number of the news item, starting at 1. \n",
    "# For a given story, alerts and articles have separate sequences.\n",
    "\n",
    "feat = 'takeSequence'\n",
    "print(df_news[feat].value_counts().shape[0], '\\n') # 97\n",
    "print(df_news[feat].value_counts().head(), '\\n')\n",
    "print(df_news[feat].isnull().sum(), '\\n') # 0\n",
    "print(df_news[feat].nunique() / df_news[feat].size)"
   ]
  },
  {
   "cell_type": "code",
   "execution_count": null,
   "metadata": {},
   "outputs": [],
   "source": [
    "# PROVIDER\n",
    "# identifier for the organization which provided the news item\n",
    "feat = 'provider'\n",
    "print(df_news[feat].value_counts().shape[0], '\\n') # 31\n",
    "print(df_news[feat].value_counts().head(), '\\n')\n",
    "print(df_news[feat].isnull().sum(), '\\n') # 0\n",
    "print(df_news[feat].nunique() / df_news[feat].size) # NA"
   ]
  },
  {
   "cell_type": "code",
   "execution_count": null,
   "metadata": {},
   "outputs": [],
   "source": [
    "# SUBJECTS\n",
    "# topic codes and company identifiers that relate to this news item. \n",
    "# Topic codes describe the news item's subject matter. These can cover \n",
    "# asset classes, geographies, events, industries/sectors, and other \n",
    "# types.\n",
    "\n",
    "feat = 'subjects'\n",
    "print(df_news[feat].value_counts().shape[0], '\\n') # 2073621 \n",
    "print(df_news[feat].value_counts().head(), '\\n')\n",
    "print(df_news[feat].isnull().sum(), '\\n') # 0\n",
    "print(df_news[feat].nunique() / df_news[feat].size) # .19\n",
    "\n",
    "# THESE NEED TO BE UNPACKED AND PROBABLY CONVERTED TO INDICATORS\n"
   ]
  },
  {
   "cell_type": "code",
   "execution_count": null,
   "metadata": {},
   "outputs": [],
   "source": [
    "# AUDIENCES\n",
    "# identifies which desktop news product(s) the news item belongs to. \n",
    "# They are typically tailored to specific audiences. \n",
    "# (e.g. \"M\" for Money International News Service and \"FB\" for French \n",
    "# General News Service)\n",
    "\n",
    "feat = 'audiences'\n",
    "print(df_news[feat].value_counts().shape[0], '\\n') # 103918 \n",
    "print(df_news[feat].value_counts().head(), '\\n')\n",
    "print(df_news[feat].isnull().sum(), '\\n') # 0\n",
    "print(df_news[feat].nunique() / df_news[feat].size) # NA\n",
    "\n",
    "# THESE NEED TO BE UNPACKED AND PROBABLY CONVERTED TO INDICATORS. THEY CAN\n",
    "# ALSO BE GROUPED FURTHER TO CREATE NEW FEATURES\n"
   ]
  },
  {
   "cell_type": "code",
   "execution_count": null,
   "metadata": {},
   "outputs": [],
   "source": [
    "# BODY SIZE\n",
    "# the size of the current version of the story body in characters\n",
    "\n",
    "feat = 'bodySize'\n",
    "print(df_news[feat].value_counts().shape[0], '\\n') # 61200 \n",
    "print(df_news[feat].value_counts().head(), '\\n')\n",
    "print(df_news[feat].isnull().sum(), '\\n') # 0\n",
    "print(df_news[feat].nunique() / df_news[feat].size) # NA\n",
    "\n",
    "# ROUGHLY A THIRD OF THESE VALUES = 0 -> NEED TO EXPLORE. THE BODY SIZE \n",
    "# SHOULD NEVER BE 0"
   ]
  },
  {
   "cell_type": "code",
   "execution_count": null,
   "metadata": {},
   "outputs": [],
   "source": [
    "# COMPANY COUNT\n",
    "# the number of companies explicitly listed in the news item in the \n",
    "# subjects field\n",
    "\n",
    "feat = 'companyCount'\n",
    "print(df_news[feat].value_counts().shape[0], '\\n') # 43 \n",
    "print(df_news[feat].value_counts().head(), '\\n')\n",
    "print(df_news[feat].isnull().sum(), '\\n') # 0\n",
    "print(df_news[feat].nunique() / df_news[feat].size) # NA\n",
    "\n",
    "# ROUGHLY A THIRD OF THESE VALUES = 0 -> NEED TO EXPLORE. THE BODY SIZE \n",
    "# SHOULD NEVER BE 0"
   ]
  },
  {
   "cell_type": "code",
   "execution_count": null,
   "metadata": {},
   "outputs": [],
   "source": [
    "# HEADLINE TAG\n",
    "# the Thomson Reuters headline tag for the news item\n",
    "\n",
    "feat = 'headlineTag'\n",
    "print(df_news[feat].value_counts().shape[0], '\\n') # 163 \n",
    "print(df_news[feat].value_counts().head(), '\\n')\n",
    "print(df_news[feat].isnull().sum(), '\\n') # 0\n",
    "print(df_news[feat].nunique() / df_news[feat].size) # NA\n",
    "\n",
    "# 6341993 BLANK VALUES"
   ]
  },
  {
   "cell_type": "code",
   "execution_count": null,
   "metadata": {},
   "outputs": [],
   "source": [
    "# MARKET COMMENTARY\n",
    "# boolean indicator that the item is discussing general market \n",
    "# conditions, such as \"After the Bell\" summaries\n",
    "\n",
    "feat = 'marketCommentary'\n",
    "print(df_news[feat].value_counts().shape[0], '\\n') # 2\n",
    "print(df_news[feat].value_counts().head(), '\\n')\n",
    "print(df_news[feat].isnull().sum(), '\\n') # 0\n",
    "print(df_news[feat].nunique() / df_news[feat].size) # NA\n",
    "\n",
    "# MOSTLY FALSE > 8M"
   ]
  },
  {
   "cell_type": "code",
   "execution_count": null,
   "metadata": {},
   "outputs": [],
   "source": [
    "# SENTENCE COUNT\n",
    "# the total number of sentences in the news item. Can be used in \n",
    "# conjunction with firstMentionSentence to determine the relative \n",
    "# position of the first mention in the item.\n",
    "\n",
    "feat = 'sentenceCount'\n",
    "print(df_news[feat].value_counts().shape[0], '\\n') # 669\n",
    "print(df_news[feat].value_counts().head(), '\\n')\n",
    "print(df_news[feat].isnull().sum(), '\\n') # 0\n",
    "print(df_news[feat].nunique() / df_news[feat].size) # NA\n",
    "\n",
    "# MOSTLY 1"
   ]
  },
  {
   "cell_type": "code",
   "execution_count": null,
   "metadata": {},
   "outputs": [],
   "source": [
    "# WORD COUNT\n",
    "# the total number of lexical tokens (words and punctuation) in the news \n",
    "# item\n",
    "\n",
    "feat = 'wordCount'\n",
    "print(df_news[feat].value_counts().shape[0], '\\n') # 10365\n",
    "print(df_news[feat].value_counts().head(), '\\n')\n",
    "print(df_news[feat].isnull().sum(), '\\n') # 0\n",
    "print(df_news[feat].nunique() / df_news[feat].size) # NA\n",
    "\n"
   ]
  },
  {
   "cell_type": "code",
   "execution_count": null,
   "metadata": {},
   "outputs": [],
   "source": [
    "# ASSET CODES\n",
    "# list of assets mentioned in the item\n",
    "\n",
    "feat = 'assetCodes'\n",
    "print(df_news[feat].value_counts().shape[0], '\\n') # 11582\n",
    "print(df_news[feat].value_counts().head(), '\\n')\n",
    "print(df_news[feat].isnull().sum(), '\\n') # 0\n",
    "print(df_news[feat].nunique() / df_news[feat].size) # NA\n",
    "\n",
    "# NEED TO UNPACK - ALREADY DONE\n",
    "\n",
    "# NEED TO REDO: ASSET NAME CAN HAVE MORE THAN ONE ASSET CODE. HOWEVER, \n",
    "# THE NEWS FEATURES (RELEVANCE, ETC) ARE SPECIFIC TO THAT ASSET NAME/CODES. \n",
    "# AFTER UNPACKING,JOIN ON DATE, CODE, AND NAME. \n",
    "\n"
   ]
  },
  {
   "cell_type": "code",
   "execution_count": null,
   "metadata": {},
   "outputs": [],
   "source": [
    "# FIRST MENTION SENTENCE\n",
    "# the first sentence, starting with the headline, in which the scored asset is mentioned.\n",
    "# 1: headline\n",
    "# 2: first sentence of the story body\n",
    "# 3: second sentence of the body, etc\n",
    "# 0: the asset being scored was not found in the news item's headline or body text. As a result, the entire news item's text (headline + body) will be used to determine the sentiment score.\n",
    "\n",
    "feat = 'firstMentionSentence'\n",
    "print(df_news[feat].value_counts().shape[0], '\\n') # 516\n",
    "print(df_news[feat].value_counts().head(), '\\n')\n",
    "print(df_news[feat].isnull().sum(), '\\n') # 0\n",
    "print(df_news[feat].nunique() / df_news[feat].size) # NA\n",
    "\n",
    "# MOSTLY 1 AND 0"
   ]
  },
  {
   "cell_type": "code",
   "execution_count": null,
   "metadata": {},
   "outputs": [],
   "source": [
    "# RELEVANCE\n",
    "# a decimal number indicating the relevance of the news item to the asset.\n",
    "# It ranges from 0 to 1. If the asset is mentioned in the headline, \n",
    "# the relevance is set to 1. When the item is an alert (urgency == 1), \n",
    "# relevance should be gauged by firstMentionSentence instead.\n",
    "\n",
    "feat = 'relevance'\n",
    "print(df_news[feat].value_counts().shape[0], '\\n') # 28412\n",
    "print(df_news[feat].value_counts().head(), '\\n')\n",
    "print(df_news[feat].isnull().sum(), '\\n') # 0\n",
    "print(df_news[feat].nunique() / df_news[feat].size) # NA\n"
   ]
  },
  {
   "cell_type": "code",
   "execution_count": null,
   "metadata": {},
   "outputs": [],
   "source": [
    "# SENTIMENT CLASS\n",
    "# indicates the predominant sentiment class for this news item with \n",
    "# respect to the asset. The indicated class is the one with the highest \n",
    "# probability.\n",
    "\n",
    "feat = 'sentimentClass'\n",
    "print(df_news[feat].value_counts().shape[0], '\\n') # 3\n",
    "print(df_news[feat].value_counts().head(), '\\n')\n",
    "print(df_news[feat].isnull().sum(), '\\n') # 0\n",
    "print(df_news[feat].nunique() / df_news[feat].size) # NA\n",
    "\n",
    "# RELATIVELY EQUAL DISPERSION"
   ]
  },
  {
   "cell_type": "code",
   "execution_count": null,
   "metadata": {},
   "outputs": [],
   "source": [
    "# SENTIMENT NEGATIVE\n",
    "# probability that the sentiment of the news item was negative for the \n",
    "# asset\n",
    "\n",
    "feat = 'sentimentNegative'\n",
    "print(df_news[feat].value_counts().shape[0], '\\n') # 1321080\n",
    "print(df_news[feat].value_counts().head(), '\\n')\n",
    "print(df_news[feat].isnull().sum(), '\\n') # 0\n",
    "print(df_news[feat].nunique() / df_news[feat].size) # 0.14161382821\n"
   ]
  },
  {
   "cell_type": "code",
   "execution_count": null,
   "metadata": {},
   "outputs": [],
   "source": [
    "# SENTIMENT NEUTRAL\n",
    "# probability that the sentiment of the news item was neutral for the asset\n",
    "\n",
    "feat = 'sentimentNeutral'\n",
    "print(df_news[feat].value_counts().shape[0], '\\n') # 582507\n",
    "print(df_news[feat].value_counts().head(), '\\n')\n",
    "print(df_news[feat].isnull().sum(), '\\n') # 0\n",
    "print(df_news[feat].nunique() / df_news[feat].size) # 0.0624421\n"
   ]
  },
  {
   "cell_type": "code",
   "execution_count": null,
   "metadata": {},
   "outputs": [],
   "source": [
    "# SENTIMENT POSITIVE\n",
    "# probability that the sentiment of the news item was positive for the asset\n",
    "\n",
    "feat = 'sentimentPositive'\n",
    "print(df_news[feat].value_counts().shape[0], '\\n') # 1025372\n",
    "print(df_news[feat].value_counts().head(), '\\n')\n",
    "print(df_news[feat].isnull().sum(), '\\n') # 0\n",
    "print(df_news[feat].nunique() / df_news[feat].size) # 0.1099152619\n"
   ]
  },
  {
   "cell_type": "code",
   "execution_count": null,
   "metadata": {},
   "outputs": [],
   "source": [
    "# SENTIMENT WORD COUNT\n",
    "# the number of lexical tokens in the sections of the item text that \n",
    "# are deemed relevant to the asset. This can be used in conjunction \n",
    "# with wordCount to determine the proportion of the news item discussing \n",
    "# the asset.\n",
    "feat = 'sentimentWordCount'\n",
    "print(df_news[feat].value_counts().shape[0], '\\n') # 6493\n",
    "print(df_news[feat].value_counts().head(), '\\n')\n",
    "print(df_news[feat].isnull().sum(), '\\n') # 0\n",
    "print(df_news[feat].nunique() / df_news[feat].size) # NA\n",
    "\n",
    "# BASICALLY TELLS YOU HOW TO ENGINEER ANOTHER FEATURE\n"
   ]
  },
  {
   "cell_type": "code",
   "execution_count": null,
   "metadata": {},
   "outputs": [],
   "source": [
    "# 12HR, 24HR, 3D, 5D, 7D NOVELTY\n",
    "# The novelty of the content within a news item on a particular \n",
    "# asset. It is calculated by comparing it with the asset-specific text \n",
    "# over a cache of previous news items that contain the asset.\n",
    "\n",
    "feat = 'noveltyCount12H'\n",
    "print(df_news[feat].value_counts().shape[0], '\\n') # 501\n",
    "print(df_news[feat].value_counts().head(), '\\n')\n",
    "print(df_news[feat].isnull().sum(), '\\n') # 0\n",
    "print(df_news[feat].nunique() / df_news[feat].size) # NA\n",
    "\n",
    "# MOSTLY VALUES 0 - 4"
   ]
  },
  {
   "cell_type": "code",
   "execution_count": null,
   "metadata": {},
   "outputs": [],
   "source": [
    "# 12HR, 24HR, 3D, 5D, 7D VOLUME\n",
    "# the volume of news for each asset. A cache of previous news \n",
    "# items is maintained and the number of news items that mention the \n",
    "# asset within each of five historical periods is calculated.\n",
    "\n",
    "feat = 'volumeCounts12H'\n",
    "print(df_news[feat].value_counts().shape[0], '\\n') # 2565\n",
    "print(df_news[feat].value_counts().head(), '\\n')\n",
    "print(df_news[feat].isnull().sum(), '\\n') # 0\n",
    "print(df_news[feat].nunique() / df_news[feat].size) # NA\n",
    "\n",
    "# MOSTLY VALUES 0 - 4"
   ]
  },
  {
   "cell_type": "code",
   "execution_count": null,
   "metadata": {},
   "outputs": [],
   "source": []
  },
  {
   "cell_type": "code",
   "execution_count": null,
   "metadata": {},
   "outputs": [],
   "source": []
  },
  {
   "cell_type": "code",
   "execution_count": null,
   "metadata": {},
   "outputs": [],
   "source": []
  }
 ],
 "metadata": {
  "kernelspec": {
   "display_name": "Python 2",
   "language": "python",
   "name": "python2"
  },
  "language_info": {
   "codemirror_mode": {
    "name": "ipython",
    "version": 2
   },
   "file_extension": ".py",
   "mimetype": "text/x-python",
   "name": "python",
   "nbconvert_exporter": "python",
   "pygments_lexer": "ipython2",
   "version": "2.7.15"
  }
 },
 "nbformat": 4,
 "nbformat_minor": 2
}
