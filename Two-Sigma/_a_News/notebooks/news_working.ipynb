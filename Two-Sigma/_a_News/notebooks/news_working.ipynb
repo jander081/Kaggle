{
 "cells": [
  {
   "cell_type": "markdown",
   "metadata": {},
   "source": [
    "# News_working"
   ]
  },
  {
   "cell_type": "code",
   "execution_count": 11,
   "metadata": {},
   "outputs": [],
   "source": [
    "path = '/Users/jacob/Desktop/studies/misc/kaggle/two_sigma_news/scripts'\n",
    "import resource\n",
    "import sys\n",
    "sys.path.append(path)\n",
    "from sigma_libs import *\n",
    "# import backtrader as bt\n",
    "\n",
    "df_market = pd.read_csv('../data/marketdata_sample.csv') \n",
    "df_news = pd.read_csv('../data/news_sample.csv')"
   ]
  },
  {
   "cell_type": "code",
   "execution_count": 12,
   "metadata": {},
   "outputs": [
    {
     "name": "stdout",
     "output_type": "stream",
     "text": [
      "Checkpoint 1\n",
      "Memory usage: 120127488 (kb)\n"
     ]
    }
   ],
   "source": [
    "print(\"Checkpoint 1\")\n",
    "print('Memory usage: %s (kb)' \n",
    "%resource.getrusage(resource.RUSAGE_SELF).ru_maxrss)"
   ]
  },
  {
   "cell_type": "code",
   "execution_count": 13,
   "metadata": {},
   "outputs": [],
   "source": [
    "asset_list = set(df_market.assetName)"
   ]
  },
  {
   "cell_type": "code",
   "execution_count": 14,
   "metadata": {},
   "outputs": [
    {
     "data": {
      "text/html": [
       "<div>\n",
       "<style scoped>\n",
       "    .dataframe tbody tr th:only-of-type {\n",
       "        vertical-align: middle;\n",
       "    }\n",
       "\n",
       "    .dataframe tbody tr th {\n",
       "        vertical-align: top;\n",
       "    }\n",
       "\n",
       "    .dataframe thead th {\n",
       "        text-align: right;\n",
       "    }\n",
       "</style>\n",
       "<table border=\"1\" class=\"dataframe\">\n",
       "  <thead>\n",
       "    <tr style=\"text-align: right;\">\n",
       "      <th></th>\n",
       "      <th>time</th>\n",
       "      <th>sourceTimestamp</th>\n",
       "      <th>firstCreated</th>\n",
       "      <th>sourceId</th>\n",
       "      <th>headline</th>\n",
       "      <th>urgency</th>\n",
       "      <th>takeSequence</th>\n",
       "      <th>provider</th>\n",
       "      <th>subjects</th>\n",
       "      <th>audiences</th>\n",
       "      <th>bodySize</th>\n",
       "      <th>companyCount</th>\n",
       "      <th>headlineTag</th>\n",
       "      <th>marketCommentary</th>\n",
       "      <th>sentenceCount</th>\n",
       "      <th>wordCount</th>\n",
       "      <th>assetCodes</th>\n",
       "      <th>assetName</th>\n",
       "      <th>firstMentionSentence</th>\n",
       "      <th>relevance</th>\n",
       "      <th>sentimentClass</th>\n",
       "      <th>sentimentNegative</th>\n",
       "      <th>sentimentNeutral</th>\n",
       "      <th>sentimentPositive</th>\n",
       "      <th>sentimentWordCount</th>\n",
       "      <th>noveltyCount12H</th>\n",
       "      <th>noveltyCount24H</th>\n",
       "      <th>noveltyCount3D</th>\n",
       "      <th>noveltyCount5D</th>\n",
       "      <th>noveltyCount7D</th>\n",
       "      <th>volumeCounts12H</th>\n",
       "      <th>volumeCounts24H</th>\n",
       "      <th>volumeCounts3D</th>\n",
       "      <th>volumeCounts5D</th>\n",
       "      <th>volumeCounts7D</th>\n",
       "    </tr>\n",
       "  </thead>\n",
       "  <tbody>\n",
       "    <tr>\n",
       "      <th>62</th>\n",
       "      <td>2007-01-02 04:40:28+00:00</td>\n",
       "      <td>2007-01-02 04:40:28+00:00</td>\n",
       "      <td>2006-12-29 04:09:50+00:00</td>\n",
       "      <td>89c34671612f601d</td>\n",
       "      <td>PRESS DIGEST - Washington Post Business - Dec 29</td>\n",
       "      <td>3</td>\n",
       "      <td>2</td>\n",
       "      <td>RTRS</td>\n",
       "      <td>{'ENT', 'HDWR', 'DPR', 'US', 'STX', 'SFWR', 'R...</td>\n",
       "      <td>{'PCU', 'PMF', 'PCO', 'DNP', 'E', 'PSC', 'ESN'...</td>\n",
       "      <td>2542</td>\n",
       "      <td>1</td>\n",
       "      <td>PRESS DIGEST</td>\n",
       "      <td>False</td>\n",
       "      <td>20</td>\n",
       "      <td>460</td>\n",
       "      <td>{'AAPL.DE', 'AAPL.OQ', 'AAPL.F', 'AAPL.O'}</td>\n",
       "      <td>Apple Inc</td>\n",
       "      <td>4</td>\n",
       "      <td>0.182574</td>\n",
       "      <td>-1</td>\n",
       "      <td>0.813967</td>\n",
       "      <td>0.12827</td>\n",
       "      <td>0.057764</td>\n",
       "      <td>82</td>\n",
       "      <td>0</td>\n",
       "      <td>0</td>\n",
       "      <td>0</td>\n",
       "      <td>3</td>\n",
       "      <td>3</td>\n",
       "      <td>0</td>\n",
       "      <td>0</td>\n",
       "      <td>0</td>\n",
       "      <td>112</td>\n",
       "      <td>153</td>\n",
       "    </tr>\n",
       "    <tr>\n",
       "      <th>65</th>\n",
       "      <td>2007-01-02 05:01:02+00:00</td>\n",
       "      <td>2007-01-02 05:01:02+00:00</td>\n",
       "      <td>2007-01-02 05:01:02+00:00</td>\n",
       "      <td>8d2ebc5958ea4f1f</td>\n",
       "      <td>Adobe Appoints Former Borland Exec to Senior V...</td>\n",
       "      <td>3</td>\n",
       "      <td>1</td>\n",
       "      <td>BSW</td>\n",
       "      <td>{'BACT', 'BUS', 'US', 'NEWR', 'MNGISS', 'LEN'}</td>\n",
       "      <td>{'CNR', 'BSW'}</td>\n",
       "      <td>2405</td>\n",
       "      <td>1</td>\n",
       "      <td>NaN</td>\n",
       "      <td>False</td>\n",
       "      <td>18</td>\n",
       "      <td>382</td>\n",
       "      <td>{'ADBE.OQ', 'ADBE.O', 'ADBE.DE'}</td>\n",
       "      <td>Adobe Systems Inc</td>\n",
       "      <td>1</td>\n",
       "      <td>1.000000</td>\n",
       "      <td>1</td>\n",
       "      <td>0.088112</td>\n",
       "      <td>0.37209</td>\n",
       "      <td>0.539798</td>\n",
       "      <td>365</td>\n",
       "      <td>0</td>\n",
       "      <td>0</td>\n",
       "      <td>0</td>\n",
       "      <td>0</td>\n",
       "      <td>0</td>\n",
       "      <td>0</td>\n",
       "      <td>0</td>\n",
       "      <td>0</td>\n",
       "      <td>0</td>\n",
       "      <td>0</td>\n",
       "    </tr>\n",
       "  </tbody>\n",
       "</table>\n",
       "</div>"
      ],
      "text/plain": [
       "                         time            sourceTimestamp  \\\n",
       "62  2007-01-02 04:40:28+00:00  2007-01-02 04:40:28+00:00   \n",
       "65  2007-01-02 05:01:02+00:00  2007-01-02 05:01:02+00:00   \n",
       "\n",
       "                 firstCreated          sourceId  \\\n",
       "62  2006-12-29 04:09:50+00:00  89c34671612f601d   \n",
       "65  2007-01-02 05:01:02+00:00  8d2ebc5958ea4f1f   \n",
       "\n",
       "                                             headline  urgency  takeSequence  \\\n",
       "62   PRESS DIGEST - Washington Post Business - Dec 29        3             2   \n",
       "65  Adobe Appoints Former Borland Exec to Senior V...        3             1   \n",
       "\n",
       "   provider                                           subjects  \\\n",
       "62     RTRS  {'ENT', 'HDWR', 'DPR', 'US', 'STX', 'SFWR', 'R...   \n",
       "65      BSW     {'BACT', 'BUS', 'US', 'NEWR', 'MNGISS', 'LEN'}   \n",
       "\n",
       "                                            audiences  bodySize  companyCount  \\\n",
       "62  {'PCU', 'PMF', 'PCO', 'DNP', 'E', 'PSC', 'ESN'...      2542             1   \n",
       "65                                     {'CNR', 'BSW'}      2405             1   \n",
       "\n",
       "     headlineTag  marketCommentary  sentenceCount  wordCount  \\\n",
       "62  PRESS DIGEST             False             20        460   \n",
       "65           NaN             False             18        382   \n",
       "\n",
       "                                    assetCodes          assetName  \\\n",
       "62  {'AAPL.DE', 'AAPL.OQ', 'AAPL.F', 'AAPL.O'}          Apple Inc   \n",
       "65            {'ADBE.OQ', 'ADBE.O', 'ADBE.DE'}  Adobe Systems Inc   \n",
       "\n",
       "    firstMentionSentence  relevance  sentimentClass  sentimentNegative  \\\n",
       "62                     4   0.182574              -1           0.813967   \n",
       "65                     1   1.000000               1           0.088112   \n",
       "\n",
       "    sentimentNeutral  sentimentPositive  sentimentWordCount  noveltyCount12H  \\\n",
       "62           0.12827           0.057764                  82                0   \n",
       "65           0.37209           0.539798                 365                0   \n",
       "\n",
       "    noveltyCount24H  noveltyCount3D  noveltyCount5D  noveltyCount7D  \\\n",
       "62                0               0               3               3   \n",
       "65                0               0               0               0   \n",
       "\n",
       "    volumeCounts12H  volumeCounts24H  volumeCounts3D  volumeCounts5D  \\\n",
       "62                0                0               0             112   \n",
       "65                0                0               0               0   \n",
       "\n",
       "    volumeCounts7D  \n",
       "62             153  \n",
       "65               0  "
      ]
     },
     "execution_count": 14,
     "metadata": {},
     "output_type": "execute_result"
    }
   ],
   "source": [
    "df_news[df_news.assetName.isin(asset_list)]"
   ]
  },
  {
   "cell_type": "code",
   "execution_count": null,
   "metadata": {},
   "outputs": [],
   "source": []
  },
  {
   "cell_type": "code",
   "execution_count": null,
   "metadata": {},
   "outputs": [],
   "source": [
    "set([asset for asset in df_market.assetCode if re.match(r'VIA', asset)])\n",
    "\n",
    "df_market[df_market.assetCode == 'VIAB.O'].index[0]\n",
    "\n",
    "df_market.query('index == 3465311')\n",
    "\n",
    "df_market.query('index == 1336')\n",
    "\n",
    "df_market.query('index == 1897421')"
   ]
  },
  {
   "cell_type": "code",
   "execution_count": 7,
   "metadata": {},
   "outputs": [
    {
     "name": "stdout",
     "output_type": "stream",
     "text": [
      "1.0    68\n",
      "0.0    32\n",
      "Name: universe, dtype: int64\n",
      "2\n"
     ]
    }
   ],
   "source": [
    "feat = 'universe'\n",
    "summary = df_market[feat].value_counts(dropna=False)\n",
    "print(summary.head())\n",
    "print(len(summary))"
   ]
  },
  {
   "cell_type": "code",
   "execution_count": null,
   "metadata": {},
   "outputs": [],
   "source": [
    "aggregations = ['mean']\n",
    "gp = df_news.groupby(['assetCode', 'date']).agg(aggregations)\n",
    "gp.columns = pd.Index([\"{}_{}\".format(e[0], e[1]) for e in gp.columns.tolist()])\n",
    "# Interesting way to rename columns\n",
    "gp.reset_index(inplace=True)\n",
    "# Set datatype to float32\n",
    "float_cols = {c: 'float32' for c in gp.columns if c not in ['assetCode', 'date']}\n",
    "# return gp.astype(float_cols)\n",
    "df_agg = gp.astype(float_cols)"
   ]
  },
  {
   "cell_type": "code",
   "execution_count": null,
   "metadata": {},
   "outputs": [],
   "source": [
    "date = df.date\n",
    "num_target = df.returnsOpenNextMktres10.astype('float32')\n",
    "bin_target = (df.returnsOpenNextMktres10 >= 0).astype('int8')\n",
    "universe = df.universe.astype('int8')\n",
    "# Drop columns that are not features\n",
    "df.drop(['returnsOpenNextMktres10', 'date', 'universe', 'assetCode', 'assetName', 'time'], \n",
    "        axis=1, inplace=True)\n",
    "df = df.astype('float32')  # Set all remaining columns to float32 datatype\n",
    "gc.collect()"
   ]
  },
  {
   "cell_type": "code",
   "execution_count": null,
   "metadata": {},
   "outputs": [],
   "source": [
    "df_market.drop_duplicates()"
   ]
  },
  {
   "cell_type": "markdown",
   "metadata": {},
   "source": [
    "## Features: Subjects & Audiences"
   ]
  },
  {
   "cell_type": "code",
   "execution_count": 64,
   "metadata": {},
   "outputs": [],
   "source": [
    "# SUBJECT INDICATORS\n",
    "import re\n",
    "df_news.subjects = df_news.subjects.apply(lambda x: re.sub(r'[n{}\\']', '', x)).replace(\" \", \"\")\n",
    "\n",
    "df_sub = df_news[['subjects']]\n",
    "# df_news.drop(['subjects'], axis=1, inplace=True)\n",
    "# df_sub.head()\n",
    "\n",
    "x = df_sub.subjects.str.split(r',', expand=True)\n",
    "x = x.applymap(lambda x: x.strip() if type(x) == str else x)\n",
    "x = x.stack()"
   ]
  },
  {
   "cell_type": "code",
   "execution_count": null,
   "metadata": {},
   "outputs": [],
   "source": []
  },
  {
   "cell_type": "code",
   "execution_count": 56,
   "metadata": {},
   "outputs": [
    {
     "data": {
      "text/plain": [
       "LabelBinarizer(neg_label=0, pos_label=1, sparse_output=False)"
      ]
     },
     "execution_count": 56,
     "metadata": {},
     "output_type": "execute_result"
    }
   ],
   "source": [
    "from sklearn import preprocessing\n",
    "lb = preprocessing.LabelBinarizer()\n",
    "lb.fit(x)"
   ]
  },
  {
   "cell_type": "code",
   "execution_count": 57,
   "metadata": {},
   "outputs": [
    {
     "data": {
      "text/plain": [
       "array(['AIR', 'APL', 'ASIA', 'AU', 'AUT', 'BACT', 'BD', 'BE', 'BEV', 'BG',\n",
       "       'BKRT', 'BLD', 'BNK', 'BR', 'BUS', 'BY', 'CA', 'CEN', 'CH', 'CHE',\n",
       "       'CN', 'CO', 'CON', 'CRU', 'DE', 'DIV', 'DPR', 'DRU', 'DRV', 'ECI',\n",
       "       'ELC', 'ELG', 'ELI', 'EMRG', 'ENR', 'ENT', 'ES', 'EU', 'EUROPE',\n",
       "       'FEA', 'FI', 'FILM', 'FIN', 'FR', 'FUND', 'GB', 'HDWR', 'HK',\n",
       "       'HOT', 'HT', 'ID', 'IE', 'IL', 'IN', 'IND', 'INS', 'INT', 'IQ',\n",
       "       'IT', 'JOB', 'JP', 'KR', 'LATAM', 'LEI', 'LEN', 'LIF', 'LOA',\n",
       "       'MAC', 'MCE', 'MEAST', 'MET', 'MNGISS', 'MRG', 'MUL', 'MUNI', 'MX',\n",
       "       'MY', 'NEWR', 'NEWS', 'NGS', 'NL', 'NORD', 'PLCY', 'PRESS', 'PT',\n",
       "       'PUB', 'REA', 'REC', 'REG', 'REGS', 'RESF', 'RET', 'RO', 'RTRS',\n",
       "       'SFWR', 'SG', 'SHP', 'STIR', 'STL', 'STX', 'TBCS', 'TEL', 'TH',\n",
       "       'TRD', 'TW', 'US', 'USC', 'WASH', 'WEU', 'WHO', 'WWW', 'XREF'],\n",
       "      dtype='<U6')"
      ]
     },
     "execution_count": 57,
     "metadata": {},
     "output_type": "execute_result"
    }
   ],
   "source": [
    "lb.classes_\n",
    "\n"
   ]
  },
  {
   "cell_type": "code",
   "execution_count": 58,
   "metadata": {},
   "outputs": [],
   "source": [
    "df_n = lb.transform(x)\n"
   ]
  },
  {
   "cell_type": "code",
   "execution_count": 63,
   "metadata": {},
   "outputs": [],
   "source": [
    "# pd.DataFrame(df_n)#.groupby(level=0).sum()\n"
   ]
  },
  {
   "cell_type": "code",
   "execution_count": null,
   "metadata": {},
   "outputs": [],
   "source": [
    "df_sub = pd.get_dummies(x, prefix='sub_').groupby(level=0).sum()\n",
    "\n",
    "print(df_sub.shape)\n",
    "df_sub.head()\n"
   ]
  },
  {
   "cell_type": "code",
   "execution_count": null,
   "metadata": {},
   "outputs": [],
   "source": [
    "df_news.audiences.head()\n"
   ]
  },
  {
   "cell_type": "code",
   "execution_count": null,
   "metadata": {},
   "outputs": [],
   "source": [
    "subjects = ['LEN', 'CMPNY', 'US', 'AMERS', 'RTRS', 'BLR', 'BACT', 'FINS', 'CYCS',\n",
    "       'BISV', 'TMT', 'TECH', 'EUROP', 'RES', 'ENER', 'INDS', 'WEU', 'BSVC',\n",
    "       'HECA', 'GEN', 'SHOPAL', 'BANK', 'NEWR', 'SWIT', 'INVS', 'SHOP', 'PHMR',\n",
    "       'ITSE', 'OILG', 'RCH', 'NCYC', 'INVM', 'GB', 'TEEQ', 'EMRG', 'EXPL',\n",
    "       'STX', 'BMAT', 'CCOS', 'ASIA', 'REP', 'RESF', 'DEAL1', 'SOFW', 'RSPC',\n",
    "       'ENEQ', 'PHAG', 'HLTH', 'MRCH', 'COM']\n"
   ]
  },
  {
   "cell_type": "code",
   "execution_count": null,
   "metadata": {},
   "outputs": [],
   "source": [
    "# AUDIENCE INDICATORS\n",
    "import re\n",
    "df_news.audiences = df_news.audiences.apply(lambda x: re.sub(r'[n{}\\']', '', x)).replace(\" \", \"\")\n",
    "\n",
    "df_aud = df_news[['audiences']]\n",
    "\n",
    "\n",
    "\n",
    "x = df_aud.audiences.str.split(r',', expand=True)\n",
    "x = x.applymap(lambda x: x.strip() if type(x) == str else x)\n",
    "x = x.stack()\n",
    "\n",
    "df_aud = pd.get_dummies(x, prefix='aud_').groupby(level=0).sum()\n",
    "\n",
    "print(df_aud.shape)\n",
    "df_aud.head()"
   ]
  },
  {
   "cell_type": "code",
   "execution_count": null,
   "metadata": {},
   "outputs": [],
   "source": [
    "import re\n",
    "df_news.subjects = df_news.subjects.apply(lambda x: re.sub(r'[n{}\\']', '', x)).replace(\" \", \"\")\n",
    "\n",
    "df_sub = df_news[['subjects']]\n",
    "df_news.drop(['subjects'], axis=1, inplace=True)\n",
    "# df_sub.head()\n",
    "\n",
    "x = df_sub.subjects.str.split(r',', expand=True)\n",
    "x = x.applymap(lambda x: x.strip() if type(x) == str else x)\n",
    "\n"
   ]
  },
  {
   "cell_type": "code",
   "execution_count": null,
   "metadata": {},
   "outputs": [],
   "source": [
    "counts = pd.DataFrame(x.values.flatten(), columns=['subs']).subs.value_counts()\n",
    "# list(counts.index[:50]) # Took the top 50"
   ]
  },
  {
   "cell_type": "code",
   "execution_count": null,
   "metadata": {},
   "outputs": [],
   "source": []
  },
  {
   "cell_type": "code",
   "execution_count": 33,
   "metadata": {},
   "outputs": [],
   "source": [
    "# import zipline\n",
    "# !QUANDL_API_KEY='xTmgdiCLWxt_bx3CUFAT' zipline ingest -b quandl"
   ]
  },
  {
   "cell_type": "code",
   "execution_count": 30,
   "metadata": {},
   "outputs": [
    {
     "name": "stdout",
     "output_type": "stream",
     "text": [
      "zipline==1.3.0\r\n"
     ]
    }
   ],
   "source": [
    "!pip freeze| grep zip"
   ]
  },
  {
   "cell_type": "code",
   "execution_count": null,
   "metadata": {},
   "outputs": [],
   "source": []
  },
  {
   "cell_type": "code",
   "execution_count": null,
   "metadata": {},
   "outputs": [],
   "source": []
  },
  {
   "cell_type": "code",
   "execution_count": null,
   "metadata": {},
   "outputs": [],
   "source": []
  },
  {
   "cell_type": "code",
   "execution_count": null,
   "metadata": {},
   "outputs": [],
   "source": [
    "# STATSMODELS - PURSUIT OF THE MYSTERIOUS RESIDUAL\n",
    "from statsmodels.tsa.seasonal import seasonal_decompose \n",
    "\n",
    "vec = vec.fillna(0)\n",
    "decomposition=seasonal_decompose(vec)\n"
   ]
  },
  {
   "cell_type": "code",
   "execution_count": 8,
   "metadata": {},
   "outputs": [],
   "source": []
  },
  {
   "cell_type": "code",
   "execution_count": null,
   "metadata": {},
   "outputs": [],
   "source": []
  },
  {
   "cell_type": "code",
   "execution_count": null,
   "metadata": {},
   "outputs": [],
   "source": []
  },
  {
   "cell_type": "code",
   "execution_count": null,
   "metadata": {},
   "outputs": [],
   "source": []
  },
  {
   "cell_type": "code",
   "execution_count": null,
   "metadata": {},
   "outputs": [],
   "source": []
  }
 ],
 "metadata": {
  "kernelspec": {
   "display_name": "Python 2",
   "language": "python",
   "name": "python2"
  },
  "language_info": {
   "codemirror_mode": {
    "name": "ipython",
    "version": 2
   },
   "file_extension": ".py",
   "mimetype": "text/x-python",
   "name": "python",
   "nbconvert_exporter": "python",
   "pygments_lexer": "ipython2",
   "version": "2.7.15"
  }
 },
 "nbformat": 4,
 "nbformat_minor": 2
}
