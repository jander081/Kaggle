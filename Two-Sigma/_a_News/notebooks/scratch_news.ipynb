{
 "cells": [
  {
   "cell_type": "code",
   "execution_count": 1,
   "metadata": {},
   "outputs": [],
   "source": [
    "path = '/Users/jacob/Desktop/studies/misc/kaggle/two_sigma_news/scripts'\n",
    "import resource\n",
    "import sys\n",
    "sys.path.append(path)\n",
    "from sigma_libs import *\n",
    "# import backtrader as bt\n",
    "\n",
    "df_market = pd.read_csv('../data/marketdata_sample.csv') \n",
    "df_news = pd.read_csv('../data/news_sample.csv')"
   ]
  },
  {
   "cell_type": "code",
   "execution_count": null,
   "metadata": {},
   "outputs": [],
   "source": [
    "for col in ['headlineTag', 'sourceId']:\n",
    "            df_n[col] = df_n[col].astype('category')\n",
    "\n",
    "drop_list = [\n",
    "        \n",
    "        'firstCreated', 'sourceTimestamp',\n",
    "    ]\n",
    "df_n.drop(drop_list, axis=1, inplace=True)"
   ]
  },
  {
   "cell_type": "code",
   "execution_count": null,
   "metadata": {},
   "outputs": [],
   "source": [
    "# THIS WILL ALMOST KILL THE KERNAL\n",
    "df_ = preprocess2(df_n)"
   ]
  },
  {
   "cell_type": "code",
   "execution_count": null,
   "metadata": {},
   "outputs": [],
   "source": [
    "df = df_m.merge(df_, how='left', on=['assetCode', 'date', 'assetName'])"
   ]
  },
  {
   "cell_type": "code",
   "execution_count": null,
   "metadata": {},
   "outputs": [],
   "source": []
  },
  {
   "cell_type": "code",
   "execution_count": null,
   "metadata": {},
   "outputs": [],
   "source": []
  },
  {
   "cell_type": "code",
   "execution_count": null,
   "metadata": {},
   "outputs": [],
   "source": []
  },
  {
   "cell_type": "code",
   "execution_count": null,
   "metadata": {},
   "outputs": [],
   "source": []
  }
 ],
 "metadata": {
  "kernelspec": {
   "display_name": "Python 2",
   "language": "python",
   "name": "python2"
  },
  "language_info": {
   "codemirror_mode": {
    "name": "ipython",
    "version": 2
   },
   "file_extension": ".py",
   "mimetype": "text/x-python",
   "name": "python",
   "nbconvert_exporter": "python",
   "pygments_lexer": "ipython2",
   "version": "2.7.15"
  }
 },
 "nbformat": 4,
 "nbformat_minor": 2
}
