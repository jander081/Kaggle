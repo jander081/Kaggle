{
 "cells": [
  {
   "cell_type": "markdown",
   "metadata": {
    "_uuid": "4c4708dcbcef9b0ad3d0a966324806498269fbef"
   },
   "source": [
    "## MARKET DATA ONLY "
   ]
  },
  {
   "cell_type": "markdown",
   "metadata": {},
   "source": [
    "__Notes__: This ran on a kernel. Lots of attention paid to memory. Scored almost identical to my real world model. Though it runs on the kernel, it does its own test set"
   ]
  },
  {
   "cell_type": "code",
   "execution_count": 1,
   "metadata": {
    "_uuid": "2e133c13856f21a564ac863c2ea3c0b424b87639"
   },
   "outputs": [],
   "source": [
    "# copy our file into the working directory (make sure it has .py suffix)\n",
    "from shutil import copyfile\n",
    "\n",
    "for file in ['sigma_imports.py', 'sigma_code.py', 'sigma_transforms.py']:\n",
    "    path = \"../input/scripts-sigma/\"\n",
    "    copyfile(src = path + file, dst = \"../working/\" + file)\n",
    "\n",
    "for file in ['__init__.py', 'pandas_feature_union.py']:\n",
    "    path = \"../input/github-code/\"\n",
    "    copyfile(src = path + file, dst = \"../working/\" + file)\n",
    "    \n",
    "from sigma_imports import *\n",
    "from sigma_code import *\n",
    "from sigma_transforms import *\n",
    "from __init__ import QuickPipeline_mod\n",
    "from pandas_feature_union import PandasFeatureUnion\n",
    "tqdm.pandas() "
   ]
  },
  {
   "cell_type": "code",
   "execution_count": 2,
   "metadata": {
    "_uuid": "249b4b7740a3ae182adec9b465ab8316e9a634d6"
   },
   "outputs": [
    {
     "name": "stdout",
     "output_type": "stream",
     "text": [
      "Loading the data... This could take a minute.\n",
      "Done!\n"
     ]
    }
   ],
   "source": [
    "from kaggle.competitions import twosigmanews\n",
    "env = twosigmanews.make_env()\n",
    "data, df_news = env.get_training_data()\n",
    "# MARKET DATA ONLY"
   ]
  },
  {
   "cell_type": "code",
   "execution_count": 3,
   "metadata": {
    "_uuid": "29012deff4d1185fe0872a5f1fa4ba2f697b3ea5"
   },
   "outputs": [
    {
     "data": {
      "text/plain": [
       "11"
      ]
     },
     "execution_count": 3,
     "metadata": {},
     "output_type": "execute_result"
    }
   ],
   "source": [
    "del df_news\n",
    "gc.collect()"
   ]
  },
  {
   "cell_type": "code",
   "execution_count": 4,
   "metadata": {
    "_uuid": "84028f9e16750a34ec43fb52e7a8f9e6a9634e88"
   },
   "outputs": [
    {
     "data": {
      "text/html": [
       "<div>\n",
       "<style scoped>\n",
       "    .dataframe tbody tr th:only-of-type {\n",
       "        vertical-align: middle;\n",
       "    }\n",
       "\n",
       "    .dataframe tbody tr th {\n",
       "        vertical-align: top;\n",
       "    }\n",
       "\n",
       "    .dataframe thead th {\n",
       "        text-align: right;\n",
       "    }\n",
       "</style>\n",
       "<table border=\"1\" class=\"dataframe\">\n",
       "  <thead>\n",
       "    <tr style=\"text-align: right;\">\n",
       "      <th></th>\n",
       "      <th>time</th>\n",
       "      <th>assetCode</th>\n",
       "      <th>assetName</th>\n",
       "      <th>volume</th>\n",
       "      <th>close</th>\n",
       "      <th>open</th>\n",
       "      <th>returnsClosePrevRaw1</th>\n",
       "      <th>returnsOpenPrevRaw1</th>\n",
       "      <th>returnsClosePrevMktres1</th>\n",
       "      <th>returnsOpenPrevMktres1</th>\n",
       "      <th>returnsClosePrevRaw10</th>\n",
       "      <th>returnsOpenPrevRaw10</th>\n",
       "      <th>returnsClosePrevMktres10</th>\n",
       "      <th>returnsOpenPrevMktres10</th>\n",
       "      <th>returnsOpenNextMktres10</th>\n",
       "      <th>universe</th>\n",
       "    </tr>\n",
       "  </thead>\n",
       "  <tbody>\n",
       "    <tr>\n",
       "      <th>0</th>\n",
       "      <td>2007-02-01 22:00:00+00:00</td>\n",
       "      <td>A.N</td>\n",
       "      <td>Agilent Technologies Inc</td>\n",
       "      <td>2606900.0</td>\n",
       "      <td>32.19</td>\n",
       "      <td>32.17</td>\n",
       "      <td>0.005938</td>\n",
       "      <td>0.005312</td>\n",
       "      <td>NaN</td>\n",
       "      <td>NaN</td>\n",
       "      <td>-0.001860</td>\n",
       "      <td>0.000622</td>\n",
       "      <td>NaN</td>\n",
       "      <td>NaN</td>\n",
       "      <td>0.034672</td>\n",
       "      <td>1.0</td>\n",
       "    </tr>\n",
       "    <tr>\n",
       "      <th>1</th>\n",
       "      <td>2007-02-01 22:00:00+00:00</td>\n",
       "      <td>AAI.N</td>\n",
       "      <td>AirTran Holdings Inc</td>\n",
       "      <td>2051600.0</td>\n",
       "      <td>11.12</td>\n",
       "      <td>11.08</td>\n",
       "      <td>0.004517</td>\n",
       "      <td>-0.007168</td>\n",
       "      <td>NaN</td>\n",
       "      <td>NaN</td>\n",
       "      <td>-0.078708</td>\n",
       "      <td>-0.088066</td>\n",
       "      <td>NaN</td>\n",
       "      <td>NaN</td>\n",
       "      <td>0.027803</td>\n",
       "      <td>0.0</td>\n",
       "    </tr>\n",
       "    <tr>\n",
       "      <th>2</th>\n",
       "      <td>2007-02-01 22:00:00+00:00</td>\n",
       "      <td>AAP.N</td>\n",
       "      <td>Advance Auto Parts Inc</td>\n",
       "      <td>1164800.0</td>\n",
       "      <td>37.51</td>\n",
       "      <td>37.99</td>\n",
       "      <td>-0.011594</td>\n",
       "      <td>0.025648</td>\n",
       "      <td>NaN</td>\n",
       "      <td>NaN</td>\n",
       "      <td>0.014332</td>\n",
       "      <td>0.045405</td>\n",
       "      <td>NaN</td>\n",
       "      <td>NaN</td>\n",
       "      <td>0.024433</td>\n",
       "      <td>1.0</td>\n",
       "    </tr>\n",
       "    <tr>\n",
       "      <th>3</th>\n",
       "      <td>2007-02-01 22:00:00+00:00</td>\n",
       "      <td>AAPL.O</td>\n",
       "      <td>Apple Inc</td>\n",
       "      <td>23747329.0</td>\n",
       "      <td>84.74</td>\n",
       "      <td>86.23</td>\n",
       "      <td>-0.011548</td>\n",
       "      <td>0.016324</td>\n",
       "      <td>NaN</td>\n",
       "      <td>NaN</td>\n",
       "      <td>-0.048613</td>\n",
       "      <td>-0.037182</td>\n",
       "      <td>NaN</td>\n",
       "      <td>NaN</td>\n",
       "      <td>-0.007425</td>\n",
       "      <td>1.0</td>\n",
       "    </tr>\n",
       "    <tr>\n",
       "      <th>4</th>\n",
       "      <td>2007-02-01 22:00:00+00:00</td>\n",
       "      <td>ABB.N</td>\n",
       "      <td>ABB Ltd</td>\n",
       "      <td>1208600.0</td>\n",
       "      <td>18.02</td>\n",
       "      <td>18.01</td>\n",
       "      <td>0.011791</td>\n",
       "      <td>0.025043</td>\n",
       "      <td>NaN</td>\n",
       "      <td>NaN</td>\n",
       "      <td>0.012929</td>\n",
       "      <td>0.020397</td>\n",
       "      <td>NaN</td>\n",
       "      <td>NaN</td>\n",
       "      <td>-0.017994</td>\n",
       "      <td>1.0</td>\n",
       "    </tr>\n",
       "  </tbody>\n",
       "</table>\n",
       "</div>"
      ],
      "text/plain": [
       "                       time assetCode                 assetName      volume  \\\n",
       "0 2007-02-01 22:00:00+00:00       A.N  Agilent Technologies Inc   2606900.0   \n",
       "1 2007-02-01 22:00:00+00:00     AAI.N      AirTran Holdings Inc   2051600.0   \n",
       "2 2007-02-01 22:00:00+00:00     AAP.N    Advance Auto Parts Inc   1164800.0   \n",
       "3 2007-02-01 22:00:00+00:00    AAPL.O                 Apple Inc  23747329.0   \n",
       "4 2007-02-01 22:00:00+00:00     ABB.N                   ABB Ltd   1208600.0   \n",
       "\n",
       "   close   open  returnsClosePrevRaw1  returnsOpenPrevRaw1  \\\n",
       "0  32.19  32.17              0.005938             0.005312   \n",
       "1  11.12  11.08              0.004517            -0.007168   \n",
       "2  37.51  37.99             -0.011594             0.025648   \n",
       "3  84.74  86.23             -0.011548             0.016324   \n",
       "4  18.02  18.01              0.011791             0.025043   \n",
       "\n",
       "   returnsClosePrevMktres1  returnsOpenPrevMktres1  returnsClosePrevRaw10  \\\n",
       "0                      NaN                     NaN              -0.001860   \n",
       "1                      NaN                     NaN              -0.078708   \n",
       "2                      NaN                     NaN               0.014332   \n",
       "3                      NaN                     NaN              -0.048613   \n",
       "4                      NaN                     NaN               0.012929   \n",
       "\n",
       "   returnsOpenPrevRaw10  returnsClosePrevMktres10  returnsOpenPrevMktres10  \\\n",
       "0              0.000622                       NaN                      NaN   \n",
       "1             -0.088066                       NaN                      NaN   \n",
       "2              0.045405                       NaN                      NaN   \n",
       "3             -0.037182                       NaN                      NaN   \n",
       "4              0.020397                       NaN                      NaN   \n",
       "\n",
       "   returnsOpenNextMktres10  universe  \n",
       "0                 0.034672       1.0  \n",
       "1                 0.027803       0.0  \n",
       "2                 0.024433       1.0  \n",
       "3                -0.007425       1.0  \n",
       "4                -0.017994       1.0  "
      ]
     },
     "execution_count": 4,
     "metadata": {},
     "output_type": "execute_result"
    }
   ],
   "source": [
    "data.head()"
   ]
  },
  {
   "cell_type": "code",
   "execution_count": 5,
   "metadata": {
    "_uuid": "054c63657b4b46b5468791df28966a5cd9bdea7f"
   },
   "outputs": [
    {
     "data": {
      "text/plain": [
       "(4072956, 16)"
      ]
     },
     "execution_count": 5,
     "metadata": {},
     "output_type": "execute_result"
    }
   ],
   "source": [
    "data.shape"
   ]
  },
  {
   "cell_type": "code",
   "execution_count": 6,
   "metadata": {
    "_uuid": "acc04a736e7afbe8734f23f8816b06cde495bbd2"
   },
   "outputs": [],
   "source": [
    "# TIME FEATURE EXTRACTION\n",
    "import datetime as dt\n",
    "\n",
    "data['day_name'] = data.time.dt.day_name()\n",
    "data['month_name'] = data.time.dt.month_name()\n",
    "data['month'] = data.time.dt.month\n",
    "data['year'] = data.time.dt.year\n",
    "data['day'] = data.time.dt.dayofweek\n",
    "data['quarter'] = data.time.dt.quarter\n",
    "\n",
    "# make obj version\n",
    "for feat in ['year', 'quarter']:\n",
    "    colName = feat + '_obj'    \n",
    "    data[colName] = data[feat].astype(str) + '_' "
   ]
  },
  {
   "cell_type": "code",
   "execution_count": 7,
   "metadata": {
    "_uuid": "59b0da2c7818c05524cc26346791e37276085b78"
   },
   "outputs": [
    {
     "data": {
      "text/plain": [
       "21"
      ]
     },
     "execution_count": 7,
     "metadata": {},
     "output_type": "execute_result"
    }
   ],
   "source": [
    "# MACD - BETTER FORM\n",
    "\n",
    "def macd(dframe):\n",
    "    \n",
    "    \"\"\"\n",
    "    If macd is negative/positive, the shorter term mv avg is below/above the longer \n",
    "    term and momentum is downward/upward - ish.\n",
    "    \n",
    "    If the signal is simply the ema of macd. If macd is less/greater than the signal,\n",
    "    whether pos or neg, the momentum is bear/bullish\n",
    "    \n",
    "    Ex\n",
    "    -----\n",
    "    both signal and macd are negative. However, macd is noticably less\n",
    "    negative than the signal. Interpretation: the asset has been in a short term down\n",
    "    trend (short term down trend could be part of a long term down/up trend). However, \n",
    "    the momentum is bullish\n",
    "    \n",
    "    Metrics for indicators\n",
    "    ------\n",
    "    Crossover: macd is below/above signal\n",
    "    \n",
    "    Divergence: the price diverges by a certain threshold from macd. End of \n",
    "    current trend\n",
    "    \n",
    "    Dramatic Rise: macd is significantly above signal - overbought\n",
    "       \n",
    "    \"\"\"\n",
    "    \n",
    "    asset_close = dframe.groupby('assetCode')['close']\n",
    "    ema_26 = asset_close.transform(lambda x: x.ewm(span=26).mean())\n",
    "    ema_12 = asset_close.transform(lambda x: x.ewm(span=12).mean())\n",
    "    # switch adjusted back to default\n",
    "    \n",
    "    diff = ema_12 - ema_26\n",
    "    del ema_12, ema_26, asset_close\n",
    "    \n",
    "    return diff\n",
    "\n",
    "\n",
    "data['macd'] = macd(data)\n",
    "\n",
    "data['signal'] = (\n",
    "                data.groupby('assetCode')['macd'].\n",
    "                transform(lambda x: x.ewm(span=9).\n",
    "                mean() )\n",
    "                )\n",
    "\n",
    "gc.collect()"
   ]
  },
  {
   "cell_type": "code",
   "execution_count": 8,
   "metadata": {
    "_uuid": "bc9d37c5224f9deb409f080165ef33658b4f698a"
   },
   "outputs": [],
   "source": [
    "macd = data['macd'].values\n",
    "sig = data['signal'].values\n",
    "close = data['close'].values\n",
    "diff = macd - sig\n",
    "div = abs(close - macd)\n",
    "\n",
    "data['macd_cross'] = np.where(macd > sig, 1, 0).astype('bool')\n",
    "data['macd_sharp_rise'] = np.where(diff > 0.09, 1, 0).astype('bool')\n",
    "data['macd_div'] = np.where(div > 75, 1, 0).astype('bool')"
   ]
  },
  {
   "cell_type": "code",
   "execution_count": 9,
   "metadata": {
    "_uuid": "19f271f6c72af98f177d88072defc72a7e66e0ee"
   },
   "outputs": [
    {
     "data": {
      "text/plain": [
       "21"
      ]
     },
     "execution_count": 9,
     "metadata": {},
     "output_type": "execute_result"
    }
   ],
   "source": [
    "del macd, sig, close, diff, div\n",
    "gc.collect()\n"
   ]
  },
  {
   "cell_type": "code",
   "execution_count": 10,
   "metadata": {
    "_uuid": "7cbdc7d00ef86911bcc26162cdac05e630008f04"
   },
   "outputs": [
    {
     "data": {
      "text/html": [
       "<div>\n",
       "<style scoped>\n",
       "    .dataframe tbody tr th:only-of-type {\n",
       "        vertical-align: middle;\n",
       "    }\n",
       "\n",
       "    .dataframe tbody tr th {\n",
       "        vertical-align: top;\n",
       "    }\n",
       "\n",
       "    .dataframe thead th {\n",
       "        text-align: right;\n",
       "    }\n",
       "</style>\n",
       "<table border=\"1\" class=\"dataframe\">\n",
       "  <thead>\n",
       "    <tr style=\"text-align: right;\">\n",
       "      <th></th>\n",
       "      <th>time</th>\n",
       "      <th>assetCode</th>\n",
       "      <th>assetName</th>\n",
       "      <th>volume</th>\n",
       "      <th>close</th>\n",
       "      <th>open</th>\n",
       "      <th>returnsClosePrevRaw1</th>\n",
       "      <th>returnsOpenPrevRaw1</th>\n",
       "      <th>returnsClosePrevMktres1</th>\n",
       "      <th>returnsOpenPrevMktres1</th>\n",
       "      <th>returnsClosePrevRaw10</th>\n",
       "      <th>returnsOpenPrevRaw10</th>\n",
       "      <th>returnsClosePrevMktres10</th>\n",
       "      <th>returnsOpenPrevMktres10</th>\n",
       "      <th>returnsOpenNextMktres10</th>\n",
       "      <th>universe</th>\n",
       "      <th>day_name</th>\n",
       "      <th>month_name</th>\n",
       "      <th>month</th>\n",
       "      <th>year</th>\n",
       "      <th>day</th>\n",
       "      <th>quarter</th>\n",
       "      <th>year_obj</th>\n",
       "      <th>quarter_obj</th>\n",
       "      <th>macd</th>\n",
       "      <th>signal</th>\n",
       "      <th>macd_cross</th>\n",
       "      <th>macd_sharp_rise</th>\n",
       "      <th>macd_div</th>\n",
       "      <th>squeeze</th>\n",
       "      <th>low_vol</th>\n",
       "      <th>sq_min</th>\n",
       "    </tr>\n",
       "  </thead>\n",
       "  <tbody>\n",
       "    <tr>\n",
       "      <th>4072951</th>\n",
       "      <td>2016-12-30 22:00:00+00:00</td>\n",
       "      <td>ZIOP.O</td>\n",
       "      <td>ZIOPHARM Oncology Inc</td>\n",
       "      <td>1608829.0</td>\n",
       "      <td>5.35</td>\n",
       "      <td>5.37</td>\n",
       "      <td>-0.003724</td>\n",
       "      <td>0.000000</td>\n",
       "      <td>0.000536</td>\n",
       "      <td>-0.001868</td>\n",
       "      <td>-0.165367</td>\n",
       "      <td>-0.138042</td>\n",
       "      <td>-0.139597</td>\n",
       "      <td>-0.135913</td>\n",
       "      <td>0.051189</td>\n",
       "      <td>0.0</td>\n",
       "      <td>Friday</td>\n",
       "      <td>December</td>\n",
       "      <td>12</td>\n",
       "      <td>2016</td>\n",
       "      <td>4</td>\n",
       "      <td>4</td>\n",
       "      <td>2016_</td>\n",
       "      <td>4_</td>\n",
       "      <td>-0.243637</td>\n",
       "      <td>-0.118384</td>\n",
       "      <td>False</td>\n",
       "      <td>False</td>\n",
       "      <td>False</td>\n",
       "      <td>0.302751</td>\n",
       "      <td>False</td>\n",
       "      <td>0.113523</td>\n",
       "    </tr>\n",
       "    <tr>\n",
       "      <th>4072952</th>\n",
       "      <td>2016-12-30 22:00:00+00:00</td>\n",
       "      <td>ZLTQ.O</td>\n",
       "      <td>ZELTIQ Aesthetics Inc</td>\n",
       "      <td>347830.0</td>\n",
       "      <td>43.52</td>\n",
       "      <td>43.62</td>\n",
       "      <td>-0.000689</td>\n",
       "      <td>0.000000</td>\n",
       "      <td>-0.000515</td>\n",
       "      <td>0.000493</td>\n",
       "      <td>0.002996</td>\n",
       "      <td>0.002989</td>\n",
       "      <td>0.008213</td>\n",
       "      <td>0.003210</td>\n",
       "      <td>-0.048555</td>\n",
       "      <td>0.0</td>\n",
       "      <td>Friday</td>\n",
       "      <td>December</td>\n",
       "      <td>12</td>\n",
       "      <td>2016</td>\n",
       "      <td>4</td>\n",
       "      <td>4</td>\n",
       "      <td>2016_</td>\n",
       "      <td>4_</td>\n",
       "      <td>0.583609</td>\n",
       "      <td>0.817711</td>\n",
       "      <td>False</td>\n",
       "      <td>False</td>\n",
       "      <td>False</td>\n",
       "      <td>0.057769</td>\n",
       "      <td>True</td>\n",
       "      <td>0.058580</td>\n",
       "    </tr>\n",
       "    <tr>\n",
       "      <th>4072953</th>\n",
       "      <td>2016-12-30 22:00:00+00:00</td>\n",
       "      <td>ZNGA.O</td>\n",
       "      <td>Zynga Inc</td>\n",
       "      <td>7396601.0</td>\n",
       "      <td>2.57</td>\n",
       "      <td>2.58</td>\n",
       "      <td>-0.011538</td>\n",
       "      <td>0.000000</td>\n",
       "      <td>-0.006004</td>\n",
       "      <td>-0.001034</td>\n",
       "      <td>-0.091873</td>\n",
       "      <td>-0.078571</td>\n",
       "      <td>-0.077252</td>\n",
       "      <td>-0.077188</td>\n",
       "      <td>0.011703</td>\n",
       "      <td>0.0</td>\n",
       "      <td>Friday</td>\n",
       "      <td>December</td>\n",
       "      <td>12</td>\n",
       "      <td>2016</td>\n",
       "      <td>4</td>\n",
       "      <td>4</td>\n",
       "      <td>2016_</td>\n",
       "      <td>4_</td>\n",
       "      <td>-0.076525</td>\n",
       "      <td>-0.054393</td>\n",
       "      <td>False</td>\n",
       "      <td>False</td>\n",
       "      <td>False</td>\n",
       "      <td>0.224950</td>\n",
       "      <td>False</td>\n",
       "      <td>0.060581</td>\n",
       "    </tr>\n",
       "    <tr>\n",
       "      <th>4072954</th>\n",
       "      <td>2016-12-30 22:00:00+00:00</td>\n",
       "      <td>ZTO.N</td>\n",
       "      <td>Unknown</td>\n",
       "      <td>3146519.0</td>\n",
       "      <td>12.07</td>\n",
       "      <td>12.50</td>\n",
       "      <td>-0.029743</td>\n",
       "      <td>0.007252</td>\n",
       "      <td>-0.028460</td>\n",
       "      <td>0.006719</td>\n",
       "      <td>-0.065066</td>\n",
       "      <td>-0.042146</td>\n",
       "      <td>-0.078104</td>\n",
       "      <td>-0.043813</td>\n",
       "      <td>0.083367</td>\n",
       "      <td>1.0</td>\n",
       "      <td>Friday</td>\n",
       "      <td>December</td>\n",
       "      <td>12</td>\n",
       "      <td>2016</td>\n",
       "      <td>4</td>\n",
       "      <td>4</td>\n",
       "      <td>2016_</td>\n",
       "      <td>4_</td>\n",
       "      <td>-0.070191</td>\n",
       "      <td>-0.028552</td>\n",
       "      <td>False</td>\n",
       "      <td>False</td>\n",
       "      <td>False</td>\n",
       "      <td>NaN</td>\n",
       "      <td>False</td>\n",
       "      <td>NaN</td>\n",
       "    </tr>\n",
       "    <tr>\n",
       "      <th>4072955</th>\n",
       "      <td>2016-12-30 22:00:00+00:00</td>\n",
       "      <td>ZTS.N</td>\n",
       "      <td>Zoetis Inc</td>\n",
       "      <td>1701204.0</td>\n",
       "      <td>53.53</td>\n",
       "      <td>53.64</td>\n",
       "      <td>-0.001678</td>\n",
       "      <td>0.003091</td>\n",
       "      <td>0.005060</td>\n",
       "      <td>0.002885</td>\n",
       "      <td>0.023127</td>\n",
       "      <td>0.028177</td>\n",
       "      <td>0.026566</td>\n",
       "      <td>0.028719</td>\n",
       "      <td>-0.016220</td>\n",
       "      <td>1.0</td>\n",
       "      <td>Friday</td>\n",
       "      <td>December</td>\n",
       "      <td>12</td>\n",
       "      <td>2016</td>\n",
       "      <td>4</td>\n",
       "      <td>4</td>\n",
       "      <td>2016_</td>\n",
       "      <td>4_</td>\n",
       "      <td>0.902471</td>\n",
       "      <td>0.776853</td>\n",
       "      <td>True</td>\n",
       "      <td>True</td>\n",
       "      <td>False</td>\n",
       "      <td>0.108592</td>\n",
       "      <td>False</td>\n",
       "      <td>0.034381</td>\n",
       "    </tr>\n",
       "  </tbody>\n",
       "</table>\n",
       "</div>"
      ],
      "text/plain": [
       "                             time assetCode              assetName     volume  \\\n",
       "4072951 2016-12-30 22:00:00+00:00    ZIOP.O  ZIOPHARM Oncology Inc  1608829.0   \n",
       "4072952 2016-12-30 22:00:00+00:00    ZLTQ.O  ZELTIQ Aesthetics Inc   347830.0   \n",
       "4072953 2016-12-30 22:00:00+00:00    ZNGA.O              Zynga Inc  7396601.0   \n",
       "4072954 2016-12-30 22:00:00+00:00     ZTO.N                Unknown  3146519.0   \n",
       "4072955 2016-12-30 22:00:00+00:00     ZTS.N             Zoetis Inc  1701204.0   \n",
       "\n",
       "         close   open  returnsClosePrevRaw1  returnsOpenPrevRaw1  \\\n",
       "4072951   5.35   5.37             -0.003724             0.000000   \n",
       "4072952  43.52  43.62             -0.000689             0.000000   \n",
       "4072953   2.57   2.58             -0.011538             0.000000   \n",
       "4072954  12.07  12.50             -0.029743             0.007252   \n",
       "4072955  53.53  53.64             -0.001678             0.003091   \n",
       "\n",
       "         returnsClosePrevMktres1  returnsOpenPrevMktres1  \\\n",
       "4072951                 0.000536               -0.001868   \n",
       "4072952                -0.000515                0.000493   \n",
       "4072953                -0.006004               -0.001034   \n",
       "4072954                -0.028460                0.006719   \n",
       "4072955                 0.005060                0.002885   \n",
       "\n",
       "         returnsClosePrevRaw10  returnsOpenPrevRaw10  \\\n",
       "4072951              -0.165367             -0.138042   \n",
       "4072952               0.002996              0.002989   \n",
       "4072953              -0.091873             -0.078571   \n",
       "4072954              -0.065066             -0.042146   \n",
       "4072955               0.023127              0.028177   \n",
       "\n",
       "         returnsClosePrevMktres10  returnsOpenPrevMktres10  \\\n",
       "4072951                 -0.139597                -0.135913   \n",
       "4072952                  0.008213                 0.003210   \n",
       "4072953                 -0.077252                -0.077188   \n",
       "4072954                 -0.078104                -0.043813   \n",
       "4072955                  0.026566                 0.028719   \n",
       "\n",
       "         returnsOpenNextMktres10  universe day_name month_name  month  year  \\\n",
       "4072951                 0.051189       0.0   Friday   December     12  2016   \n",
       "4072952                -0.048555       0.0   Friday   December     12  2016   \n",
       "4072953                 0.011703       0.0   Friday   December     12  2016   \n",
       "4072954                 0.083367       1.0   Friday   December     12  2016   \n",
       "4072955                -0.016220       1.0   Friday   December     12  2016   \n",
       "\n",
       "         day  quarter year_obj quarter_obj      macd    signal  macd_cross  \\\n",
       "4072951    4        4    2016_          4_ -0.243637 -0.118384       False   \n",
       "4072952    4        4    2016_          4_  0.583609  0.817711       False   \n",
       "4072953    4        4    2016_          4_ -0.076525 -0.054393       False   \n",
       "4072954    4        4    2016_          4_ -0.070191 -0.028552       False   \n",
       "4072955    4        4    2016_          4_  0.902471  0.776853        True   \n",
       "\n",
       "         macd_sharp_rise  macd_div   squeeze  low_vol    sq_min  \n",
       "4072951            False     False  0.302751    False  0.113523  \n",
       "4072952            False     False  0.057769     True  0.058580  \n",
       "4072953            False     False  0.224950    False  0.060581  \n",
       "4072954            False     False       NaN    False       NaN  \n",
       "4072955             True     False  0.108592    False  0.034381  "
      ]
     },
     "execution_count": 10,
     "metadata": {},
     "output_type": "execute_result"
    }
   ],
   "source": [
    "def BB_distance(dframe):\n",
    "    \n",
    "    '''price moves toward upper indicate bullish. This\n",
    "    returns the distance from stock price to upper or lower \n",
    "    BB. If the distance turns negative, the price is above/below. \n",
    "    See indicator lambdas.\n",
    "    \n",
    "    Squeeze is calculate per asset. However, comparing it to the 6 month min is a bit\n",
    "    more involved. For now, leave it external. It can be integrated into the func/class\n",
    "    later if it is useful. Notice the shift on the rolling min(). The present squeeze value\n",
    "    should not be included in the window we are comparing it with.\n",
    "    '''\n",
    "    \n",
    "    asset_close = dframe.groupby('assetCode')['close']\n",
    "    \n",
    "    sd_20 = (\n",
    "            asset_close.\n",
    "            transform(lambda x: x.rolling(window=20).\n",
    "            std()).\n",
    "            values        \n",
    "            )\n",
    "    \n",
    "    sma_20 = (\n",
    "            asset_close.\n",
    "            transform(lambda x: x.rolling(window=20).\n",
    "            mean()).\n",
    "            values\n",
    "            )\n",
    "    \n",
    "    # convert everything to arrays   \n",
    "    U = sma_20 + (sd_20*2)    \n",
    "    L = sma_20 - (sd_20*2) \n",
    "    squeeze = (U - L)/ sma_20\n",
    "    del sd_20, sma_20, asset_close\n",
    "    \n",
    "    return (U, L, squeeze)\n",
    "\n",
    "U, L,  squeeze = BB_distance(data)\n",
    "\n",
    "\n",
    "# A SHIFT IS INCLUDED TO EXCLUDE THE CURRENT VALUE TO BE COMPARED\n",
    "data['squeeze'] = squeeze\n",
    "sq_min = (\n",
    "        data.groupby('assetCode')['squeeze'].\n",
    "        transform(lambda x: x.rolling(window=126, min_periods=126).\n",
    "        min().\n",
    "        shift())\n",
    "        )\n",
    "\n",
    "data['low_vol'] = np.where(squeeze <= sq_min, 1, 0).astype('bool')\n",
    "# need this to drop first 126 days\n",
    "data['sq_min'] = sq_min\n",
    "\n",
    "del squeeze, U, L, sq_min\n",
    "gc.collect()\n",
    "data.tail()"
   ]
  },
  {
   "cell_type": "code",
   "execution_count": 11,
   "metadata": {
    "_uuid": "1977c89990f1520b563022720a62ee8c69d3b91e"
   },
   "outputs": [
    {
     "data": {
      "text/html": [
       "<div>\n",
       "<style scoped>\n",
       "    .dataframe tbody tr th:only-of-type {\n",
       "        vertical-align: middle;\n",
       "    }\n",
       "\n",
       "    .dataframe tbody tr th {\n",
       "        vertical-align: top;\n",
       "    }\n",
       "\n",
       "    .dataframe thead th {\n",
       "        text-align: right;\n",
       "    }\n",
       "</style>\n",
       "<table border=\"1\" class=\"dataframe\">\n",
       "  <thead>\n",
       "    <tr style=\"text-align: right;\">\n",
       "      <th></th>\n",
       "      <th>time</th>\n",
       "      <th>assetCode</th>\n",
       "      <th>assetName</th>\n",
       "      <th>volume</th>\n",
       "      <th>close</th>\n",
       "      <th>open</th>\n",
       "      <th>returnsClosePrevRaw1</th>\n",
       "      <th>returnsOpenPrevRaw1</th>\n",
       "      <th>returnsClosePrevMktres1</th>\n",
       "      <th>returnsOpenPrevMktres1</th>\n",
       "      <th>returnsClosePrevRaw10</th>\n",
       "      <th>returnsOpenPrevRaw10</th>\n",
       "      <th>returnsClosePrevMktres10</th>\n",
       "      <th>returnsOpenPrevMktres10</th>\n",
       "      <th>returnsOpenNextMktres10</th>\n",
       "      <th>universe</th>\n",
       "      <th>day_name</th>\n",
       "      <th>month_name</th>\n",
       "      <th>month</th>\n",
       "      <th>year</th>\n",
       "      <th>day</th>\n",
       "      <th>quarter</th>\n",
       "      <th>year_obj</th>\n",
       "      <th>quarter_obj</th>\n",
       "      <th>macd</th>\n",
       "      <th>signal</th>\n",
       "      <th>macd_cross</th>\n",
       "      <th>macd_sharp_rise</th>\n",
       "      <th>macd_div</th>\n",
       "      <th>squeeze</th>\n",
       "      <th>low_vol</th>\n",
       "      <th>sq_min</th>\n",
       "      <th>rsi</th>\n",
       "    </tr>\n",
       "  </thead>\n",
       "  <tbody>\n",
       "    <tr>\n",
       "      <th>4072951</th>\n",
       "      <td>2016-12-30 22:00:00+00:00</td>\n",
       "      <td>ZIOP.O</td>\n",
       "      <td>ZIOPHARM Oncology Inc</td>\n",
       "      <td>1608829.0</td>\n",
       "      <td>5.35</td>\n",
       "      <td>5.37</td>\n",
       "      <td>-0.003724</td>\n",
       "      <td>0.000000</td>\n",
       "      <td>0.000536</td>\n",
       "      <td>-0.001868</td>\n",
       "      <td>-0.165367</td>\n",
       "      <td>-0.138042</td>\n",
       "      <td>-0.139597</td>\n",
       "      <td>-0.135913</td>\n",
       "      <td>0.051189</td>\n",
       "      <td>0.0</td>\n",
       "      <td>Friday</td>\n",
       "      <td>December</td>\n",
       "      <td>12</td>\n",
       "      <td>2016</td>\n",
       "      <td>4</td>\n",
       "      <td>4</td>\n",
       "      <td>2016_</td>\n",
       "      <td>4_</td>\n",
       "      <td>-0.243637</td>\n",
       "      <td>-0.118384</td>\n",
       "      <td>False</td>\n",
       "      <td>False</td>\n",
       "      <td>False</td>\n",
       "      <td>0.302751</td>\n",
       "      <td>False</td>\n",
       "      <td>0.113523</td>\n",
       "      <td>0.211271</td>\n",
       "    </tr>\n",
       "    <tr>\n",
       "      <th>4072952</th>\n",
       "      <td>2016-12-30 22:00:00+00:00</td>\n",
       "      <td>ZLTQ.O</td>\n",
       "      <td>ZELTIQ Aesthetics Inc</td>\n",
       "      <td>347830.0</td>\n",
       "      <td>43.52</td>\n",
       "      <td>43.62</td>\n",
       "      <td>-0.000689</td>\n",
       "      <td>0.000000</td>\n",
       "      <td>-0.000515</td>\n",
       "      <td>0.000493</td>\n",
       "      <td>0.002996</td>\n",
       "      <td>0.002989</td>\n",
       "      <td>0.008213</td>\n",
       "      <td>0.003210</td>\n",
       "      <td>-0.048555</td>\n",
       "      <td>0.0</td>\n",
       "      <td>Friday</td>\n",
       "      <td>December</td>\n",
       "      <td>12</td>\n",
       "      <td>2016</td>\n",
       "      <td>4</td>\n",
       "      <td>4</td>\n",
       "      <td>2016_</td>\n",
       "      <td>4_</td>\n",
       "      <td>0.583609</td>\n",
       "      <td>0.817711</td>\n",
       "      <td>False</td>\n",
       "      <td>False</td>\n",
       "      <td>False</td>\n",
       "      <td>0.057769</td>\n",
       "      <td>True</td>\n",
       "      <td>0.058580</td>\n",
       "      <td>0.525793</td>\n",
       "    </tr>\n",
       "    <tr>\n",
       "      <th>4072953</th>\n",
       "      <td>2016-12-30 22:00:00+00:00</td>\n",
       "      <td>ZNGA.O</td>\n",
       "      <td>Zynga Inc</td>\n",
       "      <td>7396601.0</td>\n",
       "      <td>2.57</td>\n",
       "      <td>2.58</td>\n",
       "      <td>-0.011538</td>\n",
       "      <td>0.000000</td>\n",
       "      <td>-0.006004</td>\n",
       "      <td>-0.001034</td>\n",
       "      <td>-0.091873</td>\n",
       "      <td>-0.078571</td>\n",
       "      <td>-0.077252</td>\n",
       "      <td>-0.077188</td>\n",
       "      <td>0.011703</td>\n",
       "      <td>0.0</td>\n",
       "      <td>Friday</td>\n",
       "      <td>December</td>\n",
       "      <td>12</td>\n",
       "      <td>2016</td>\n",
       "      <td>4</td>\n",
       "      <td>4</td>\n",
       "      <td>2016_</td>\n",
       "      <td>4_</td>\n",
       "      <td>-0.076525</td>\n",
       "      <td>-0.054393</td>\n",
       "      <td>False</td>\n",
       "      <td>False</td>\n",
       "      <td>False</td>\n",
       "      <td>0.224950</td>\n",
       "      <td>False</td>\n",
       "      <td>0.060581</td>\n",
       "      <td>0.272631</td>\n",
       "    </tr>\n",
       "    <tr>\n",
       "      <th>4072954</th>\n",
       "      <td>2016-12-30 22:00:00+00:00</td>\n",
       "      <td>ZTO.N</td>\n",
       "      <td>Unknown</td>\n",
       "      <td>3146519.0</td>\n",
       "      <td>12.07</td>\n",
       "      <td>12.50</td>\n",
       "      <td>-0.029743</td>\n",
       "      <td>0.007252</td>\n",
       "      <td>-0.028460</td>\n",
       "      <td>0.006719</td>\n",
       "      <td>-0.065066</td>\n",
       "      <td>-0.042146</td>\n",
       "      <td>-0.078104</td>\n",
       "      <td>-0.043813</td>\n",
       "      <td>0.083367</td>\n",
       "      <td>1.0</td>\n",
       "      <td>Friday</td>\n",
       "      <td>December</td>\n",
       "      <td>12</td>\n",
       "      <td>2016</td>\n",
       "      <td>4</td>\n",
       "      <td>4</td>\n",
       "      <td>2016_</td>\n",
       "      <td>4_</td>\n",
       "      <td>-0.070191</td>\n",
       "      <td>-0.028552</td>\n",
       "      <td>False</td>\n",
       "      <td>False</td>\n",
       "      <td>False</td>\n",
       "      <td>NaN</td>\n",
       "      <td>False</td>\n",
       "      <td>NaN</td>\n",
       "      <td>0.247785</td>\n",
       "    </tr>\n",
       "    <tr>\n",
       "      <th>4072955</th>\n",
       "      <td>2016-12-30 22:00:00+00:00</td>\n",
       "      <td>ZTS.N</td>\n",
       "      <td>Zoetis Inc</td>\n",
       "      <td>1701204.0</td>\n",
       "      <td>53.53</td>\n",
       "      <td>53.64</td>\n",
       "      <td>-0.001678</td>\n",
       "      <td>0.003091</td>\n",
       "      <td>0.005060</td>\n",
       "      <td>0.002885</td>\n",
       "      <td>0.023127</td>\n",
       "      <td>0.028177</td>\n",
       "      <td>0.026566</td>\n",
       "      <td>0.028719</td>\n",
       "      <td>-0.016220</td>\n",
       "      <td>1.0</td>\n",
       "      <td>Friday</td>\n",
       "      <td>December</td>\n",
       "      <td>12</td>\n",
       "      <td>2016</td>\n",
       "      <td>4</td>\n",
       "      <td>4</td>\n",
       "      <td>2016_</td>\n",
       "      <td>4_</td>\n",
       "      <td>0.902471</td>\n",
       "      <td>0.776853</td>\n",
       "      <td>True</td>\n",
       "      <td>True</td>\n",
       "      <td>False</td>\n",
       "      <td>0.108592</td>\n",
       "      <td>False</td>\n",
       "      <td>0.034381</td>\n",
       "      <td>0.694243</td>\n",
       "    </tr>\n",
       "  </tbody>\n",
       "</table>\n",
       "</div>"
      ],
      "text/plain": [
       "                             time assetCode              assetName     volume  \\\n",
       "4072951 2016-12-30 22:00:00+00:00    ZIOP.O  ZIOPHARM Oncology Inc  1608829.0   \n",
       "4072952 2016-12-30 22:00:00+00:00    ZLTQ.O  ZELTIQ Aesthetics Inc   347830.0   \n",
       "4072953 2016-12-30 22:00:00+00:00    ZNGA.O              Zynga Inc  7396601.0   \n",
       "4072954 2016-12-30 22:00:00+00:00     ZTO.N                Unknown  3146519.0   \n",
       "4072955 2016-12-30 22:00:00+00:00     ZTS.N             Zoetis Inc  1701204.0   \n",
       "\n",
       "         close   open  returnsClosePrevRaw1  returnsOpenPrevRaw1  \\\n",
       "4072951   5.35   5.37             -0.003724             0.000000   \n",
       "4072952  43.52  43.62             -0.000689             0.000000   \n",
       "4072953   2.57   2.58             -0.011538             0.000000   \n",
       "4072954  12.07  12.50             -0.029743             0.007252   \n",
       "4072955  53.53  53.64             -0.001678             0.003091   \n",
       "\n",
       "         returnsClosePrevMktres1  returnsOpenPrevMktres1  \\\n",
       "4072951                 0.000536               -0.001868   \n",
       "4072952                -0.000515                0.000493   \n",
       "4072953                -0.006004               -0.001034   \n",
       "4072954                -0.028460                0.006719   \n",
       "4072955                 0.005060                0.002885   \n",
       "\n",
       "         returnsClosePrevRaw10  returnsOpenPrevRaw10  \\\n",
       "4072951              -0.165367             -0.138042   \n",
       "4072952               0.002996              0.002989   \n",
       "4072953              -0.091873             -0.078571   \n",
       "4072954              -0.065066             -0.042146   \n",
       "4072955               0.023127              0.028177   \n",
       "\n",
       "         returnsClosePrevMktres10  returnsOpenPrevMktres10  \\\n",
       "4072951                 -0.139597                -0.135913   \n",
       "4072952                  0.008213                 0.003210   \n",
       "4072953                 -0.077252                -0.077188   \n",
       "4072954                 -0.078104                -0.043813   \n",
       "4072955                  0.026566                 0.028719   \n",
       "\n",
       "         returnsOpenNextMktres10  universe day_name month_name  month  year  \\\n",
       "4072951                 0.051189       0.0   Friday   December     12  2016   \n",
       "4072952                -0.048555       0.0   Friday   December     12  2016   \n",
       "4072953                 0.011703       0.0   Friday   December     12  2016   \n",
       "4072954                 0.083367       1.0   Friday   December     12  2016   \n",
       "4072955                -0.016220       1.0   Friday   December     12  2016   \n",
       "\n",
       "         day  quarter year_obj quarter_obj      macd    signal  macd_cross  \\\n",
       "4072951    4        4    2016_          4_ -0.243637 -0.118384       False   \n",
       "4072952    4        4    2016_          4_  0.583609  0.817711       False   \n",
       "4072953    4        4    2016_          4_ -0.076525 -0.054393       False   \n",
       "4072954    4        4    2016_          4_ -0.070191 -0.028552       False   \n",
       "4072955    4        4    2016_          4_  0.902471  0.776853        True   \n",
       "\n",
       "         macd_sharp_rise  macd_div   squeeze  low_vol    sq_min       rsi  \n",
       "4072951            False     False  0.302751    False  0.113523  0.211271  \n",
       "4072952            False     False  0.057769     True  0.058580  0.525793  \n",
       "4072953            False     False  0.224950    False  0.060581  0.272631  \n",
       "4072954            False     False       NaN    False       NaN  0.247785  \n",
       "4072955             True     False  0.108592    False  0.034381  0.694243  "
      ]
     },
     "execution_count": 11,
     "metadata": {},
     "output_type": "execute_result"
    }
   ],
   "source": [
    "def rsi(x):\n",
    "    \n",
    "    diff = x.diff()\n",
    "    mask = diff < 0\n",
    "    high = abs(diff.mask(mask)).fillna(0)\n",
    "    low = abs(diff.mask(~mask)).fillna(0)\n",
    "    pos_rsi = high.ewm(span=14).mean()\n",
    "    neg_rsi = low.ewm(span=14).mean()\n",
    "    rsi = pos_rsi / (pos_rsi + neg_rsi)\n",
    "    del diff, mask, high, low, pos_rsi, neg_rsi\n",
    "    \n",
    "    return  rsi\n",
    "    \n",
    "\n",
    "data['rsi'] = data.groupby('assetCode')['close'].transform(lambda x: rsi(x))\n",
    "\n",
    "data.tail()"
   ]
  },
  {
   "cell_type": "code",
   "execution_count": 12,
   "metadata": {
    "_uuid": "221e5c8f0981e166bf4d032c70e58d0e8051b11c"
   },
   "outputs": [
    {
     "data": {
      "text/plain": [
       "returnsClosePrevMktres1      15980\n",
       "returnsOpenPrevMktres1       15988\n",
       "returnsClosePrevMktres10     93010\n",
       "returnsOpenPrevMktres10      93054\n",
       "squeeze                      69718\n",
       "sq_min                      482414\n",
       "rsi                           3985\n",
       "dtype: int64"
      ]
     },
     "execution_count": 12,
     "metadata": {},
     "output_type": "execute_result"
    }
   ],
   "source": [
    "# SQ_MIN SHOULD HAVE THE MOST\n",
    "data[[col for col in data.columns if data[col].isnull().sum() > 0]].isnull().sum()"
   ]
  },
  {
   "cell_type": "code",
   "execution_count": 13,
   "metadata": {
    "_uuid": "a414d819cf1535218bfd2735cd646e7bc42a07b8"
   },
   "outputs": [],
   "source": [
    "# Need to drop the first 6 months\n",
    "data.dropna(inplace=True)\n",
    "data.drop(['sq_min'], axis=1, inplace=True)\n",
    "df = data.copy()"
   ]
  },
  {
   "cell_type": "code",
   "execution_count": 14,
   "metadata": {
    "_uuid": "8808e8cdb462f1791635a1431cd747a8444e24bc"
   },
   "outputs": [
    {
     "data": {
      "text/plain": [
       "7"
      ]
     },
     "execution_count": 14,
     "metadata": {},
     "output_type": "execute_result"
    }
   ],
   "source": [
    "del data\n",
    "gc.collect()"
   ]
  },
  {
   "cell_type": "code",
   "execution_count": 15,
   "metadata": {
    "_uuid": "68c8674f89171cfb9129358fec73d14118ae8c67"
   },
   "outputs": [],
   "source": [
    "# JUST GRABBING THE BOOL TITLES - THERE IS AN ISSUE WITH QUICKPIPE\n",
    "bool_feats = (\n",
    "            TypeSelector(np.bool_).\n",
    "            fit_transform(df).\n",
    "            columns.\n",
    "            tolist()\n",
    "            )\n"
   ]
  },
  {
   "cell_type": "code",
   "execution_count": 16,
   "metadata": {
    "_uuid": "32f437e9a7df124ae600d7e55fe69ae16316a805"
   },
   "outputs": [],
   "source": [
    "from sklearn.pipeline import make_pipeline\n",
    "\n",
    "\n",
    "transformer_list = [ ('numeric', make_pipeline(TypeSelector(np.number),\n",
    "                                QuickPipeline_mod()\n",
    "                                )\n",
    "                    ),('binned_features', make_pipeline(\n",
    "                        TypeSelector(np.number),\n",
    "                        SelectFeatures(feat_list=['volume']),\n",
    "                        KBins(n_bins=5),\n",
    "                        QuickPipeline_mod()\n",
    "                         )\n",
    "                ), ('boolean_features', make_pipeline(\n",
    "                         TypeSelector(np.bool_),\n",
    "                        QuickPipeline_mod(categorical_features=bool_feats)\n",
    "                        )\n",
    "                   ),('categorical_features', make_pipeline(\n",
    "                         TypeSelector(np.object),\n",
    "                        QuickPipeline_mod() )\n",
    "                        )                                           \n",
    "                   ]"
   ]
  },
  {
   "cell_type": "code",
   "execution_count": 17,
   "metadata": {
    "_uuid": "3e9262198dd4b2227223cf69f752a8c21b9cca51"
   },
   "outputs": [],
   "source": [
    "preprocess_pipeline = make_pipeline(PandasFeatureUnion(transformer_list))\n"
   ]
  },
  {
   "cell_type": "code",
   "execution_count": 18,
   "metadata": {
    "_uuid": "590f5cecf82b2413a232128875030d35ad77bedb"
   },
   "outputs": [],
   "source": [
    "\n",
    "df['date'] = df.time.dt.strftime(\"%Y%m%d\").astype(int)\n",
    "df.reset_index(drop=True, inplace=True)\n",
    "# Needed for dataframe splits\n",
    "dates = df['date'].unique()\n",
    "\n",
    "# Convert targets to binary\n",
    "target = ['returnsOpenNextMktres10']\n",
    "label = ['label']\n",
    "# df[target[0]] = (df[target[0]] > 0).astype(int)\n",
    "df[label[0]] = (df[target[0]] > 0).astype(int)\n",
    "# Consider vectorize - later"
   ]
  },
  {
   "cell_type": "code",
   "execution_count": 19,
   "metadata": {
    "_uuid": "16310dfb7ff9c269af75b9ea26086f67f1c77fba"
   },
   "outputs": [],
   "source": [
    "def train_feats(dframe, drops=list):\n",
    "    # could do list comp\n",
    "    train_feat = []\n",
    "    for col in dframe.columns:\n",
    "        if col not in drops:\n",
    "            train_feat.append(col)\n",
    "    return train_feat\n",
    "\n",
    "feats = train_feats(df, drops=['date', 'assetCode', 'assetName', 'universe', \n",
    "                               'returnsOpenNextMktres10', \n",
    "                               'label', 'time'])\n"
   ]
  },
  {
   "cell_type": "code",
   "execution_count": 20,
   "metadata": {
    "_uuid": "e99a427f2b5247f6510dd9d8da318f6b1dc9a8e1"
   },
   "outputs": [],
   "source": [
    "import warnings\n",
    "warnings.filterwarnings(action='ignore')\n",
    "X = preprocess_pipeline.fit_transform(df[feats])"
   ]
  },
  {
   "cell_type": "code",
   "execution_count": 21,
   "metadata": {
    "_uuid": "6ccb47ce9172771173d5919f486304a2a54f27eb"
   },
   "outputs": [
    {
     "data": {
      "text/plain": [
       "352"
      ]
     },
     "execution_count": 21,
     "metadata": {},
     "output_type": "execute_result"
    }
   ],
   "source": [
    "df_ = pd.concat([df[[col for col in df.columns if col not in feats]] ,\n",
    "                  X],\n",
    "                  axis=1)\n",
    "\n",
    "# Rerun train features for processed data\n",
    "feats = train_feats(df_, drops=['date', 'assetCode', 'assetName', 'universe', \n",
    "                               'returnsOpenNextMktres10', \n",
    "                               'label', 'time'])\n",
    "del X, df\n",
    "gc.collect()"
   ]
  },
  {
   "cell_type": "code",
   "execution_count": null,
   "metadata": {
    "_uuid": "63e6c011e0b951855f267374742c7e56ea5872a4"
   },
   "outputs": [],
   "source": [
    "df_.head()"
   ]
  },
  {
   "cell_type": "code",
   "execution_count": 22,
   "metadata": {
    "_uuid": "e0871e87946f04e8988f56dbd737ccec53365a8b"
   },
   "outputs": [],
   "source": [
    "import lightgbm as lgb\n",
    "\n",
    "train_range = range(len(dates))[:int(0.70*len(dates))]\n",
    "val_range = range(len(dates))[int(0.70*len(dates)):int(0.9*len(dates))]\n",
    "test_range = range(len(dates))[int(0.9*len(dates)):]"
   ]
  },
  {
   "cell_type": "code",
   "execution_count": 23,
   "metadata": {
    "_uuid": "0f5c5e85f114dbfeacfa53ab8e9692a8c1091351"
   },
   "outputs": [
    {
     "data": {
      "text/plain": [
       "Series([], dtype: float64)"
      ]
     },
     "execution_count": 23,
     "metadata": {},
     "output_type": "execute_result"
    }
   ],
   "source": [
    "df_[[col for col in df_.columns if df_[col].isnull().sum() > 0]].isnull().sum()"
   ]
  },
  {
   "cell_type": "code",
   "execution_count": 24,
   "metadata": {
    "_uuid": "e0871e87946f04e8988f56dbd737ccec53365a8b"
   },
   "outputs": [
    {
     "name": "stdout",
     "output_type": "stream",
     "text": [
      "(2432939, 59) (2432939, 1)\n"
     ]
    },
    {
     "data": {
      "text/plain": [
       "7"
      ]
     },
     "execution_count": 24,
     "metadata": {},
     "output_type": "execute_result"
    }
   ],
   "source": [
    "# KINDA LOOKS CRAPPY. THIS JUST SETS THE TRAINING/VAL SETS WITH PREDICTORS\n",
    "# train data - numpys\n",
    "X_train = df_[feats].loc[df_['date'].isin(dates[train_range])].values\n",
    "y_train = df_[label].loc[df_['date'].isin(dates[train_range])].values\n",
    "\n",
    "# GETS INTERESTING -> INPUTS DATA INTO INSTANCE\n",
    "print(X_train.shape, y_train.shape)\n",
    "lgb_train = lgb.Dataset(X_train, y_train[:,0], feature_name=feats)\n",
    "del X_train, y_train\n",
    "gc.collect()"
   ]
  },
  {
   "cell_type": "code",
   "execution_count": 25,
   "metadata": {
    "_uuid": "e0871e87946f04e8988f56dbd737ccec53365a8b"
   },
   "outputs": [
    {
     "name": "stdout",
     "output_type": "stream",
     "text": [
      "(717963, 59) (717963, 1)\n"
     ]
    },
    {
     "data": {
      "text/plain": [
       "0"
      ]
     },
     "execution_count": 25,
     "metadata": {},
     "output_type": "execute_result"
    }
   ],
   "source": [
    "# validation data - numpys\n",
    "X_v = df_[feats].loc[df_['date'].isin(dates[val_range])].values\n",
    "y_v = df_[label].loc[df_['date'].isin(dates[val_range])].values\n",
    "\n",
    "print(X_v.shape, y_v.shape)\n",
    "lgb_val = lgb.Dataset(X_v, y_v[:,0], feature_name=feats),\n",
    "del X_v, y_v\n",
    "gc.collect()"
   ]
  },
  {
   "cell_type": "code",
   "execution_count": 26,
   "metadata": {
    "_uuid": "e0871e87946f04e8988f56dbd737ccec53365a8b"
   },
   "outputs": [
    {
     "name": "stdout",
     "output_type": "stream",
     "text": [
      "(400799, 59) (400799, 1)\n"
     ]
    }
   ],
   "source": [
    "# test data\n",
    "X_test = df_[feats].loc[df_['date'].isin(dates[test_range])].values\n",
    "y_test = df_[label].loc[df_['date'].isin(dates[test_range])].values\n",
    "\n",
    "print(X_test.shape, y_test.shape)"
   ]
  },
  {
   "cell_type": "code",
   "execution_count": 27,
   "metadata": {
    "_uuid": "3ecd3c89163115f3dff16dd29d82d8766b0de930"
   },
   "outputs": [
    {
     "name": "stdout",
     "output_type": "stream",
     "text": [
      "[1]\tvalid_0's binary_logloss: 0.693608\n",
      "Training until validation scores don't improve for 10 rounds.\n",
      "[2]\tvalid_0's binary_logloss: 0.692388\n",
      "[3]\tvalid_0's binary_logloss: 0.691326\n",
      "[4]\tvalid_0's binary_logloss: 0.690445\n",
      "[5]\tvalid_0's binary_logloss: 0.689789\n",
      "[6]\tvalid_0's binary_logloss: 0.689265\n",
      "[7]\tvalid_0's binary_logloss: 0.688757\n",
      "[8]\tvalid_0's binary_logloss: 0.688399\n",
      "[9]\tvalid_0's binary_logloss: 0.688117\n",
      "[10]\tvalid_0's binary_logloss: 0.687835\n",
      "[11]\tvalid_0's binary_logloss: 0.687511\n",
      "[12]\tvalid_0's binary_logloss: 0.687286\n",
      "[13]\tvalid_0's binary_logloss: 0.68738\n",
      "[14]\tvalid_0's binary_logloss: 0.687287\n",
      "[15]\tvalid_0's binary_logloss: 0.687177\n",
      "[16]\tvalid_0's binary_logloss: 0.687094\n",
      "[17]\tvalid_0's binary_logloss: 0.687044\n",
      "[18]\tvalid_0's binary_logloss: 0.68701\n",
      "[19]\tvalid_0's binary_logloss: 0.686833\n",
      "[20]\tvalid_0's binary_logloss: 0.68688\n",
      "[21]\tvalid_0's binary_logloss: 0.686874\n",
      "[22]\tvalid_0's binary_logloss: 0.68686\n",
      "[23]\tvalid_0's binary_logloss: 0.686837\n",
      "[24]\tvalid_0's binary_logloss: 0.686801\n",
      "[25]\tvalid_0's binary_logloss: 0.686824\n",
      "[26]\tvalid_0's binary_logloss: 0.686868\n",
      "[27]\tvalid_0's binary_logloss: 0.687092\n",
      "[28]\tvalid_0's binary_logloss: 0.687027\n",
      "[29]\tvalid_0's binary_logloss: 0.686963\n",
      "[30]\tvalid_0's binary_logloss: 0.686938\n",
      "[31]\tvalid_0's binary_logloss: 0.686883\n",
      "[32]\tvalid_0's binary_logloss: 0.686887\n",
      "[33]\tvalid_0's binary_logloss: 0.687051\n",
      "[34]\tvalid_0's binary_logloss: 0.687095\n",
      "Early stopping, best iteration is:\n",
      "[24]\tvalid_0's binary_logloss: 0.686801\n"
     ]
    }
   ],
   "source": [
    "param = {\"objective\" : \"binary\",\n",
    "          \"metric\" : \"binary_logloss\",\n",
    "          \"verbosity\" : -1,\n",
    "        'random_state': 81}\n",
    "\n",
    "# TONS OF HYPERPARAMENTERS. THIS FIT FUNC USES THE VAL SET TO TRAIN AND \n",
    "# SELECT THE BEST ITERATION\n",
    "\n",
    "model = lgb.train(param, lgb_train, valid_sets=lgb_val, \n",
    "                  early_stopping_rounds=10) \n",
    "                  "
   ]
  },
  {
   "cell_type": "code",
   "execution_count": 28,
   "metadata": {
    "_uuid": "0be7bf8d32bf10221e10f37fd7301a296117c2a5"
   },
   "outputs": [
    {
     "data": {
      "text/plain": [
       "0.5150650474352767"
      ]
     },
     "execution_count": 28,
     "metadata": {},
     "output_type": "execute_result"
    }
   ],
   "source": [
    "# FULL TEST SET DATASET VERSION\n",
    "preds = model.predict(X_test, num_iteration=model.best_iteration) \n",
    "date_vec = df_['date'].loc[df_['date'].isin(dates[test_range])]\n",
    "u = df_['universe'].loc[df_['date'].isin(dates[test_range])]\n",
    "actual = df_[target].loc[df_['date'].isin(dates[test_range])].values[:, 0]\n",
    "\n",
    "def custom_metric(date, pred_proba, num_target, universe):\n",
    "    y = pred_proba*2 - 1\n",
    "    r = num_target#.clip(-1,1) # get rid of outliers\n",
    "    x = y * r * universe\n",
    "    result = pd.DataFrame({'day' : date, 'x' : x})\n",
    "    x_t = result.groupby('day').sum().values\n",
    "    return np.mean(x_t) / np.std(x_t)\n",
    "\n",
    "\n",
    "custom_metric(date_vec, preds, actual, u)\n",
    "\n",
    "# 0.42009"
   ]
  },
  {
   "cell_type": "code",
   "execution_count": 30,
   "metadata": {
    "_uuid": "497fc0ae088a8293cba8dceb333719af5c1c68fd"
   },
   "outputs": [
    {
     "data": {
      "text/plain": [
       "<matplotlib.axes._subplots.AxesSubplot at 0x7f45a3d65e48>"
      ]
     },
     "execution_count": 30,
     "metadata": {},
     "output_type": "execute_result"
    },
    {
     "data": {
      "image/png": "[encoded data removed]",
      "text/plain": [
       "<Figure size 432x288 with 1 Axes>"
      ]
     },
     "metadata": {},
     "output_type": "display_data"
    }
   ],
   "source": [
    "\n",
    "lgb.plot_importance(model, max_num_features=20)"
   ]
  },
  {
   "cell_type": "code",
   "execution_count": 31,
   "metadata": {
    "_uuid": "4fe5961a278afb1d72a1260afd80e458495f9330"
   },
   "outputs": [
    {
     "name": "stdout",
     "output_type": "stream",
     "text": [
      "1 Feature: month, weight: 0.143\n",
      "2 Feature: year, weight: 0.133\n",
      "3 Feature: squeeze, weight: 0.094\n",
      "4 Feature: returnsOpenPrevMktres10, weight: 0.06\n",
      "5 Feature: year_obj_2009_, weight: 0.046\n",
      "6 Feature: returnsClosePrevMktres1, weight: 0.04\n",
      "7 Feature: signal, weight: 0.036\n",
      "8 Feature: macd, weight: 0.036\n",
      "9 Feature: year_obj_2012_, weight: 0.033\n",
      "10 Feature: month_name_June, weight: 0.032\n",
      "11 Feature: month_name_February, weight: 0.028\n",
      "12 Feature: returnsOpenPrevRaw10, weight: 0.026\n",
      "13 Feature: month_name_March, weight: 0.026\n",
      "14 Feature: month_name_May, weight: 0.025\n",
      "15 Feature: returnsOpenPrevRaw1, weight: 0.024\n",
      "16 Feature: month_name_July, weight: 0.024\n",
      "17 Feature: month_name_August, weight: 0.021\n",
      "18 Feature: year_obj_2010_, weight: 0.019\n",
      "19 Feature: year_obj_2008_, weight: 0.017\n",
      "20 Feature: month_name_October, weight: 0.017\n"
     ]
    }
   ],
   "source": [
    "importances = model.feature_importance()\n",
    "indices = np.argsort(importances)\n",
    "top = indices[::-1][:20]\n",
    "for i in range(len(top)):\n",
    "#     print(top[i])\n",
    "    name = df_[feats].columns[top[i]]\n",
    "    w = importances[top[i]] / sum(importances)\n",
    "#     print(name)\n",
    "    print('{} Feature: {}, weight: {}'.format(i+1, name, round(w, 3)))"
   ]
  },
  {
   "cell_type": "code",
   "execution_count": null,
   "metadata": {
    "_uuid": "459f2f3c7790a441a4acad2ccfdd8c73f3250427"
   },
   "outputs": [],
   "source": []
  }
 ],
 "metadata": {
  "kernelspec": {
   "display_name": "Python 3",
   "language": "python",
   "name": "python3"
  },
  "language_info": {
   "codemirror_mode": {
    "name": "ipython",
    "version": 3
   },
   "file_extension": ".py",
   "mimetype": "text/x-python",
   "name": "python",
   "nbconvert_exporter": "python",
   "pygments_lexer": "ipython3",
   "version": "3.6.6"
  }
 },
 "nbformat": 4,
 "nbformat_minor": 1
}
