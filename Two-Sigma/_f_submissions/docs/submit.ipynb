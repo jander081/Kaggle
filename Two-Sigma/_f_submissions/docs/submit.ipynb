{
 "cells": [
  {
   "cell_type": "markdown",
   "metadata": {
    "_uuid": "bc6b7a087a3298211d52083d49e0c4548098f3a5"
   },
   "source": [
    "![](https://choco9966.github.io/Team-EDA/image/TwoSigma_Logo_RGB.jpg)"
   ]
  },
  {
   "cell_type": "markdown",
   "metadata": {
    "_cell_guid": "b1076dfc-b9ad-4769-8c92-a6c4dae69d19",
    "_uuid": "8f2839f25d086af736a60e9eeb907d3b93b6e0e5"
   },
   "source": [
    "# 1. Introduction\n",
    "\n",
    "Here is an Exploratory Data Analysis for the Two Sigma: Using News to Predict Stock Movements \n",
    "within the Python environment. In this competition, you must predict a signed confidence value, y^ti∈[−1,1] , which is multiplied by the market-adjusted return of a given `assetCode` over a ten day window. If you expect a stock to have a large positive return--compared to the broad market--over the next ten days, you might assign it a large, positive `confidenceValue` (near 1.0). If you expect a stock to have a negative return, you might assign it a large, negative `confidenceValue` (near -1.0). If unsure, you might assign it a value near zero.\n",
    "\n",
    "For each day in the evaluation time period, we calculate:\n",
    "\n",
    "$$x_{t} = \\sum_{i}\\hat y_{ti}r_{ti}u_{ti}$$\n",
    "\n",
    "where rti is the 10-day market-adjusted leading return for day t for instrument i, and uti is a 0/1 `universe` variable (see the data description for details) that controls whether a particular asset is included in scoring on a particular day.\n",
    "\n",
    "Your submission score is then calculated as the mean divided by the standard deviation of your daily xt values:\n",
    "\n",
    "$$score = \\frac{\\bar x_{t}}{\\sigma(x_{t})}.$$\n",
    "\n",
    "If the standard deviation of predictions is 0, the score is defined as 0.\n",
    "\n",
    "**Note :** According to the discussion below, it seems that R does not work yet.   \n",
    "https://www.kaggle.com/c/two-sigma-financial-news/discussion/66831"
   ]
  },
  {
   "cell_type": "markdown",
   "metadata": {
    "_cell_guid": "79c7e3d0-c299-4dcb-8224-4455121ee9b0",
    "_uuid": "d629ff2d2480ee46fbb7e2d37f6b5fab8052498a",
    "collapsed": true
   },
   "source": [
    "# 2. Preparations\n",
    "## 2.1 Load libraries"
   ]
  },
  {
   "cell_type": "code",
   "execution_count": null,
   "metadata": {
    "_uuid": "e2524e66838667e802b1fe2a999502b6554f4b8f"
   },
   "outputs": [],
   "source": [
    "import pandas as pd\n",
    "import numpy as np\n",
    "import time\n",
    "import lightgbm as lgb\n",
    "from sklearn.metrics import mean_squared_error\n",
    "from sklearn.model_selection import KFold\n",
    "import matplotlib.pyplot as plt\n",
    "import seaborn as sns\n",
    "\n",
    "plt.style.use('seaborn')\n",
    "sns.set(font_scale=2)\n",
    "\n",
    "import warnings \n",
    "warnings.filterwarnings('ignore')\n",
    "import os"
   ]
  },
  {
   "cell_type": "markdown",
   "metadata": {
    "_uuid": "fdd83f326e1787df94e1a11e7a3bfa3e23dd32ac"
   },
   "source": [
    "In the data file description,\n",
    "`About this file This is just a sample of the market data. You should not use this data directly.\n",
    "Instead, call env.get_training_data() from the twosigmanews package to get the full training sets in your Kernel.`\n",
    "\n",
    "**So you download directly below**. I using DJ sterling kernel(https://www.kaggle.com/dster/two-sigma-news-official-getting-started-kernel) thnaks "
   ]
  },
  {
   "cell_type": "code",
   "execution_count": null,
   "metadata": {
    "_uuid": "a99c0e803afb4d179d0c33f7bb73b4458fe3b43d"
   },
   "outputs": [],
   "source": [
    "from kaggle.competitions import twosigmanews\n",
    "# You can only call make_env() once, so don't lose it!\n",
    "env = twosigmanews.make_env()\n",
    "print('Done!')"
   ]
  },
  {
   "cell_type": "markdown",
   "metadata": {
    "_uuid": "e08403c881b7963f4ad31a9a1ac31daca547125b"
   },
   "source": [
    "## 2.2 Load train_data"
   ]
  },
  {
   "cell_type": "code",
   "execution_count": null,
   "metadata": {
    "_uuid": "048583ec640b32ca30a238ca81b5660fe0dbff59"
   },
   "outputs": [],
   "source": [
    "(market_train_df, news_train_df) = env.get_training_data()"
   ]
  },
  {
   "cell_type": "code",
   "execution_count": null,
   "metadata": {
    "_uuid": "9fe8c4fb7dacbc3f1910c8beba17e881e5278d5a"
   },
   "outputs": [],
   "source": [
    "print(\"In total: \", market_train_df.shape)"
   ]
  },
  {
   "cell_type": "code",
   "execution_count": null,
   "metadata": {
    "_uuid": "9705e6ddc65d3adcb7f6bebf99798eab3340f983"
   },
   "outputs": [],
   "source": [
    "market_train_df.head()"
   ]
  },
  {
   "cell_type": "code",
   "execution_count": null,
   "metadata": {
    "_uuid": "099541d200d4b2b133b92ae1a515ababe305c068"
   },
   "outputs": [],
   "source": [
    "print(\"In total: \", news_train_df.shape)"
   ]
  },
  {
   "cell_type": "code",
   "execution_count": null,
   "metadata": {
    "_uuid": "8e54166e53f6cde6965c4fffefd9d2ea115f3088"
   },
   "outputs": [],
   "source": [
    "news_train_df.head()"
   ]
  },
  {
   "cell_type": "markdown",
   "metadata": {
    "_uuid": "d9aff50dda8a73c529c3001f42cc0d508ec0f7aa"
   },
   "source": [
    "## 2.3 Load test_data"
   ]
  },
  {
   "cell_type": "code",
   "execution_count": null,
   "metadata": {
    "_uuid": "c35c64e4b2bbe61c8ef43036f8b9820a779580f1"
   },
   "outputs": [],
   "source": [
    "days = env.get_prediction_days()\n",
    "(market_obs_df, news_obs_df, predictions_template_df) = next(days)"
   ]
  },
  {
   "cell_type": "code",
   "execution_count": null,
   "metadata": {
    "_uuid": "b8082900f00b8c574e7be2a0d14838d3796e8b61"
   },
   "outputs": [],
   "source": [
    "print(\"In total: \", market_obs_df.shape)"
   ]
  },
  {
   "cell_type": "code",
   "execution_count": null,
   "metadata": {
    "_uuid": "603c52015b81c707709162379fda2e5bece0dcf3"
   },
   "outputs": [],
   "source": [
    "market_obs_df.head()"
   ]
  },
  {
   "cell_type": "code",
   "execution_count": null,
   "metadata": {
    "_uuid": "f3a29bfdb27188c2ab1b2c8f27957554ced42f45"
   },
   "outputs": [],
   "source": [
    "print(\"In total: \", news_obs_df.shape)"
   ]
  },
  {
   "cell_type": "code",
   "execution_count": null,
   "metadata": {
    "_uuid": "ceae178869ca648d3acc0f0e3b2a864c59f25610"
   },
   "outputs": [],
   "source": [
    "news_obs_df.head()"
   ]
  },
  {
   "cell_type": "code",
   "execution_count": null,
   "metadata": {
    "_uuid": "f2c7fd935b071ff9c77bbab107d2561ec5a3298a"
   },
   "outputs": [],
   "source": [
    "predictions_template_df.head()"
   ]
  },
  {
   "cell_type": "code",
   "execution_count": null,
   "metadata": {
    "_uuid": "08c536a8702144f8b7cd44ac0ca45586e340d072"
   },
   "outputs": [],
   "source": [
    "print(\"In market_train_df: \", market_train_df.shape);print(\"In market_obs_df: \", market_obs_df.shape);\n",
    "print(\"In news_train_df: \", news_train_df.shape);print(\"In news_obs_df: \", news_obs_df.shape)"
   ]
  },
  {
   "cell_type": "markdown",
   "metadata": {
    "_uuid": "7bacce382ae10b3cf53cda4f94062912208477a4"
   },
   "source": [
    "- `market_train data` is about **40.7 million( 2007-02-01 ~ 2016-12-30 )** , `market_test` is about **1800  ( 2017-01-03 )**. Similarly, news is similar.  \n",
    "- The other two variables above are missing `assetName` and` universe`."
   ]
  },
  {
   "cell_type": "markdown",
   "metadata": {
    "_uuid": "6775dd39dcb9791f84f2faa37864506b7c657bbf"
   },
   "source": [
    "## 2.4 Data Description\n",
    "### Market data\n",
    "Market data\n",
    "The data includes a subset of US-listed instruments. The set of included instruments changes daily and is determined based on the amount traded and the availability of information. This means that there may be instruments that enter and leave this subset of data. There may therefore be gaps in the data provided, and this does not necessarily imply that that data does not exist (those rows are likely not included due to the selection criteria).\n",
    "\n",
    "The marketdata contains a variety of returns calculated over different timespans. All of the returns in this set of marketdata have these properties:\n",
    "\n",
    "- Returns are always calculated either open-to-open (from the opening time of one trading day to the open of another) or close-to-close (from the closing time of one trading day to the open of another).\n",
    "- Returns are either raw, meaning that the data is not adjusted against any benchmark, or market-residualized (Mktres), meaning that the movement of the market as a whole has been accounted for, leaving only movements inherent to the instrument.\n",
    "- Returns can be calculated over any arbitrary interval. Provided here are 1 day and 10 day horizons.\n",
    "- Returns are tagged with 'Prev' if they are backwards looking in time, or 'Next' if forwards looking.\n",
    "\n",
    "Within the marketdata, you will find the following columns:\n",
    "\n",
    "- time(datetime64[ns, UTC]) - the current time (in marketdata, all rows are taken at 22:00 UTC)\n",
    "- assetCode(object) - a unique id of an asset\n",
    "- assetName(category) - the name that corresponds to a group of assetCodes. These may be \"Unknown\" if the corresponding assetCode does not have any rows in the news data.\n",
    "- universe(float64) - a boolean indicating whether or not the instrument on that day will be included in scoring. This value is not provided outside of the training data time period. The trading universe on a given date is the set of instruments that are avilable for trading (the scoring function will not consider instruments that are not in the trading universe). The trading universe changes daily.\n",
    "- volume(float64) - trading volume in shares for the day\n",
    "- close(float64) - the close price for the day (not adjusted for splits or dividends)\n",
    "- open(float64) - the open price for the day (not adjusted for splits or dividends)\n",
    "- returnsClosePrevRaw1(float64) - see returns explanation above\n",
    "- returnsOpenPrevRaw1(float64) - see returns explanation above\n",
    "- returnsClosePrevMktres1(float64) - see returns explanation above\n",
    "- returnsOpenPrevMktres1(float64) - see returns explanation above\n",
    "- returnsClosePrevRaw10(float64) - see returns explanation above\n",
    "- returnsOpenPrevRaw10(float64) - see returns explanation above\n",
    "- returnsClosePrevMktres10(float64) - see returns explanation above\n",
    "- returnsOpenPrevMktres10(float64) - see returns explanation above\n",
    "- returnsOpenNextMktres10(float64) - 10 day, market-residualized return. This is the target variable used in competition scoring. The market data has been filtered such that returnsOpenNextMktres10 is always not null.\n",
    "\n",
    "### News data\n",
    "The news data contains information at both the news article level and asset level (in other words, the table is intentionally not normalized).\n",
    "\n",
    "- time(datetime64[ns, UTC]) - UTC timestamp showing when the data was available on the feed (second precision)\n",
    "- sourceTimestamp(datetime64[ns, UTC]) - UTC timestamp of this news item when it was created\n",
    "- firstCreated(datetime64[ns, UTC]) - UTC timestamp for the first version of the item\n",
    "- sourceId(object) - an Id for each news item\n",
    "- headline(object) - the item's headline\n",
    "- urgency(int8) - differentiates story types (1: alert, 3: article)\n",
    "- takeSequence(int16) - the take sequence number of the news item, starting at 1. For a given story, alerts and articles have separate sequences.\n",
    "- provider(category) - identifier for the organization which provided the news item (e.g. RTRS for Reuters News, BSW for Business Wire)\n",
    "- subjects(category) - topic codes and company identifiers that relate to this news item. Topic codes describe the news item's subject matter. These can cover asset classes, geographies, events, industries/sectors, and other types.\n",
    "- audiences(category) - identifies which desktop news product(s) the news item belongs to. They are typically tailored to specific audiences. (e.g. \"M\" for Money International News Service and \"FB\" for French General News Service)\n",
    "- bodySize(int32) - the size of the current version of the story body in characters\n",
    "- companyCount(int8) - the number of companies explicitly listed in the news item in the subjects field\n",
    "- headlineTag(object) - the Thomson Reuters headline tag for the news item\n",
    "- marketCommentary(bool) - boolean indicator that the item is discussing general market conditions, such as \"After the Bell\" summaries\n",
    "- sentenceCount(int16) - the total number of sentences in the news item. Can be used in conjunction with firstMentionSentence to determine the relative position of the first mention in the item.\n",
    "- wordCount(int32) - the total number of lexical tokens (words and punctuation) in the news item\n",
    "- assetCodes(category) - list of assets mentioned in the item\n",
    "- assetName(category) - name of the asset\n",
    "- firstMentionSentence(int16) - the first sentence, starting with the headline, in which the scored asset is mentioned.\n",
    "    -  1: headline\n",
    "    - 2: first sentence of the story body\n",
    "    - 3: second sentence of the body, etc\n",
    "    - 0: the asset being scored was not found in the news item's headline or body text. As a result, the entire news item's text (headline + body) will be used to determine the sentiment score.\n",
    "- relevance(float32) - a decimal number indicating the relevance of the news item to the asset. It ranges from 0 to 1. If the asset is mentioned in the headline, the relevance is set to 1. When the item is an alert (urgency == 1), relevance should be gauged by firstMentionSentence instead.\n",
    "- sentimentClass(int8) - indicates the predominant sentiment class for this news item with respect to the asset. The indicated class is the one with the highest probability.\n",
    "- sentimentNegative(float32) - probability that the sentiment of the news item was negative for the asset\n",
    "- sentimentNeutral(float32) - probability that the sentiment of the news item was neutral for the asset\n",
    "- sentimentPositive(float32) - probability that the sentiment of the news item was positive for the asset\n",
    "- sentimentWordCount(int32) - the number of lexical tokens in the sections of the item text that are deemed relevant to the asset. This can be used in conjunction with wordCount to determine the proportion of the news item discussing the asset.\n",
    "- noveltyCount12H(int16) - The 12 hour novelty of the content within a news item on a particular asset. It is calculated by comparing it with the asset-specific text over a cache of previous news items that contain the asset.\n",
    "- noveltyCount24H(int16) - same as above, but for 24 hours\n",
    "- noveltyCount3D(int16) - same as above, but for 3 days\n",
    "- noveltyCount5D(int16) - same as above, but for 5 days\n",
    "- noveltyCount7D(int16) - same as above, but for 7 days\n",
    "- volumeCounts12H(int16) - the 12 hour volume of news for each asset. A cache of previous news items is maintained and the number of news items that mention the asset within each of five historical periods is calculated.\n",
    "- volumeCounts24H(int16) - same as above, but for 24 hours\n",
    "- volumeCounts3D(int16) - same as above, but for 3 days\n",
    "- volumeCounts5D(int16) - same as above, but for 5 days\n",
    "- volumeCounts7D(int16) - same as above, but for 7 days"
   ]
  },
  {
   "cell_type": "markdown",
   "metadata": {
    "_uuid": "f7836f9c4473b9b8f263d9b973d20814be2510c1"
   },
   "source": [
    "# 3. Simple Exploration\n",
    "## 3.1 Check null data\n",
    "- ### Market"
   ]
  },
  {
   "cell_type": "code",
   "execution_count": null,
   "metadata": {
    "_uuid": "81702040c07e757a8561dd302f4636f090801365"
   },
   "outputs": [],
   "source": [
    "percent = (100 * market_train_df.isnull().sum() / market_train_df.shape[0]).sort_values(ascending=False)\n",
    "percent.plot(kind=\"bar\", figsize = (20,10), fontsize = 20)\n",
    "plt.xlabel(\"Columns\", fontsize = 20)\n",
    "plt.ylabel(\"Value Percent(%)\", fontsize = 20)\n",
    "plt.title(\"Total Missing Value by market_obs_df\", fontsize = 20)"
   ]
  },
  {
   "cell_type": "code",
   "execution_count": null,
   "metadata": {
    "_uuid": "4f2efefa89c898573f58ef2626b71383c65a040b"
   },
   "outputs": [],
   "source": [
    "percent1 = (100 * market_obs_df.isnull().sum() / market_obs_df.shape[0]).sort_values(ascending=False)\n",
    "percent1.plot(kind=\"bar\", figsize = (20,10), fontsize = 20)\n",
    "plt.xlabel(\"Columns\", fontsize = 20)\n",
    "plt.ylabel(\"Value Percent(%)\", fontsize = 20)\n",
    "plt.title(\"Total Missing Value by market_obs_df\", fontsize = 20)"
   ]
  },
  {
   "cell_type": "markdown",
   "metadata": {
    "_uuid": "aa00e31ac40e922c292478693d71b2d76ab0a44b"
   },
   "source": [
    "The types of missing values are the same, but the percentage is slightly different.\n",
    "- **market_train_df** : { returnsOpenPrevMktres10 : 2.284680 , returnsClosePrevMktres10 : 2.283599, returnsOpenPrevMktres1 : 0.392540 , returnsClosePrevMktres1 : 0.392344 }\n",
    "\n",
    "- **market_obs_df** : { returnsClosePrevMktres10 : 2.029622, returnsOpenPrevMktres10 : 2.029622, returnsOpenPrevMktres1 : 0.658256, returnsClosePrevMktres1 : 0.658256 }"
   ]
  },
  {
   "cell_type": "markdown",
   "metadata": {
    "_uuid": "adc8faf4ddd466c439cbeefa842f2b68b0e38640"
   },
   "source": [
    "- ### news"
   ]
  },
  {
   "cell_type": "code",
   "execution_count": null,
   "metadata": {
    "_uuid": "5aeca091ca3c5086763c623cf7305d190421de3e"
   },
   "outputs": [],
   "source": [
    "news_train_df['headlineTag'].unique()[0:5]"
   ]
  },
  {
   "cell_type": "markdown",
   "metadata": {
    "_uuid": "2b2e16778f3b09be7a3dcbc9bcd804c1df5f36f7"
   },
   "source": [
    "As shown above,, **`''`** is recognized as object. So we have to change  these values as missing."
   ]
  },
  {
   "cell_type": "code",
   "execution_count": null,
   "metadata": {
    "_uuid": "97463f52548ae8686913f3e28dfd890b89af0c4d"
   },
   "outputs": [],
   "source": [
    "# '' convert to NA\n",
    "for i in news_train_df.columns.values.tolist():\n",
    "    # Does NaN means no numbers, can '' be replaced with nan? I do not know this part.\n",
    "    news_train_df[i] = news_train_df[i].replace('', np.nan)  \n",
    "news_train_df['headlineTag'].unique()[0:5]\n",
    "# I think it would be faster if you just replace object and categorical variables(not int,float). How do I fix the code?"
   ]
  },
  {
   "cell_type": "code",
   "execution_count": null,
   "metadata": {
    "_uuid": "2d681e85c0753f96e2ab720ee94a92fab8e9e90d"
   },
   "outputs": [],
   "source": [
    "percent = (100 * news_train_df.isnull().sum() / news_train_df.shape[0]).sort_values(ascending=False)\n",
    "percent.plot(kind=\"bar\", figsize = (20,10), fontsize = 20)\n",
    "plt.xlabel(\"Columns\", fontsize = 20)\n",
    "plt.ylabel(\"Value Percent(%)\", fontsize = 20)\n",
    "plt.title(\"Total Missing Value by news_train_df\", fontsize = 20)"
   ]
  },
  {
   "cell_type": "code",
   "execution_count": null,
   "metadata": {
    "_uuid": "df864d05b4e4f394e92b210ac71658d288dcd8d9"
   },
   "outputs": [],
   "source": [
    "# '' convert to NA\n",
    "for i in news_obs_df.columns.values.tolist():\n",
    "    # Does NaN means no numbers, can '' be replaced with nan? I do not know this part.\n",
    "    news_obs_df[i] = news_obs_df[i].replace('', np.nan)"
   ]
  },
  {
   "cell_type": "code",
   "execution_count": null,
   "metadata": {
    "_uuid": "17fb1c4ea71ab792d011756c49f09a85ca8e4a26"
   },
   "outputs": [],
   "source": [
    "percent1 = (100 * news_obs_df.isnull().sum() / news_obs_df.shape[0]).sort_values(ascending=False)\n",
    "percent1.plot(kind=\"bar\", figsize = (20,10), fontsize = 20)\n",
    "plt.xlabel(\"Columns\", fontsize = 20)\n",
    "plt.ylabel(\"Value Percent(%)\", fontsize = 20)\n",
    "plt.title(\"Total Missing Value by news_obs_df\", fontsize = 20)"
   ]
  },
  {
   "cell_type": "markdown",
   "metadata": {
    "_uuid": "550927f21c69df8d7c50442fa1cb4214b9bfcd48"
   },
   "source": [
    "- `headlineTag`, both the train and the test are close to 70% missing. \n",
    "- `headline` has some missing values, but not the test."
   ]
  },
  {
   "cell_type": "markdown",
   "metadata": {
    "_uuid": "b806b0382aa4c65839fb5c8b4368d89b56aa9722"
   },
   "source": [
    "## 3.2 Number of unique values"
   ]
  },
  {
   "cell_type": "code",
   "execution_count": null,
   "metadata": {
    "_uuid": "cb17bec1bd047c0f1c8710e01194501927c02d1e",
    "scrolled": true
   },
   "outputs": [],
   "source": [
    "percent2 = (market_train_df.nunique()).sort_values(ascending=False)\n",
    "percent2.plot(kind=\"bar\", figsize = (20,10), fontsize = 20)\n",
    "plt.xlabel(\"Columns\", fontsize = 20)\n",
    "plt.ylabel(\"Unique Number\", fontsize = 20)\n",
    "plt.title(\"Unique Number by market_train_df\", fontsize = 20)"
   ]
  },
  {
   "cell_type": "code",
   "execution_count": null,
   "metadata": {
    "_uuid": "ad1d0f65a50700de294a0f632aad5c0a3d3061dd"
   },
   "outputs": [],
   "source": [
    "market_train_df.nunique()"
   ]
  },
  {
   "cell_type": "code",
   "execution_count": null,
   "metadata": {
    "_uuid": "25ae2293c461a89a4475a229e7a047f1a9e078bf"
   },
   "outputs": [],
   "source": [
    "percent2 = (market_obs_df.nunique()).sort_values(ascending=False)\n",
    "percent2.plot(kind=\"bar\", figsize = (20,10), fontsize = 20)\n",
    "plt.xlabel(\"Columns\", fontsize = 20)\n",
    "plt.ylabel(\"Unique Number\", fontsize = 20)\n",
    "plt.title(\"Unique Number by market_obs_df\", fontsize = 20)"
   ]
  },
  {
   "cell_type": "code",
   "execution_count": null,
   "metadata": {
    "_uuid": "c4819eb6f9c0e0a4b9b740df908da637ec7929e1"
   },
   "outputs": [],
   "source": [
    "market_obs_df.nunique()"
   ]
  },
  {
   "cell_type": "code",
   "execution_count": null,
   "metadata": {
    "_uuid": "50517d4eb79d6bbacd908b2d65a32a496f883ee8"
   },
   "outputs": [],
   "source": [
    "percent2 = (news_train_df.nunique()).sort_values(ascending=False)\n",
    "percent2.plot(kind=\"bar\", figsize = (20,10), fontsize = 20)\n",
    "plt.xlabel(\"Columns\", fontsize = 20)\n",
    "plt.ylabel(\"Unique Number\", fontsize = 20)\n",
    "plt.title(\"Unique Number by news_train_df\", fontsize = 20)"
   ]
  },
  {
   "cell_type": "code",
   "execution_count": null,
   "metadata": {
    "_uuid": "112ec23e80db9c098806f65818e4a8eceead14f5"
   },
   "outputs": [],
   "source": [
    "news_train_df.nunique()"
   ]
  },
  {
   "cell_type": "code",
   "execution_count": null,
   "metadata": {
    "_uuid": "6baf36bfab65d48d5fff89ef077b4296898857c5"
   },
   "outputs": [],
   "source": [
    "percent2 = (news_obs_df.nunique()).sort_values(ascending=False)\n",
    "percent2.plot(kind=\"bar\", figsize = (20,10), fontsize = 20)\n",
    "plt.xlabel(\"Columns\", fontsize = 20)\n",
    "plt.ylabel(\"Unique Number\", fontsize = 20)\n",
    "plt.title(\"Unique Number by news_obs_df\", fontsize = 20)"
   ]
  },
  {
   "cell_type": "code",
   "execution_count": null,
   "metadata": {
    "_uuid": "f0529c1ec40762e7486acfb87f430c57485d8b66"
   },
   "outputs": [],
   "source": [
    "news_obs_df.nunique()"
   ]
  },
  {
   "cell_type": "markdown",
   "metadata": {
    "_uuid": "77103cf56442f6996b547d34661a1961fbeef116"
   },
   "source": [
    "## 3.3 Object features"
   ]
  },
  {
   "cell_type": "code",
   "execution_count": null,
   "metadata": {
    "_uuid": "f21d1931dd6afbd53e804d6c94e3238fc7e7e79c"
   },
   "outputs": [],
   "source": [
    "features_object = [col for col in market_train_df.columns if market_train_df[col].dtype == 'object']\n",
    "features_object"
   ]
  },
  {
   "cell_type": "markdown",
   "metadata": {
    "_uuid": "95cdc066b2223aebc8da6c57ae998d802535f9aa"
   },
   "source": [
    "- assetCode(object) - a unique id of an asset"
   ]
  },
  {
   "cell_type": "code",
   "execution_count": null,
   "metadata": {
    "_uuid": "d350f26c248666254f52e00eedfd8d42d2a79129"
   },
   "outputs": [],
   "source": [
    "market_train_df['assetCode'].value_counts()"
   ]
  },
  {
   "cell_type": "code",
   "execution_count": null,
   "metadata": {
    "_uuid": "7dfb636bfc690b4d07bba429405fab26b9f10563"
   },
   "outputs": [],
   "source": [
    "features_object = [col for col in news_train_df.columns if news_train_df[col].dtype == 'object']\n",
    "features_object"
   ]
  },
  {
   "cell_type": "markdown",
   "metadata": {
    "_uuid": "4d68ee640abb4d252feec819acf9743894db608d"
   },
   "source": [
    "- sourceId(object) - an Id for each news item"
   ]
  },
  {
   "cell_type": "code",
   "execution_count": null,
   "metadata": {
    "_uuid": "fe63009f61f3b4716df133a3f65527329ed78450"
   },
   "outputs": [],
   "source": [
    "news_train_df['sourceId'].value_counts()"
   ]
  },
  {
   "cell_type": "markdown",
   "metadata": {
    "_uuid": "7765660a0558be3cf95de0d105d51d12a66602a2"
   },
   "source": [
    "- headline(object) - the item's headline"
   ]
  },
  {
   "cell_type": "code",
   "execution_count": null,
   "metadata": {
    "_uuid": "5baf738ce45ace6e4602a97d32ab3625bf53ac43"
   },
   "outputs": [],
   "source": [
    "news_train_df['headline'].value_counts()"
   ]
  },
  {
   "cell_type": "markdown",
   "metadata": {
    "_uuid": "54b5b2c00fb5039db7ab8d1d55547716498a3fc8"
   },
   "source": [
    "- headlineTag(object) - the Thomson Reuters headline tag for the news item"
   ]
  },
  {
   "cell_type": "code",
   "execution_count": null,
   "metadata": {
    "_uuid": "a2ae247e945514a5c3b29aec058ba9b4356e348c"
   },
   "outputs": [],
   "source": [
    "news_train_df['headlineTag'].value_counts()"
   ]
  },
  {
   "cell_type": "markdown",
   "metadata": {
    "_uuid": "13707e26654696c7301d995d420d9b469dbea2ec"
   },
   "source": [
    "## 3.4 Categorical features\n",
    "### Market\n",
    "- assetName(category) - the name that corresponds to a group of assetCodes. These may be \"Unknown\" if the corresponding assetCode does not have any rows in the news data.\n",
    "\n",
    "### News\n",
    "- provider(category) - identifier for the organization which provided the news item (e.g. RTRS for Reuters News, BSW for Business Wire)\n",
    "- subjects(category) - topic codes and company identifiers that relate to this news item. Topic codes describe the news item's subject matter. These can cover asset classes, geographies, events, industries/sectors, and other types.\n",
    "- audiences(category) - identifies which desktop news product(s) the news item belongs to. They are typically tailored to specific audiences. (e.g. \"M\" for Money International News Service and \"FB\" for French General News Service)\n",
    "- assetCodes(category) - list of assets mentioned in the item\n",
    "- assetName(category) - name of the asset"
   ]
  },
  {
   "cell_type": "code",
   "execution_count": null,
   "metadata": {
    "_uuid": "4da88236a50e10fe9ef240da1716dffad80d83d9"
   },
   "outputs": [],
   "source": [
    "news_train_df['provider'].value_counts()"
   ]
  },
  {
   "cell_type": "code",
   "execution_count": null,
   "metadata": {
    "_uuid": "d8bd097a43a43c9fbdc8edec734a2816e52be7cf"
   },
   "outputs": [],
   "source": [
    "news_train_df['subjects'].value_counts()"
   ]
  },
  {
   "cell_type": "code",
   "execution_count": null,
   "metadata": {
    "_uuid": "86158d79213936b07ac659a2e3d9891b127db1b2"
   },
   "outputs": [],
   "source": [
    "news_train_df['audiences'].value_counts()"
   ]
  },
  {
   "cell_type": "markdown",
   "metadata": {
    "_uuid": "a43016fd8f1f688b2633e4e9b38b525596714eac"
   },
   "source": [
    "## 3.5 Numeric features\n",
    "### Market\n",
    "- universe(float64) - a boolean indicating whether or not the instrument on that day will be included in scoring. This value is not provided outside of the training data time period. The trading universe on a given date is the set of instruments that are avilable for trading (the scoring function will not consider instruments that are not in the trading universe). The trading universe changes daily.\n",
    "- volume(float64) - trading volume in shares for the day\n",
    "- close(float64) - the close price for the day (not adjusted for splits or dividends)\n",
    "- open(float64) - the open price for the day (not adjusted for splits or dividends)\n",
    "- returnsClosePrevRaw1(float64) - see returns explanation above\n",
    "- returnsOpenPrevRaw1(float64) - see returns explanation above\n",
    "- returnsClosePrevMktres1(float64) - see returns explanation above\n",
    "- returnsOpenPrevMktres1(float64) - see returns explanation above\n",
    "- returnsClosePrevRaw10(float64) - see returns explanation above\n",
    "- returnsOpenPrevRaw10(float64) - see returns explanation above\n",
    "- returnsClosePrevMktres10(float64) - see returns explanation above\n",
    "- returnsOpenPrevMktres10(float64) - see returns explanation above\n",
    "- returnsOpenNextMktres10(float64) - 10 day, market-residualized return. This is the target variable used in competition scoring. The market data has been filtered such that returnsOpenNextMktres10 is always not null.\n",
    "\n",
    "\n",
    "### News\n",
    "- urgency(int8) - differentiates story types (1: alert, 3: article)\n",
    "- takeSequence(int16) - the take sequence number of the news item, starting at 1. For a given story, alerts and articles have separate sequences.\n",
    "- bodySize(int32) - the size of the current version of the story body in characters\n",
    "- companyCount(int8) - the number of companies explicitly listed in the news item in the subjects field\n",
    "- sentenceCount(int16) - the total number of sentences in the news item. Can be used in conjunction with firstMentionSentence to determine the relative position of the first mention in the item.\n",
    "- wordCount(int32) - the total number of lexical tokens (words and punctuation) in the news item\n",
    "- firstMentionSentence(int16) - the first sentence, starting with the headline, in which the scored asset is mentioned.\n",
    "    -  1: headline\n",
    "    - 2: first sentence of the story body\n",
    "    - 3: second sentence of the body, etc\n",
    "    - 0: the asset being scored was not found in the news item's headline or body text. As a result, the entire news item's text (headline + body) will be used to determine the sentiment score.\n",
    "- relevance(float32) - a decimal number indicating the relevance of the news item to the asset. It ranges from 0 to 1. If the asset is mentioned in the headline, the relevance is set to 1. When the item is an alert (urgency == 1), relevance should be gauged by firstMentionSentence instead.\n",
    "- sentimentClass(int8) - indicates the predominant sentiment class for this news item with respect to the asset. The indicated class is the one with the highest probability.\n",
    "- sentimentNegative(float32) - probability that the sentiment of the news item was negative for the asset\n",
    "- sentimentNeutral(float32) - probability that the sentiment of the news item was neutral for the asset\n",
    "- sentimentPositive(float32) - probability that the sentiment of the news item was positive for the asset\n",
    "- sentimentWordCount(int32) - the number of lexical tokens in the sections of the item text that are deemed relevant to the asset. This can be used in conjunction with wordCount to determine the proportion of the news item discussing the asset.\n",
    "- noveltyCount12H(int16) - The 12 hour novelty of the content within a news item on a particular asset. It is calculated by comparing it with the asset-specific text over a cache of previous news items that contain the asset.\n",
    "- noveltyCount24H(int16) - same as above, but for 24 hours\n",
    "- noveltyCount3D(int16) - same as above, but for 3 days\n",
    "- noveltyCount5D(int16) - same as above, but for 5 days\n",
    "- noveltyCount7D(int16) - same as above, but for 7 days\n",
    "- volumeCounts12H(int16) - the 12 hour volume of news for each asset. A cache of previous news items is maintained and the number of news items that mention the asset within each of five historical periods is calculated.\n",
    "- volumeCounts24H(int16) - same as above, but for 24 hours\n",
    "- volumeCounts3D(int16) - same as above, but for 3 days\n",
    "- volumeCounts5D(int16) - same as above, but for 5 days\n",
    "- volumeCounts7D(int16) - same as above, but for 7 days"
   ]
  },
  {
   "cell_type": "code",
   "execution_count": null,
   "metadata": {
    "_uuid": "52fa6adff96c49d1b2713a04c573be5076971723"
   },
   "outputs": [],
   "source": [
    "(market_train_df['universe']).describe()"
   ]
  },
  {
   "cell_type": "code",
   "execution_count": null,
   "metadata": {
    "_uuid": "6708eae8edb75d47876217f4b301148a025c11a2"
   },
   "outputs": [],
   "source": [
    "market_train_df['universe'].plot.hist(title = 'universe Histogram');\n",
    "plt.xlabel('universe');"
   ]
  },
  {
   "cell_type": "markdown",
   "metadata": {
    "_uuid": "dea8b1155765f8af4666552a6b57ea8d9222291e"
   },
   "source": [
    "## 3.6 Simple NLP"
   ]
  },
  {
   "cell_type": "code",
   "execution_count": null,
   "metadata": {
    "_uuid": "2e26ad49279f7fdcaa6397c2361540e72ca8c838",
    "scrolled": true
   },
   "outputs": [],
   "source": [
    "from sklearn.feature_extraction.text import CountVectorizer\n",
    "\n",
    "news_train_df.head()"
   ]
  },
  {
   "cell_type": "markdown",
   "metadata": {
    "_uuid": "659d810e73f5d79ae920af5469b15cacb4053c13"
   },
   "source": [
    "## headline\n",
    "- ### CountVectorizer"
   ]
  },
  {
   "cell_type": "code",
   "execution_count": null,
   "metadata": {
    "_uuid": "54726a302069842da9e9cf34f8a6c9f56e3d2d2c"
   },
   "outputs": [],
   "source": [
    "list(news_train_df['headline'])[0:5]"
   ]
  },
  {
   "cell_type": "code",
   "execution_count": null,
   "metadata": {
    "_kg_hide-input": true,
    "_uuid": "47cd89b0597fa05b6fdcb50ffe9462606b828598"
   },
   "outputs": [],
   "source": [
    "# CountVectorizer() env\n",
    "news_train_df['headline'] = news_train_df['headline'].replace(np.nan, '')\n",
    "news_train_df['headlineTag'] = news_train_df['headlineTag'].replace(np.nan, '')"
   ]
  },
  {
   "cell_type": "code",
   "execution_count": null,
   "metadata": {
    "_uuid": "d593ac54f785219e075492d68a949446d516988c"
   },
   "outputs": [],
   "source": [
    "vect = CountVectorizer()\n",
    "vect.fit(list(news_train_df['headline']))"
   ]
  },
  {
   "cell_type": "code",
   "execution_count": null,
   "metadata": {
    "_uuid": "e4a0ee1b122967e87db6f6ce0856e21bf42a3622"
   },
   "outputs": [],
   "source": [
    "list((vect.vocabulary_).items())[0:10]"
   ]
  },
  {
   "cell_type": "code",
   "execution_count": null,
   "metadata": {
    "_uuid": "761eb44fef9dfbc9f4b38df458a08a3e2aa56e71"
   },
   "outputs": [],
   "source": [
    "vect.vocabulary_ = sorted(vect.vocabulary_.items(), key=lambda x: x[1], reverse=True)"
   ]
  },
  {
   "cell_type": "code",
   "execution_count": null,
   "metadata": {
    "_uuid": "575d456d1be56b52f48126859e6f3e32e0a15e2c"
   },
   "outputs": [],
   "source": [
    "(vect.vocabulary_)[0:10]"
   ]
  },
  {
   "cell_type": "markdown",
   "metadata": {
    "_uuid": "0faa787bd0f3179ff3c786ec647c36c16b245413"
   },
   "source": [
    "- ### n-gram"
   ]
  },
  {
   "cell_type": "code",
   "execution_count": null,
   "metadata": {
    "_uuid": "d10450e88f059e84a822b64244020d58e6b76660"
   },
   "outputs": [],
   "source": [
    "vect1 = CountVectorizer(ngram_range=(2, 2))\n",
    "vect1.fit(list(news_train_df['headline']))"
   ]
  },
  {
   "cell_type": "code",
   "execution_count": null,
   "metadata": {
    "_uuid": "f76c5ad433ca8a4e5c9030bd6af06257033634c1"
   },
   "outputs": [],
   "source": [
    "list((vect1.vocabulary_).items())[0:10]"
   ]
  },
  {
   "cell_type": "code",
   "execution_count": null,
   "metadata": {
    "_uuid": "f895203218a03e8d3f5e66cb5c3a51d4b21a96b9"
   },
   "outputs": [],
   "source": [
    "vect1.vocabulary_ = sorted(vect1.vocabulary_.items(), key=lambda x: x[1], reverse=True)"
   ]
  },
  {
   "cell_type": "code",
   "execution_count": null,
   "metadata": {
    "_uuid": "5519d1a09ba3272dc9aef9b11d060f3048f03ec1"
   },
   "outputs": [],
   "source": [
    "(vect1.vocabulary_)[0:10]"
   ]
  },
  {
   "cell_type": "markdown",
   "metadata": {
    "_uuid": "5ae2210169aa230679c04f629a72dd664d310eff"
   },
   "source": [
    "- NLP is the first time I'll study a little more and upload the kernel."
   ]
  },
  {
   "cell_type": "markdown",
   "metadata": {
    "_uuid": "5cea88f699b03db3a7da3e2cdb79fa44919a7688"
   },
   "source": [
    "# 4. Time-Series Analysis some Stock"
   ]
  },
  {
   "cell_type": "markdown",
   "metadata": {
    "_uuid": "d64e8fc2a47c123aa8e9ec1eb1d3244b22e10357"
   },
   "source": [
    "**train_df :** 2007-02-01 ~ 2016-12-30\n",
    "\n",
    "**test_df:** 2017-01-03"
   ]
  },
  {
   "cell_type": "code",
   "execution_count": null,
   "metadata": {
    "_uuid": "93411703a08acfd73f8d197a5ea92fca4c965e0f"
   },
   "outputs": [],
   "source": [
    "market_train_df.time.head()"
   ]
  },
  {
   "cell_type": "code",
   "execution_count": null,
   "metadata": {
    "_uuid": "5293290ae6b89f109a31ec523ef77d600b0a4b53"
   },
   "outputs": [],
   "source": [
    "market_train_df.time.tail()"
   ]
  },
  {
   "cell_type": "code",
   "execution_count": null,
   "metadata": {
    "_uuid": "2e5579ef25ea28b9f012e2a33552b18372c8009c"
   },
   "outputs": [],
   "source": [
    "market_obs_df.time.head()"
   ]
  },
  {
   "cell_type": "code",
   "execution_count": null,
   "metadata": {
    "_uuid": "bc5dd8d2dadadb7495751eca6a48b89390b1ce1f"
   },
   "outputs": [],
   "source": [
    "market_obs_df.time.tail()"
   ]
  },
  {
   "cell_type": "code",
   "execution_count": null,
   "metadata": {
    "_uuid": "291f5689c3d0e79c0a014cb5f3c3cc0491f80746"
   },
   "outputs": [],
   "source": [
    "def change_date_to_datetime(x):\n",
    "    str_time = str(x)\n",
    "    date = '{}-{}-{}'.format(str_time[:4], str_time[5:7], str_time[8:10])\n",
    "    return date\n",
    "\n",
    "market_train_df['date'] = market_train_df['time'].apply(change_date_to_datetime)"
   ]
  },
  {
   "cell_type": "code",
   "execution_count": null,
   "metadata": {
    "_uuid": "8693919e166f545889ac0fde1febe4dd50352e57"
   },
   "outputs": [],
   "source": [
    "def add_time_feature(data):\n",
    "    data['date'] = pd.to_datetime(data['date'])\n",
    "    data['Year'] = data.date.dt.year\n",
    "    data['Month'] = data.date.dt.month\n",
    "    data['Day'] = data.date.dt.day\n",
    "    data['WeekOfYear'] = data.date.dt.weekofyear\n",
    "    return data\n",
    "\n",
    "market_train_df = add_time_feature(market_train_df)"
   ]
  },
  {
   "cell_type": "markdown",
   "metadata": {
    "_uuid": "0c442bafe3db67e84f90746765153e45e44a9f75"
   },
   "source": [
    "### Top 10 Largest Assets code by Open, Close, Volume value"
   ]
  },
  {
   "cell_type": "code",
   "execution_count": null,
   "metadata": {
    "_uuid": "9046b9c4e2661a2e47c9b2282fcfe86185c06fbe"
   },
   "outputs": [],
   "source": [
    "best_asset_open = market_train_df.groupby(\"assetCode\")[\"open\"].count().to_frame().sort_values(by=['open'],ascending= False)\n",
    "best_asset_open = best_asset_open.sort_values(by=['open'])\n",
    "largest_by_open = list(best_asset_open.nlargest(10, ['open']).index)\n",
    "\n",
    "best_asset_close = market_train_df.groupby(\"assetCode\")[\"close\"].count().to_frame().sort_values(by=['close'],ascending= False)\n",
    "best_asset_close = best_asset_close.sort_values(by=['close'])\n",
    "largest_by_close = list(best_asset_close.nlargest(10, ['close']).index)\n",
    "\n",
    "best_asset_volume = market_train_df.groupby(\"assetCode\")[\"volume\"].count().to_frame().sort_values(by=['volume'],ascending= False)\n",
    "best_asset_volume = best_asset_volume.sort_values(by=['volume'])\n",
    "largest_by_volume = list(best_asset_volume.nlargest(10, ['volume']).index)"
   ]
  },
  {
   "cell_type": "code",
   "execution_count": null,
   "metadata": {
    "_uuid": "6d25e656ab2c9f8cea4c880f8336c0271c4d32e5"
   },
   "outputs": [],
   "source": [
    "print(largest_by_open)\n",
    "print(largest_by_close)\n",
    "print(largest_by_volume)"
   ]
  },
  {
   "cell_type": "markdown",
   "metadata": {
    "_uuid": "587bfa7e7f3a845f9f0ba8b1ea7fe77d5a83298d"
   },
   "source": [
    "- Top 10 open, close, volume same.\n",
    "- Top 10 assetName : \n",
    "*Cardinal Health Inc, Conagra Brands Inc, UnitedHealth Group Inc, Unilever PLC, Cameco Corp, Tim Participacoes SA, Universal Health Services Inc, \tTyson Foods Inc, CMS Energy Corp*\n"
   ]
  },
  {
   "cell_type": "markdown",
   "metadata": {
    "_uuid": "f0f9405279fb01f01e42fddb9743690106fdc2f7"
   },
   "source": [
    "### Asset - Conagra Brands Inc, Apple Inc\n",
    "The code that implements the candle chart refers to this kernel. (https://www.kaggle.com/pestipeti/simple-eda-two-sigma)"
   ]
  },
  {
   "cell_type": "code",
   "execution_count": null,
   "metadata": {
    "_kg_hide-input": true,
    "_kg_hide-output": true,
    "_uuid": "50afe9f40f2f246b387a6febf5ce223a25c9b697"
   },
   "outputs": [],
   "source": [
    "import plotly.offline as py\n",
    "py.init_notebook_mode(connected=True)\n",
    "import plotly.graph_objs as go\n",
    "import plotly.tools as tls"
   ]
  },
  {
   "cell_type": "code",
   "execution_count": null,
   "metadata": {
    "_kg_hide-input": true,
    "_uuid": "3de8cee0a8c6e61c12b800e9fbd621cdf4ab7f6f"
   },
   "outputs": [],
   "source": [
    "asset1Code = 'CAH.N'\n",
    "asset1_df = market_train_df[(market_train_df['assetCode'] == asset1Code) & (market_train_df['time'] > '2015-01-01') & (market_train_df['time'] < '2017-01-01')]\n",
    "\n",
    "asset1_df['high'] = asset1_df['open']\n",
    "asset1_df['low'] = asset1_df['close']\n",
    "\n",
    "for ind, row in asset1_df.iterrows():\n",
    "    if row['close'] > row['open']:\n",
    "        asset1_df.loc[ind, 'high'] = row['close']\n",
    "        asset1_df.loc[ind, 'low'] = row['open']\n",
    "\n",
    "trace1 = go.Candlestick(\n",
    "    x = asset1_df['time'].dt.strftime(date_format='%Y-%m-%d').values,\n",
    "    open = asset1_df['open'].values,\n",
    "    low = asset1_df['low'].values,\n",
    "    high = asset1_df['high'].values,\n",
    "    close = asset1_df['close'].values\n",
    ")\n",
    "\n",
    "layout = dict(title = \"Candlestick chart for {}\".format(asset1Code),\n",
    "              xaxis = dict(\n",
    "                  title = 'Month',\n",
    "                  rangeslider = dict(visible = False)\n",
    "              ),\n",
    "              yaxis = dict(title = 'Price (USD)')\n",
    "             )\n",
    "data = [trace1]\n",
    "\n",
    "py.iplot(dict(data=data, layout=layout), filename='basic-line')"
   ]
  },
  {
   "cell_type": "code",
   "execution_count": null,
   "metadata": {
    "_kg_hide-input": true,
    "_uuid": "480603144d81048765cd847b6f5935b749d9284d"
   },
   "outputs": [],
   "source": [
    "asset1_df = market_train_df[(market_train_df['assetCode'] == 'CAH.N') & (market_train_df['time'] > '2015-01-01') & (market_train_df['time'] < '2017-01-01')]\n",
    "    # Create a trace\n",
    "trace1 = go.Scatter(\n",
    "        x = asset1_df['time'].dt.strftime(date_format='%Y-%m-%d').values,\n",
    "        y = asset1_df['open'].values\n",
    "    )\n",
    "\n",
    "layout = dict(title = \"Open prices of CAH.N\",\n",
    "                  xaxis = dict(title = 'Month'),\n",
    "                  yaxis = dict(title = 'Price (USD)'),\n",
    "                  )\n",
    "data = [trace1]\n",
    "py.iplot(dict(data=data, layout=layout), filename='basic-line')"
   ]
  },
  {
   "cell_type": "code",
   "execution_count": null,
   "metadata": {
    "_kg_hide-input": true,
    "_uuid": "1c9d6275986795729fd2f5ece00213746682e00d"
   },
   "outputs": [],
   "source": [
    "asset1_df = market_train_df[(market_train_df['assetCode'] == 'CAH.N') & (market_train_df['time'] > '2015-01-01') & (market_train_df['time'] < '2017-01-01')]\n",
    "    # Create a trace\n",
    "trace1 = go.Scatter(\n",
    "        x = asset1_df['time'].dt.strftime(date_format='%Y-%m-%d').values,\n",
    "        y = asset1_df['close'].values\n",
    "    )\n",
    "\n",
    "layout = dict(title = \"Closing prices of CAH.N\",\n",
    "                  xaxis = dict(title = 'Month'),\n",
    "                  yaxis = dict(title = 'Price (USD)'),\n",
    "                  )\n",
    "data = [trace1]\n",
    "py.iplot(dict(data=data, layout=layout), filename='basic-line')"
   ]
  },
  {
   "cell_type": "code",
   "execution_count": null,
   "metadata": {
    "_kg_hide-input": true,
    "_uuid": "700ee630f436a5ac5b7563d41f723fc7b0606761"
   },
   "outputs": [],
   "source": [
    "asset1_df = market_train_df[(market_train_df['assetCode'] == 'CAH.N') & (market_train_df['time'] > '2015-01-01') & (market_train_df['time'] < '2017-01-01')]\n",
    "    # Create a trace\n",
    "trace1 = go.Scatter(\n",
    "        x = asset1_df['time'].dt.strftime(date_format='%Y-%m-%d').values,\n",
    "        y = asset1_df['volume'].values\n",
    "    )\n",
    "\n",
    "layout = dict(title = \"Volume of CAH.N\",\n",
    "                  xaxis = dict(title = 'Month'),\n",
    "                  yaxis = dict(title = 'Price (USD)'),\n",
    "                  )\n",
    "data = [trace1]\n",
    "py.iplot(dict(data=data, layout=layout), filename='basic-line')"
   ]
  },
  {
   "cell_type": "code",
   "execution_count": null,
   "metadata": {
    "_kg_hide-input": true,
    "_uuid": "313efecb6263d44e69443c6f0b5bbe8929425ead"
   },
   "outputs": [],
   "source": [
    "asset1Code = 'AAPL.O'\n",
    "asset1_df = market_train_df[(market_train_df['assetCode'] == asset1Code) & (market_train_df['time'] > '2015-01-01') & (market_train_df['time'] < '2017-01-01')]\n",
    "\n",
    "asset1_df['high'] = asset1_df['open']\n",
    "asset1_df['low'] = asset1_df['close']\n",
    "\n",
    "for ind, row in asset1_df.iterrows():\n",
    "    if row['close'] > row['open']:\n",
    "        asset1_df.loc[ind, 'high'] = row['close']\n",
    "        asset1_df.loc[ind, 'low'] = row['open']\n",
    "\n",
    "trace1 = go.Candlestick(\n",
    "    x = asset1_df['time'].dt.strftime(date_format='%Y-%m-%d').values,\n",
    "    open = asset1_df['open'].values,\n",
    "    low = asset1_df['low'].values,\n",
    "    high = asset1_df['high'].values,\n",
    "    close = asset1_df['close'].values\n",
    ")\n",
    "\n",
    "layout = dict(title = \"Candlestick chart for {}\".format(asset1Code),\n",
    "              xaxis = dict(\n",
    "                  title = 'Month',\n",
    "                  rangeslider = dict(visible = False)\n",
    "              ),\n",
    "              yaxis = dict(title = 'Price (USD)')\n",
    "             )\n",
    "data = [trace1]\n",
    "\n",
    "py.iplot(dict(data=data, layout=layout), filename='basic-line')"
   ]
  },
  {
   "cell_type": "code",
   "execution_count": null,
   "metadata": {
    "_kg_hide-input": true,
    "_uuid": "4d3bfa854ae52d225e2a8278344acc1e0522e39f"
   },
   "outputs": [],
   "source": [
    "asset1_df = market_train_df[(market_train_df['assetCode'] == 'AAPL.O') & (market_train_df['time'] > '2015-01-01') & (market_train_df['time'] < '2017-01-01')]\n",
    "    # Create a trace\n",
    "trace1 = go.Scatter(\n",
    "        x = asset1_df['time'].dt.strftime(date_format='%Y-%m-%d').values,\n",
    "        y = asset1_df['open'].values\n",
    "    )\n",
    "\n",
    "layout = dict(title = \"Open prices of AAPL.O\",\n",
    "                  xaxis = dict(title = 'Month'),\n",
    "                  yaxis = dict(title = 'Price (USD)'),\n",
    "                  )\n",
    "data = [trace1]\n",
    "py.iplot(dict(data=data, layout=layout), filename='basic-line')"
   ]
  },
  {
   "cell_type": "code",
   "execution_count": null,
   "metadata": {
    "_kg_hide-input": true,
    "_uuid": "d186624861f082044b07c0834a32b5058fc3ed62"
   },
   "outputs": [],
   "source": [
    "asset1_df = market_train_df[(market_train_df['assetCode'] == 'AAPL.O') & (market_train_df['time'] > '2015-01-01') & (market_train_df['time'] < '2017-01-01')]\n",
    "    # Create a trace\n",
    "trace1 = go.Scatter(\n",
    "        x = asset1_df['time'].dt.strftime(date_format='%Y-%m-%d').values,\n",
    "        y = asset1_df['close'].values\n",
    "    )\n",
    "\n",
    "layout = dict(title = \"Closing prices of AAPL.O\",\n",
    "                  xaxis = dict(title = 'Month'),\n",
    "                  yaxis = dict(title = 'Price (USD)'),\n",
    "                  )\n",
    "data = [trace1]\n",
    "py.iplot(dict(data=data, layout=layout), filename='basic-line')"
   ]
  },
  {
   "cell_type": "code",
   "execution_count": null,
   "metadata": {
    "_kg_hide-input": true,
    "_uuid": "bcfbca5002bac5f47230463c4d5156e2ddd55ec5"
   },
   "outputs": [],
   "source": [
    "asset1_df = market_train_df[(market_train_df['assetCode'] == 'AAPL.O') & (market_train_df['time'] > '2015-01-01') & (market_train_df['time'] < '2017-01-01')]\n",
    "    # Create a trace\n",
    "trace1 = go.Scatter(\n",
    "        x = asset1_df['time'].dt.strftime(date_format='%Y-%m-%d').values,\n",
    "        y = asset1_df['volume'].values\n",
    "    )\n",
    "\n",
    "layout = dict(title = \"Volume of AAPL.O\",\n",
    "                  xaxis = dict(title = 'Month'),\n",
    "                  yaxis = dict(title = 'Price (USD)'),\n",
    "                  )\n",
    "data = [trace1]\n",
    "py.iplot(dict(data=data, layout=layout), filename='basic-line')"
   ]
  },
  {
   "cell_type": "markdown",
   "metadata": {
    "_uuid": "55c7418c26d1a270970e4bdddbac97d53d08e192"
   },
   "source": [
    "### ECDF: empirical cumulative distribution function\n",
    "\n",
    "To get the first impression about continious variables in the data we can plot ECDF."
   ]
  },
  {
   "cell_type": "code",
   "execution_count": null,
   "metadata": {
    "_uuid": "a095ef558ad16df08f2478b44a1b57c2c8277eec"
   },
   "outputs": [],
   "source": [
    "# data visualization\n",
    "import matplotlib.pyplot as plt\n",
    "import seaborn as sns # advanced vizs\n",
    "%matplotlib inline\n",
    "\n",
    "# statistics\n",
    "from statsmodels.distributions.empirical_distribution import ECDF\n",
    "\n",
    "# time series analysis\n",
    "from statsmodels.tsa.seasonal import seasonal_decompose\n",
    "from statsmodels.graphics.tsaplots import plot_acf, plot_pacf\n",
    "\n",
    "# prophet by Facebook\n",
    "from fbprophet import Prophet"
   ]
  },
  {
   "cell_type": "code",
   "execution_count": null,
   "metadata": {
    "_uuid": "2bb58ace519b194efb3c0ca68a8aab731fdb749d"
   },
   "outputs": [],
   "source": [
    "sns.set(style = \"ticks\")# to format into seaborn \n",
    "c = '#386B7F' # basic color for plots\n",
    "plt.figure(figsize = (12, 6))\n",
    "\n",
    "plt.subplot(311)\n",
    "cdf = ECDF(market_train_df['volume'])\n",
    "plt.plot(cdf.x, cdf.y, label = \"statmodels\", color = c);\n",
    "plt.xlabel(''); plt.ylabel('ECDF');\n",
    "\n",
    "# plot second ECDF  \n",
    "plt.subplot(312)\n",
    "cdf = ECDF(market_train_df['open'])\n",
    "plt.plot(cdf.x, cdf.y, label = \"statmodels\", color = c);\n",
    "plt.xlabel('');plt.ylabel('ECDF');\n",
    "\n",
    "# plot second ECDF  \n",
    "plt.subplot(313)\n",
    "cdf = ECDF(market_train_df['close'])\n",
    "plt.plot(cdf.x, cdf.y, label = \"statmodels\", color = c);\n",
    "plt.xlabel('');plt.ylabel('ECDF');"
   ]
  },
  {
   "cell_type": "code",
   "execution_count": null,
   "metadata": {
    "_uuid": "c5711ec75ebfee93ece3f75a25a1bd42f3871533"
   },
   "outputs": [],
   "source": [
    "market_train_df[(market_train_df.assetCode=='A.N')].head()"
   ]
  },
  {
   "cell_type": "markdown",
   "metadata": {
    "_uuid": "2b100048c5e2ae333e77f60e0281ba140422b4e5"
   },
   "source": [
    "### Seasonality"
   ]
  },
  {
   "cell_type": "code",
   "execution_count": null,
   "metadata": {
    "_uuid": "c1891d31b67f51a77cdbd105565d811cce523791"
   },
   "outputs": [],
   "source": [
    "voluem_an = np.transpose(pd.DataFrame([(market_train_df[(market_train_df.assetCode=='A.N')]).set_index('date')['volume']]))"
   ]
  },
  {
   "cell_type": "code",
   "execution_count": null,
   "metadata": {
    "_uuid": "1745cc94e921a180c04bcbadfb7b1f20663f792e"
   },
   "outputs": [],
   "source": [
    "voluem_an = np.transpose(pd.DataFrame([(market_train_df[(market_train_df.assetCode=='A.N')]).set_index('date')['volume']]))\n",
    "open_an = np.transpose(pd.DataFrame([(market_train_df[(market_train_df.assetCode=='A.N')]).set_index('date')['open']]))\n",
    "close_an = np.transpose(pd.DataFrame([(market_train_df[(market_train_df.assetCode=='A.N')]).set_index('date')['close']]))\n",
    "\n",
    "f, (ax1, ax2, ax3) = plt.subplots(3, figsize = (12, 13))\n",
    "\n",
    "# store types\n",
    "voluem_an.resample('W').sum().plot(color = c, ax = ax1)\n",
    "open_an.resample('W').sum().plot(color = c, ax = ax2)\n",
    "close_an.resample('W').sum().plot(color = c, ax = ax3)"
   ]
  },
  {
   "cell_type": "markdown",
   "metadata": {
    "_uuid": "abb3c33765f40de170b44016df5eb7a19687d1c0"
   },
   "source": [
    "### Yearly"
   ]
  },
  {
   "cell_type": "code",
   "execution_count": null,
   "metadata": {
    "_uuid": "5bab415773a30ea81a14cd9f7a9c9f439e21c222"
   },
   "outputs": [],
   "source": [
    "f, (ax1, ax2, ax3) = plt.subplots(3, figsize = (12, 13))\n",
    "\n",
    "# monthly\n",
    "decomposition_a = seasonal_decompose(voluem_an, model = 'additive', freq = 365)\n",
    "decomposition_a.trend.plot(color = c, ax = ax1)\n",
    "\n",
    "decomposition_b = seasonal_decompose(open_an, model = 'additive', freq = 365)\n",
    "decomposition_b.trend.plot(color = c, ax = ax2)\n",
    "\n",
    "decomposition_c = seasonal_decompose(close_an, model = 'additive', freq = 365)\n",
    "decomposition_c.trend.plot(color = c, ax = ax3)"
   ]
  },
  {
   "cell_type": "markdown",
   "metadata": {
    "_uuid": "0f6e1dd49ffbd9dda69640aedb6e057084ccde3e"
   },
   "source": [
    "### Autocorrelaion"
   ]
  },
  {
   "cell_type": "code",
   "execution_count": null,
   "metadata": {
    "_uuid": "a49f9115620ecdd6759f4aecc932894d697d381f"
   },
   "outputs": [],
   "source": [
    "# figure for subplots\n",
    "plt.figure(figsize = (12, 8))\n",
    "\n",
    "# acf and pacf for volume\n",
    "plt.subplot(321); plot_acf(voluem_an, lags = 50, ax = plt.gca(), color = c)\n",
    "plt.subplot(322); plot_pacf(voluem_an, lags = 50, ax = plt.gca(), color = c)\n",
    "\n",
    "# acf and pacf for open\n",
    "plt.subplot(323); plot_acf(open_an, lags = 50, ax = plt.gca(), color = c)\n",
    "plt.subplot(324); plot_pacf(open_an, lags = 50, ax = plt.gca(), color = c)\n",
    "\n",
    "# acf and pacf for close\n",
    "plt.subplot(325); plot_acf(close_an, lags = 50, ax = plt.gca(), color = c)\n",
    "plt.subplot(326); plot_pacf(close_an, lags = 50, ax = plt.gca(), color = c)\n",
    "\n",
    "plt.show()"
   ]
  },
  {
   "cell_type": "markdown",
   "metadata": {
    "_uuid": "1a2d58ea67162a48b2c82780ad1d8c5cf88dfef5"
   },
   "source": [
    "### Time Series Analysis and Forecasting with Prophet\n",
    "\n",
    "The Core Data Science team at Facebook recently published a new procedure for forecasting time series data called Prophet. It is based on an additive model where non-linear trends are fit with yearly and weekly seasonality, plus holidays. It enables performing automated forecasting which are already implemented in R at scale in Python 3."
   ]
  },
  {
   "cell_type": "code",
   "execution_count": null,
   "metadata": {
    "_uuid": "3c88f23d4a6e3f0e9797460cdaeed4d3124f8b37"
   },
   "outputs": [],
   "source": [
    "df = market_train_df[(market_train_df[\"assetCode\"] == 'A.N')]\n",
    "\n",
    "volume = df.loc[:, ['date', 'volume']]\n",
    "\n",
    "# reverse to the order: from 2013 to 2015\n",
    "volume = volume.sort_index(ascending = True)\n",
    "\n",
    "# to datetime64\n",
    "volume['date'] = pd.DatetimeIndex(volume['date'])\n",
    "volume.dtypes\n",
    "\n",
    "# from the prophet documentation every variables should have specific names\n",
    "volume = volume.rename(columns = {'date': 'ds',\n",
    "                                'volume': 'y'})\n",
    "volume.head()"
   ]
  },
  {
   "cell_type": "code",
   "execution_count": null,
   "metadata": {
    "_uuid": "74635a22b4a5f3c0f9347ba9f851cf89564e7e61"
   },
   "outputs": [],
   "source": [
    "# plot daily sales\n",
    "ax = volume.set_index('ds').plot(figsize = (12, 4), color = c)\n",
    "ax.set_ylabel('Daily volume of A.N')\n",
    "ax.set_xlabel('Date')\n",
    "plt.show()"
   ]
  },
  {
   "cell_type": "code",
   "execution_count": null,
   "metadata": {
    "_uuid": "11a0248bd8ddc85ed00474234165b0ead2cda719"
   },
   "outputs": [],
   "source": [
    "# set the uncertainty interval to 95% (the Prophet default is 80%)\n",
    "my_model = Prophet(interval_width = 0.95)\n",
    "my_model.fit(volume)\n",
    "\n",
    "# dataframe that extends into future 6 weeks \n",
    "future_dates = my_model.make_future_dataframe(periods = 1)\n",
    "\n",
    "print(\"First day to forecast.\")\n",
    "future_dates\n",
    "\n",
    "# predictions\n",
    "forecast = my_model.predict(future_dates)\n",
    "\n",
    "# preditions for last week\n",
    "forecast[['ds', 'yhat', 'yhat_lower', 'yhat_upper']]"
   ]
  },
  {
   "cell_type": "code",
   "execution_count": null,
   "metadata": {
    "_uuid": "a453ad616cc1c8a4b32afc7125789428e2b2e49c"
   },
   "outputs": [],
   "source": [
    "fc = forecast[['ds', 'yhat']].rename(columns = {'Date': 'ds', 'Forecast': 'yhat'})"
   ]
  },
  {
   "cell_type": "code",
   "execution_count": null,
   "metadata": {
    "_uuid": "ab3592036e49126bf75059ad363d5efafd55379a"
   },
   "outputs": [],
   "source": [
    "my_model.plot(forecast);"
   ]
  },
  {
   "cell_type": "code",
   "execution_count": null,
   "metadata": {
    "_uuid": "1adec001225b66019712aee372af3fb062bddfbf"
   },
   "outputs": [],
   "source": [
    "my_model.plot_components(forecast);"
   ]
  },
  {
   "cell_type": "markdown",
   "metadata": {
    "_uuid": "57306180c3f45854d0c372ac7877e8c32a1f40e2"
   },
   "source": [
    "**Note :** I am still a student and there are many deficiencies. If there is a part that you think is insufficient or you think that you want to add, please give advice. Note that I will update the kernel. If this kernel is helpful, please upvote.\n"
   ]
  }
 ],
 "metadata": {
  "kernelspec": {
   "display_name": "Python 2",
   "language": "python",
   "name": "python2"
  },
  "language_info": {
   "codemirror_mode": {
    "name": "ipython",
    "version": 2
   },
   "file_extension": ".py",
   "mimetype": "text/x-python",
   "name": "python",
   "nbconvert_exporter": "python",
   "pygments_lexer": "ipython2",
   "version": "2.7.15"
  }
 },
 "nbformat": 4,
 "nbformat_minor": 1
}
